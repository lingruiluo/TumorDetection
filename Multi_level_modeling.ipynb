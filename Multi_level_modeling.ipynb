{
  "nbformat": 4,
  "nbformat_minor": 0,
  "metadata": {
    "accelerator": "GPU",
    "colab": {
      "name": "Multi_level_modeling.ipynb",
      "provenance": [],
      "collapsed_sections": [],
      "toc_visible": true
    },
    "kernelspec": {
      "display_name": "Python 3",
      "name": "python3"
    }
  },
  "cells": [
    {
      "cell_type": "code",
      "metadata": {
        "colab": {
          "base_uri": "https://localhost:8080/"
        },
        "id": "aSVyBuq7LPct",
        "outputId": "b6aef79f-71b9-4048-b417-e6d141b49e40"
      },
      "source": [
        "# Install the OpenSlide C library and Python bindings\n",
        "# After installing these libraries, use `Runtime -> restart and run all` on the menu\n",
        "!apt-get install openslide-tools\n",
        "!pip install openslide-python"
      ],
      "execution_count": 1,
      "outputs": [
        {
          "output_type": "stream",
          "text": [
            "Reading package lists... Done\n",
            "Building dependency tree       \n",
            "Reading state information... Done\n",
            "The following additional packages will be installed:\n",
            "  libopenslide0\n",
            "Suggested packages:\n",
            "  libtiff-tools\n",
            "The following NEW packages will be installed:\n",
            "  libopenslide0 openslide-tools\n",
            "0 upgraded, 2 newly installed, 0 to remove and 14 not upgraded.\n",
            "Need to get 92.5 kB of archives.\n",
            "After this operation, 268 kB of additional disk space will be used.\n",
            "Get:1 http://archive.ubuntu.com/ubuntu bionic/universe amd64 libopenslide0 amd64 3.4.1+dfsg-2 [79.8 kB]\n",
            "Get:2 http://archive.ubuntu.com/ubuntu bionic/universe amd64 openslide-tools amd64 3.4.1+dfsg-2 [12.7 kB]\n",
            "Fetched 92.5 kB in 0s (206 kB/s)\n",
            "Selecting previously unselected package libopenslide0.\n",
            "(Reading database ... 144865 files and directories currently installed.)\n",
            "Preparing to unpack .../libopenslide0_3.4.1+dfsg-2_amd64.deb ...\n",
            "Unpacking libopenslide0 (3.4.1+dfsg-2) ...\n",
            "Selecting previously unselected package openslide-tools.\n",
            "Preparing to unpack .../openslide-tools_3.4.1+dfsg-2_amd64.deb ...\n",
            "Unpacking openslide-tools (3.4.1+dfsg-2) ...\n",
            "Setting up libopenslide0 (3.4.1+dfsg-2) ...\n",
            "Setting up openslide-tools (3.4.1+dfsg-2) ...\n",
            "Processing triggers for libc-bin (2.27-3ubuntu1.2) ...\n",
            "/sbin/ldconfig.real: /usr/local/lib/python3.6/dist-packages/ideep4py/lib/libmkldnn.so.0 is not a symbolic link\n",
            "\n",
            "Processing triggers for man-db (2.8.3-2ubuntu0.1) ...\n",
            "Collecting openslide-python\n",
            "\u001b[?25l  Downloading https://files.pythonhosted.org/packages/03/da/12dc0e7566ace61a5a65244220458dcb656b09cbf18ca50f3098875d97e4/openslide-python-1.1.2.tar.gz (316kB)\n",
            "\u001b[K     |████████████████████████████████| 317kB 14.3MB/s \n",
            "\u001b[?25hRequirement already satisfied: Pillow in /usr/local/lib/python3.6/dist-packages (from openslide-python) (7.0.0)\n",
            "Building wheels for collected packages: openslide-python\n",
            "  Building wheel for openslide-python (setup.py) ... \u001b[?25l\u001b[?25hdone\n",
            "  Created wheel for openslide-python: filename=openslide_python-1.1.2-cp36-cp36m-linux_x86_64.whl size=26718 sha256=156edf0486391214e1899281dadde133ebb1f32121e537d8794d79dd57b9ad29\n",
            "  Stored in directory: /root/.cache/pip/wheels/6b/55/74/ba9d3dcc2c5c0f1282e08bae70df0ed57b496fb6b5c8f1adc9\n",
            "Successfully built openslide-python\n",
            "Installing collected packages: openslide-python\n",
            "Successfully installed openslide-python-1.1.2\n"
          ],
          "name": "stdout"
        }
      ]
    },
    {
      "cell_type": "code",
      "metadata": {
        "id": "bv1xdoXELUGQ"
      },
      "source": [
        "%matplotlib inline\n",
        "import matplotlib.pyplot as plt\n",
        "import numpy as np\n",
        "from openslide import open_slide, __library_version__ as openslide_version\n",
        "import os\n",
        "from PIL import Image\n",
        "from skimage.color import rgb2gray\n",
        "import random\n",
        "import pandas as pd\n",
        "import tensorflow as tf\n",
        "from sklearn.metrics import classification_report"
      ],
      "execution_count": 2,
      "outputs": []
    },
    {
      "cell_type": "code",
      "metadata": {
        "colab": {
          "base_uri": "https://localhost:8080/"
        },
        "id": "i7zudBw3LWzp",
        "outputId": "b9490f64-712e-4b28-c346-e665d717c00f"
      },
      "source": [
        "from google.colab import drive\n",
        "drive.mount('/content/drive')"
      ],
      "execution_count": 3,
      "outputs": [
        {
          "output_type": "stream",
          "text": [
            "Mounted at /content/drive\n"
          ],
          "name": "stdout"
        }
      ]
    },
    {
      "cell_type": "code",
      "metadata": {
        "id": "CzNeu2tRLY2U"
      },
      "source": [
        "def make_dir(base_path, level):\n",
        "    level_dir = f'{base_path}{level}level'\n",
        "    if not os.path.exists(level_dir):\n",
        "        os.mkdir(level_dir)\n",
        "    train_image_dir = os.path.join(level_dir,'train_image/')\n",
        "    train_mask_dir = os.path.join(level_dir,'train_mask/')\n",
        "\n",
        "    val_image_dir = os.path.join(level_dir,'val_image/')\n",
        "    val_mask_dir = os.path.join(level_dir,'val_mask/')\n",
        "\n",
        "    test_image_dir = os.path.join(level_dir,'test_image/')\n",
        "    test_mask_dir = os.path.join(level_dir,'test_mask/')\n",
        "\n",
        "    if not os.path.exists(train_image_dir):\n",
        "        os.mkdir(train_image_dir)\n",
        "    if not os.path.exists(train_mask_dir):\n",
        "        os.mkdir(train_mask_dir)\n",
        "    if not os.path.exists(val_image_dir):\n",
        "        os.mkdir(val_image_dir)\n",
        "    if not os.path.exists(val_mask_dir):\n",
        "        os.mkdir(val_mask_dir)    \n",
        "    if not os.path.exists(test_image_dir):\n",
        "        os.mkdir(test_image_dir)\n",
        "    if not os.path.exists(test_mask_dir):\n",
        "        os.mkdir(test_mask_dir)\n",
        "    return(train_image_dir, train_mask_dir, val_image_dir, val_mask_dir, test_image_dir, test_mask_dir)"
      ],
      "execution_count": 4,
      "outputs": []
    },
    {
      "cell_type": "code",
      "metadata": {
        "id": "OiQh4L7ALZlI"
      },
      "source": [
        "base_path = '/content/'\n",
        "train_image_dir, train_mask_dir, val_image_dir, val_mask_dir, test_image_dir, test_mask_dir = make_dir(base_path, level = 'multi_')"
      ],
      "execution_count": 5,
      "outputs": []
    },
    {
      "cell_type": "code",
      "metadata": {
        "colab": {
          "base_uri": "https://localhost:8080/",
          "height": 35
        },
        "id": "M5MMROjVae1i",
        "outputId": "0e4e20fd-6f6a-4296-9a2f-7b095ae175a1"
      },
      "source": [
        "train_image_dir"
      ],
      "execution_count": 6,
      "outputs": [
        {
          "output_type": "execute_result",
          "data": {
            "application/vnd.google.colaboratory.intrinsic+json": {
              "type": "string"
            },
            "text/plain": [
              "'/content/multi_level/train_image/'"
            ]
          },
          "metadata": {
            "tags": []
          },
          "execution_count": 6
        }
      ]
    },
    {
      "cell_type": "code",
      "metadata": {
        "id": "UeSbiAVnaWub"
      },
      "source": [
        "!unzip -q '/content/drive/MyDrive/Applied Deep Learning/project/multi_level/train_image.zip' -d /content/multi_level/train_image/\r\n",
        "!unzip -q '/content/drive/MyDrive/Applied Deep Learning/project/multi_level/val_image.zip' -d /content/multi_level/val_image/\r\n",
        "!unzip -q '/content/drive/MyDrive/Applied Deep Learning/project/multi_level/test_image.zip' -d /content/multi_level/test_image/"
      ],
      "execution_count": 7,
      "outputs": []
    },
    {
      "cell_type": "code",
      "metadata": {
        "id": "QdESyvjOa5GU"
      },
      "source": [
        "!cp '/content/drive/MyDrive/Applied Deep Learning/project/multi_level/multi_level_train_data.txt' /content/\r\n",
        "!cp '/content/drive/MyDrive/Applied Deep Learning/project/multi_level/multi_level_val_data.txt' /content/\r\n",
        "!cp '/content/drive/MyDrive/Applied Deep Learning/project/multi_level/multi_level_test_data.txt' /content/"
      ],
      "execution_count": 8,
      "outputs": []
    },
    {
      "cell_type": "code",
      "metadata": {
        "id": "y1iWS-bBbGsp"
      },
      "source": [
        "train_df = pd.read_csv('/content/multi_level_train_data.txt', header = None)\r\n",
        "val_df = pd.read_csv('/content/multi_level_val_data.txt', header = None)\r\n",
        "test_df = pd.read_csv('/content/multi_level_test_data.txt', header = None)\r\n",
        "cols = ['Low Res Image Paths', 'High Res Image Paths', 'Low Res Xoffset', 'Low Res Yoffset', 'High Res Xoffset', \r\n",
        "                                                     'High Res Yoffset', 'Labels', 'slide code', 'Low Res Level', 'High Res Level']\r\n",
        "train_df.columns, val_df.columns, test_df.columns = cols, cols, cols\r\n",
        "\r\n",
        "train_df = train_df.sample(frac=1).reset_index(drop=True)\r\n",
        "val_df = val_df.sample(frac=1).reset_index(drop=True)\r\n",
        "test_df = test_df.sample(frac=1).reset_index(drop=True)\r\n",
        "\r\n",
        "train_df['Labels'] = train_df['Labels'].astype(str)\r\n",
        "val_df['Labels'] = val_df['Labels'].astype(str)\r\n",
        "test_df['Labels'] = test_df['Labels'].astype(str)"
      ],
      "execution_count": 9,
      "outputs": []
    },
    {
      "cell_type": "code",
      "metadata": {
        "colab": {
          "base_uri": "https://localhost:8080/",
          "height": 203
        },
        "id": "hHrlvoBNf29k",
        "outputId": "cdb93ba8-9fd6-4189-b197-c2db5febab32"
      },
      "source": [
        "train_df.head()"
      ],
      "execution_count": 10,
      "outputs": [
        {
          "output_type": "execute_result",
          "data": {
            "text/html": [
              "<div>\n",
              "<style scoped>\n",
              "    .dataframe tbody tr th:only-of-type {\n",
              "        vertical-align: middle;\n",
              "    }\n",
              "\n",
              "    .dataframe tbody tr th {\n",
              "        vertical-align: top;\n",
              "    }\n",
              "\n",
              "    .dataframe thead th {\n",
              "        text-align: right;\n",
              "    }\n",
              "</style>\n",
              "<table border=\"1\" class=\"dataframe\">\n",
              "  <thead>\n",
              "    <tr style=\"text-align: right;\">\n",
              "      <th></th>\n",
              "      <th>Low Res Image Paths</th>\n",
              "      <th>High Res Image Paths</th>\n",
              "      <th>Low Res Xoffset</th>\n",
              "      <th>Low Res Yoffset</th>\n",
              "      <th>High Res Xoffset</th>\n",
              "      <th>High Res Yoffset</th>\n",
              "      <th>Labels</th>\n",
              "      <th>slide code</th>\n",
              "      <th>Low Res Level</th>\n",
              "      <th>High Res Level</th>\n",
              "    </tr>\n",
              "  </thead>\n",
              "  <tbody>\n",
              "    <tr>\n",
              "      <th>0</th>\n",
              "      <td>/content/multi_level/train_image/normal/slide0...</td>\n",
              "      <td>/content/multi_level/train_image/normal/slide0...</td>\n",
              "      <td>3840</td>\n",
              "      <td>8832</td>\n",
              "      <td>7828</td>\n",
              "      <td>17812</td>\n",
              "      <td>0</td>\n",
              "      <td>64</td>\n",
              "      <td>4</td>\n",
              "      <td>3</td>\n",
              "    </tr>\n",
              "    <tr>\n",
              "      <th>1</th>\n",
              "      <td>/content/multi_level/train_image/normal/slide0...</td>\n",
              "      <td>/content/multi_level/train_image/normal/slide0...</td>\n",
              "      <td>3968</td>\n",
              "      <td>8704</td>\n",
              "      <td>8084</td>\n",
              "      <td>17556</td>\n",
              "      <td>0</td>\n",
              "      <td>64</td>\n",
              "      <td>4</td>\n",
              "      <td>3</td>\n",
              "    </tr>\n",
              "    <tr>\n",
              "      <th>2</th>\n",
              "      <td>/content/multi_level/train_image/normal/slide0...</td>\n",
              "      <td>/content/multi_level/train_image/normal/slide0...</td>\n",
              "      <td>2432</td>\n",
              "      <td>1664</td>\n",
              "      <td>5012</td>\n",
              "      <td>3476</td>\n",
              "      <td>0</td>\n",
              "      <td>84</td>\n",
              "      <td>4</td>\n",
              "      <td>3</td>\n",
              "    </tr>\n",
              "    <tr>\n",
              "      <th>3</th>\n",
              "      <td>/content/multi_level/train_image/normal/slide0...</td>\n",
              "      <td>/content/multi_level/train_image/normal/slide0...</td>\n",
              "      <td>2176</td>\n",
              "      <td>4480</td>\n",
              "      <td>4500</td>\n",
              "      <td>9108</td>\n",
              "      <td>0</td>\n",
              "      <td>1</td>\n",
              "      <td>4</td>\n",
              "      <td>3</td>\n",
              "    </tr>\n",
              "    <tr>\n",
              "      <th>4</th>\n",
              "      <td>/content/multi_level/train_image/normal/slide0...</td>\n",
              "      <td>/content/multi_level/train_image/normal/slide0...</td>\n",
              "      <td>2816</td>\n",
              "      <td>1152</td>\n",
              "      <td>5780</td>\n",
              "      <td>2452</td>\n",
              "      <td>0</td>\n",
              "      <td>84</td>\n",
              "      <td>4</td>\n",
              "      <td>3</td>\n",
              "    </tr>\n",
              "  </tbody>\n",
              "</table>\n",
              "</div>"
            ],
            "text/plain": [
              "                                 Low Res Image Paths  ... High Res Level\n",
              "0  /content/multi_level/train_image/normal/slide0...  ...              3\n",
              "1  /content/multi_level/train_image/normal/slide0...  ...              3\n",
              "2  /content/multi_level/train_image/normal/slide0...  ...              3\n",
              "3  /content/multi_level/train_image/normal/slide0...  ...              3\n",
              "4  /content/multi_level/train_image/normal/slide0...  ...              3\n",
              "\n",
              "[5 rows x 10 columns]"
            ]
          },
          "metadata": {
            "tags": []
          },
          "execution_count": 10
        }
      ]
    },
    {
      "cell_type": "code",
      "metadata": {
        "colab": {
          "base_uri": "https://localhost:8080/"
        },
        "id": "YFan6bIzlOni",
        "outputId": "4cbceaa0-605c-4e92-d868-de8d06eaabc9"
      },
      "source": [
        "train_df.shape"
      ],
      "execution_count": 11,
      "outputs": [
        {
          "output_type": "execute_result",
          "data": {
            "text/plain": [
              "(6440, 10)"
            ]
          },
          "metadata": {
            "tags": []
          },
          "execution_count": 11
        }
      ]
    },
    {
      "cell_type": "code",
      "metadata": {
        "id": "jsJP-MyinSKT"
      },
      "source": [
        "from tensorflow.keras.preprocessing.image import ImageDataGenerator\r\n",
        "def data_generator_aug(df, train_image_dir):\r\n",
        "    train_datagen = ImageDataGenerator(\r\n",
        "        rescale=1./255,\r\n",
        "        rotation_range=90,\r\n",
        "        # width_shift_range=0.2,\r\n",
        "        # height_shift_range=0.2,\r\n",
        "        # shear_range=0.2,\r\n",
        "        # zoom_range=0.2,\r\n",
        "        horizontal_flip=True)\r\n",
        "    train_generator1 = train_datagen.flow_from_dataframe(\r\n",
        "        dataframe = train_df,\r\n",
        "        directory = train_image_dir,\r\n",
        "        x_col = 'Low Res Image Paths',\r\n",
        "        y_col = 'Labels',\r\n",
        "        target_size = (IMG_SIZE, IMG_SIZE),\r\n",
        "        batch_size = batch_size,\r\n",
        "        class_mode = 'binary',\r\n",
        "        shuffle=False\r\n",
        "    )\r\n",
        "    train_generator2 = train_datagen.flow_from_dataframe(\r\n",
        "        dataframe = train_df,\r\n",
        "        directory = train_image_dir,\r\n",
        "        x_col = 'High Res Image Paths',\r\n",
        "        y_col = 'Labels',\r\n",
        "        target_size = (IMG_SIZE, IMG_SIZE),\r\n",
        "        batch_size = batch_size,\r\n",
        "        class_mode = 'binary',\r\n",
        "        shuffle=False\r\n",
        "    )\r\n",
        "    while True:\r\n",
        "        yield([next(train_generator1)[0], next(train_generator2)[0]], next(train_generator1)[1])\r\n",
        "multi_train_generator = data_generator_aug(train_df, train_image_dir)\r\n",
        "multi_val_generator = data_generator_aug(val_df, val_image_dir)\r\n",
        "multi_test_generator = data_generator_aug(test_df, test_image_dir)"
      ],
      "execution_count": 35,
      "outputs": []
    },
    {
      "cell_type": "code",
      "metadata": {
        "id": "V2fP92COftSx"
      },
      "source": [
        "# from tensorflow.keras.preprocessing.image import ImageDataGenerator\r\n",
        "# def data_generator_aug(train_df, val_df, test_df, resolution = 'Low Res Image Paths'):\r\n",
        "#     # train set\r\n",
        "#     train_datagen = ImageDataGenerator(\r\n",
        "#         rescale=1./255,\r\n",
        "#         rotation_range=90,\r\n",
        "#         # width_shift_range=0.2,\r\n",
        "#         # height_shift_range=0.2,\r\n",
        "#         # shear_range=0.2,\r\n",
        "#         # zoom_range=0.2,\r\n",
        "#         horizontal_flip=True)\r\n",
        "#     test_datagen = ImageDataGenerator(rescale = 1./255)\r\n",
        "#     # train set\r\n",
        "#     train_generator = train_datagen.flow_from_dataframe(\r\n",
        "#         dataframe = train_df,\r\n",
        "#         directory = train_image_dir,\r\n",
        "#         x_col = resolution,\r\n",
        "#         y_col = 'Labels',\r\n",
        "#         target_size = (IMG_SIZE, IMG_SIZE),\r\n",
        "#         batch_size = batch_size,\r\n",
        "#         class_mode = 'binary',\r\n",
        "#         shuffle=False\r\n",
        "#     )\r\n",
        "#     validation_generator = test_datagen.flow_from_dataframe(\r\n",
        "#         dataframe = val_df,\r\n",
        "#         directory = val_image_dir,\r\n",
        "#         x_col = resolution,\r\n",
        "#         y_col = 'Labels',\r\n",
        "#         target_size = (IMG_SIZE, IMG_SIZE),\r\n",
        "#         batch_size = batch_size,\r\n",
        "#         class_mode = 'binary',\r\n",
        "#         shuffle=False\r\n",
        "#     )\r\n",
        "\r\n",
        "#     for data_batch, labels_batch in train_generator:\r\n",
        "#         print('Train data: ')\r\n",
        "#         print('data batch shape:', data_batch.shape)\r\n",
        "#         print('labels batch shape:', labels_batch.shape)\r\n",
        "#         break\r\n",
        "\r\n",
        "#     for data_batch, labels_batch in validation_generator:\r\n",
        "#         print('\\n')\r\n",
        "#         print('Validation data: ')\r\n",
        "#         print('data batch shape:', data_batch.shape)\r\n",
        "#         print('labels batch shape:', labels_batch.shape)\r\n",
        "#         break\r\n",
        "#     # test set\r\n",
        "#     test_generator = test_datagen.flow_from_dataframe(\r\n",
        "#         dataframe = test_df,\r\n",
        "#         directory = test_image_dir,\r\n",
        "#         x_col = resolution,\r\n",
        "#         y_col = 'Labels',\r\n",
        "#         target_size = (IMG_SIZE, IMG_SIZE),\r\n",
        "#         batch_size = batch_size,\r\n",
        "#         class_mode = 'binary',\r\n",
        "#         shuffle = False\r\n",
        "#     )\r\n",
        "#     return(train_generator, validation_generator, test_generator)"
      ],
      "execution_count": 13,
      "outputs": []
    },
    {
      "cell_type": "markdown",
      "metadata": {
        "id": "mbSwgLu9LoWb"
      },
      "source": [
        "# Multi-level Model"
      ]
    },
    {
      "cell_type": "code",
      "metadata": {
        "colab": {
          "base_uri": "https://localhost:8080/"
        },
        "id": "j1b8BGB_h_RS",
        "outputId": "c12c0091-c42d-4fc6-9bee-8137a38ba0f2"
      },
      "source": [
        "IMG_SIZE = 299\r\n",
        "batch_size = 32\r\n",
        "print('Low Res Images')\r\n",
        "level4_train_generator, level4_validation_generator, level4_test_generator = data_generator_aug(train_df, val_df, test_df)\r\n",
        "print()\r\n",
        "print('High Res Images')\r\n",
        "level3_train_generator, level3_validation_generator, level3_test_generator = data_generator_aug(train_df, val_df, test_df, 'High Res Image Paths')"
      ],
      "execution_count": 14,
      "outputs": [
        {
          "output_type": "stream",
          "text": [
            "Low Res Images\n",
            "Found 6440 validated image filenames belonging to 2 classes.\n",
            "Found 1458 validated image filenames belonging to 2 classes.\n",
            "Train data: \n",
            "data batch shape: (8, 299, 299, 3)\n",
            "labels batch shape: (8,)\n",
            "\n",
            "\n",
            "Validation data: \n",
            "data batch shape: (8, 299, 299, 3)\n",
            "labels batch shape: (8,)\n",
            "Found 1274 validated image filenames belonging to 2 classes.\n",
            "\n",
            "High Res Images\n",
            "Found 6440 validated image filenames belonging to 2 classes.\n",
            "Found 1458 validated image filenames belonging to 2 classes.\n",
            "Train data: \n",
            "data batch shape: (8, 299, 299, 3)\n",
            "labels batch shape: (8,)\n",
            "\n",
            "\n",
            "Validation data: \n",
            "data batch shape: (8, 299, 299, 3)\n",
            "labels batch shape: (8,)\n",
            "Found 1274 validated image filenames belonging to 2 classes.\n"
          ],
          "name": "stdout"
        }
      ]
    },
    {
      "cell_type": "code",
      "metadata": {
        "id": "YCtasDMDLZSN"
      },
      "source": [
        "def combine_generator(gen1, gen2):\n",
        "    while True:\n",
        "        yield([next(gen1)[0], next(gen2)[0]], next(gen1)[1])"
      ],
      "execution_count": 15,
      "outputs": []
    },
    {
      "cell_type": "code",
      "metadata": {
        "id": "IuRUKNvMLwMz"
      },
      "source": [
        "multi_train_generator = combine_generator(level3_train_generator, level4_train_generator)\n",
        "multi_val_generator = combine_generator(level3_validation_generator, level4_validation_generator)\n",
        "multi_test_generator = combine_generator(level3_test_generator, level4_test_generator)"
      ],
      "execution_count": 16,
      "outputs": []
    },
    {
      "cell_type": "code",
      "metadata": {
        "colab": {
          "base_uri": "https://localhost:8080/"
        },
        "id": "M6ME8s2FLye8",
        "outputId": "57e84dd0-817a-4354-c377-615ddd47b214"
      },
      "source": [
        "IMG_SIZE = 299\n",
        "vgg_base_1 = tf.keras.applications.VGG16(\n",
        "            include_top = False,\n",
        "            weights = 'imagenet',\n",
        "            input_shape = (IMG_SIZE, IMG_SIZE, 3),\n",
        "            pooling = None,\n",
        "            classes = 2,\n",
        "            classifier_activation = 'softmax',\n",
        "        )\n",
        "vgg_base_2 = tf.keras.applications.VGG16(\n",
        "            include_top = False,\n",
        "            weights = 'imagenet',\n",
        "            input_shape = (IMG_SIZE, IMG_SIZE, 3),\n",
        "            pooling = None,\n",
        "            classes = 2,\n",
        "            classifier_activation = 'softmax',\n",
        "        )\n",
        "vgg_base_1.trainable = False\n",
        "vgg_base_2.trainable = False\n",
        "\n",
        "\n",
        "high_res_level_input = tf.keras.layers.Input(shape=(IMG_SIZE, IMG_SIZE, 3))\n",
        "low_res_level_input = tf.keras.layers.Input(shape=(IMG_SIZE, IMG_SIZE, 3))\n",
        "\n",
        "# high resolution level\n",
        "high_res_vgg = tf.keras.Sequential([\n",
        "    vgg_base_1,\n",
        "    tf.keras.layers.GlobalAveragePooling2D(),\n",
        "    # tf.keras.layers.Flatten(),\n",
        "    # tf.keras.layers.Dense(128, activation='relu')\n",
        "])\n",
        "high_res_vgg_output = high_res_vgg(high_res_level_input)\n",
        "\n",
        "# low resolution level\n",
        "low_res_vgg = tf.keras.Sequential([\n",
        "    vgg_base_2,\n",
        "    tf.keras.layers.GlobalAveragePooling2D(),\n",
        "    # tf.keras.layers.Flatten(),\n",
        "    # tf.keras.layers.Dense(128, activation='relu'),\n",
        "])\n",
        "low_res_vgg_output = low_res_vgg(low_res_level_input)\n",
        "\n",
        "# concatenate two output layers as input\n",
        "concatenated_input = tf.keras.layers.concatenate([high_res_vgg_output, low_res_vgg_output], axis = -1)\n",
        "flattened = tf.keras.layers.Flatten()(concatenated_input)\n",
        "\n",
        "output = tf.keras.layers.Dense(128, activation=\"relu\")(flattened)\n",
        "output = tf.keras.layers.Dropout(0.4)(output)\n",
        "output = tf.keras.layers.Dense(2, activation=\"softmax\")(output)\n",
        "\n",
        "vgg_multi_resolution_model = tf.keras.Model(inputs=[high_res_level_input, low_res_level_input], outputs=output)\n",
        "vgg_multi_resolution_model.summary()\n",
        "\n",
        "vgg_multi_resolution_model.compile(optimizer = tf.keras.optimizers.Adam(learning_rate=0.001),\n",
        "                                   loss = 'sparse_categorical_crossentropy',\n",
        "                                   metrics = ['accuracy'])"
      ],
      "execution_count": 27,
      "outputs": [
        {
          "output_type": "stream",
          "text": [
            "Model: \"model_1\"\n",
            "__________________________________________________________________________________________________\n",
            "Layer (type)                    Output Shape         Param #     Connected to                     \n",
            "==================================================================================================\n",
            "input_7 (InputLayer)            [(None, 299, 299, 3) 0                                            \n",
            "__________________________________________________________________________________________________\n",
            "input_8 (InputLayer)            [(None, 299, 299, 3) 0                                            \n",
            "__________________________________________________________________________________________________\n",
            "sequential_2 (Sequential)       (None, 512)          14714688    input_7[0][0]                    \n",
            "__________________________________________________________________________________________________\n",
            "sequential_3 (Sequential)       (None, 512)          14714688    input_8[0][0]                    \n",
            "__________________________________________________________________________________________________\n",
            "concatenate_1 (Concatenate)     (None, 1024)         0           sequential_2[0][0]               \n",
            "                                                                 sequential_3[0][0]               \n",
            "__________________________________________________________________________________________________\n",
            "flatten_1 (Flatten)             (None, 1024)         0           concatenate_1[0][0]              \n",
            "__________________________________________________________________________________________________\n",
            "dense_2 (Dense)                 (None, 128)          131200      flatten_1[0][0]                  \n",
            "__________________________________________________________________________________________________\n",
            "dropout_1 (Dropout)             (None, 128)          0           dense_2[0][0]                    \n",
            "__________________________________________________________________________________________________\n",
            "dense_3 (Dense)                 (None, 2)            258         dropout_1[0][0]                  \n",
            "==================================================================================================\n",
            "Total params: 29,560,834\n",
            "Trainable params: 131,458\n",
            "Non-trainable params: 29,429,376\n",
            "__________________________________________________________________________________________________\n"
          ],
          "name": "stdout"
        }
      ]
    },
    {
      "cell_type": "code",
      "metadata": {
        "colab": {
          "base_uri": "https://localhost:8080/",
          "height": 661
        },
        "id": "NsWEdfMYL0H2",
        "outputId": "d6a7f6d4-2a80-438b-820c-ba8a84f33d92"
      },
      "source": [
        "tf.keras.utils.plot_model(vgg_multi_resolution_model)"
      ],
      "execution_count": 28,
      "outputs": [
        {
          "output_type": "execute_result",
          "data": {
            "image/png": "[encoded data removed]",
            "text/plain": [
              "<IPython.core.display.Image object>"
            ]
          },
          "metadata": {
            "tags": []
          },
          "execution_count": 28
        }
      ]
    },
    {
      "cell_type": "code",
      "metadata": {
        "id": "ZunFcLh_L1gI"
      },
      "source": [
        "if not os.path.exists('/content/checkpoint'):\n",
        "  os.mkdir('/content/checkpoint')\n",
        "if not os.path.exists('/content/checkpoint/VGG'):\n",
        "  os.mkdir('/content/checkpoint/VGG')\n",
        "multi_vgg_checkpoint_path = '/content/checkpoint/VGG/multi_level_weights-improvement-{epoch:02d}-{val_accuracy:.2f}-{val_loss:.2f}.hdf5'\n",
        "vgg_checkpoint_callback = tf.keras.callbacks.ModelCheckpoint(multi_vgg_checkpoint_path, \n",
        "                                                                    monitor='val_loss', \n",
        "                                                                    save_best_only=True, \n",
        "                                                                    mode='auto')\n",
        "\n",
        "vgg_early_stop_callback = tf.keras.callbacks.EarlyStopping(\n",
        "                              monitor='val_loss', min_delta=0, patience=10)"
      ],
      "execution_count": 36,
      "outputs": []
    },
    {
      "cell_type": "code",
      "metadata": {
        "id": "ZKu2X__9axvA",
        "colab": {
          "base_uri": "https://localhost:8080/"
        },
        "outputId": "bf78207f-3fa4-4cea-969b-c56d45f33a07"
      },
      "source": [
        "for data_batch, labels_batch in multi_train_generator:\r\n",
        "    print('Train data: ')\r\n",
        "    print('data batch shape:', len(data_batch))\r\n",
        "    print('data batch', data_batch[0].shape)\r\n",
        "    print('data batch2', data_batch[1].shape)\r\n",
        "    print('labels batch shape:', labels_batch.shape)\r\n",
        "    break"
      ],
      "execution_count": 20,
      "outputs": [
        {
          "output_type": "stream",
          "text": [
            "Train data: \n",
            "data batch shape: 2\n",
            "data batch (8, 299, 299, 3)\n",
            "data batch2 (8, 299, 299, 3)\n",
            "labels batch shape: (8,)\n"
          ],
          "name": "stdout"
        }
      ]
    },
    {
      "cell_type": "code",
      "metadata": {
        "colab": {
          "base_uri": "https://localhost:8080/"
        },
        "id": "xNAHH6o_Y1eI",
        "outputId": "77a56d4a-9839-4e3c-a0e6-5537ff2d320b"
      },
      "source": [
        "for data_batch, labels_batch in multi_val_generator:\r\n",
        "    print('Train data: ')\r\n",
        "    print('data batch shape:', len(data_batch))\r\n",
        "    print('data batch', data_batch[0].shape)\r\n",
        "    print('data batch2', data_batch[1].shape)\r\n",
        "    print('labels batch shape:', labels_batch.shape)\r\n",
        "    break"
      ],
      "execution_count": 21,
      "outputs": [
        {
          "output_type": "stream",
          "text": [
            "Train data: \n",
            "data batch shape: 2\n",
            "data batch (8, 299, 299, 3)\n",
            "data batch2 (8, 299, 299, 3)\n",
            "labels batch shape: (8,)\n"
          ],
          "name": "stdout"
        }
      ]
    },
    {
      "cell_type": "code",
      "metadata": {
        "id": "mbPfgvffbRNP"
      },
      "source": [
        "steps_per_epoch = train_df.shape[0] // batch_size\r\n",
        "validation_steps = val_df.shape[0] // batch_size"
      ],
      "execution_count": 22,
      "outputs": []
    },
    {
      "cell_type": "code",
      "metadata": {
        "colab": {
          "base_uri": "https://localhost:8080/"
        },
        "id": "JiG8fXMWdGhL",
        "outputId": "42cfa185-1c68-4535-89df-b4bed24e0021"
      },
      "source": [
        "epochs = 10\r\n",
        "multi_level_vgg_history = vgg_multi_resolution_model.fit(multi_train_generator, \r\n",
        "                                                          epochs = epochs,\r\n",
        "                                                          steps_per_epoch = steps_per_epoch,\r\n",
        "                                                          validation_steps = validation_steps,\r\n",
        "                                                          validation_data=multi_val_generator,\r\n",
        "                                                          callbacks=[vgg_checkpoint_callback, \r\n",
        "                                                                    vgg_early_stop_callback])"
      ],
      "execution_count": null,
      "outputs": [
        {
          "output_type": "stream",
          "text": [
            "Epoch 1/10\n",
            "800/800 [==============================] - 500s 625ms/step - loss: 0.3224 - accuracy: 0.9069 - val_loss: 0.3210 - val_accuracy: 0.9014\n",
            "Epoch 2/10\n",
            "800/800 [==============================] - 496s 620ms/step - loss: 0.3212 - accuracy: 0.9069 - val_loss: 0.3010 - val_accuracy: 0.9093\n",
            "Epoch 3/10\n",
            "456/800 [================>.............] - ETA: 2:52 - loss: 0.3292 - accuracy: 0.9030"
          ],
          "name": "stdout"
        }
      ]
    }
  ]
}