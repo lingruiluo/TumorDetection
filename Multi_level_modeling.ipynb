{
  "nbformat": 4,
  "nbformat_minor": 0,
  "metadata": {
    "accelerator": "GPU",
    "colab": {
      "name": "Multi_level_modeling.ipynb",
      "provenance": [],
      "collapsed_sections": [],
      "toc_visible": true
    },
    "kernelspec": {
      "display_name": "Python 3",
      "name": "python3"
    }
  },
  "cells": [
    {
      "cell_type": "code",
      "metadata": {
        "colab": {
          "base_uri": "https://localhost:8080/"
        },
        "id": "aSVyBuq7LPct",
        "outputId": "ce903461-aaeb-499e-cd57-b5bd2b88b1c2"
      },
      "source": [
        "# Install the OpenSlide C library and Python bindings\n",
        "# After installing these libraries, use `Runtime -> restart and run all` on the menu\n",
        "!apt-get install openslide-tools\n",
        "!pip install openslide-python"
      ],
      "execution_count": 1,
      "outputs": [
        {
          "output_type": "stream",
          "text": [
            "Reading package lists... Done\n",
            "Building dependency tree       \n",
            "Reading state information... Done\n",
            "The following additional packages will be installed:\n",
            "  libopenslide0\n",
            "Suggested packages:\n",
            "  libtiff-tools\n",
            "The following NEW packages will be installed:\n",
            "  libopenslide0 openslide-tools\n",
            "0 upgraded, 2 newly installed, 0 to remove and 15 not upgraded.\n",
            "Need to get 92.5 kB of archives.\n",
            "After this operation, 268 kB of additional disk space will be used.\n",
            "Get:1 http://archive.ubuntu.com/ubuntu bionic/universe amd64 libopenslide0 amd64 3.4.1+dfsg-2 [79.8 kB]\n",
            "Get:2 http://archive.ubuntu.com/ubuntu bionic/universe amd64 openslide-tools amd64 3.4.1+dfsg-2 [12.7 kB]\n",
            "Fetched 92.5 kB in 0s (207 kB/s)\n",
            "Selecting previously unselected package libopenslide0.\n",
            "(Reading database ... 145480 files and directories currently installed.)\n",
            "Preparing to unpack .../libopenslide0_3.4.1+dfsg-2_amd64.deb ...\n",
            "Unpacking libopenslide0 (3.4.1+dfsg-2) ...\n",
            "Selecting previously unselected package openslide-tools.\n",
            "Preparing to unpack .../openslide-tools_3.4.1+dfsg-2_amd64.deb ...\n",
            "Unpacking openslide-tools (3.4.1+dfsg-2) ...\n",
            "Setting up libopenslide0 (3.4.1+dfsg-2) ...\n",
            "Setting up openslide-tools (3.4.1+dfsg-2) ...\n",
            "Processing triggers for libc-bin (2.27-3ubuntu1.2) ...\n",
            "/sbin/ldconfig.real: /usr/local/lib/python3.6/dist-packages/ideep4py/lib/libmkldnn.so.0 is not a symbolic link\n",
            "\n",
            "Processing triggers for man-db (2.8.3-2ubuntu0.1) ...\n",
            "Collecting openslide-python\n",
            "\u001b[?25l  Downloading https://files.pythonhosted.org/packages/03/da/12dc0e7566ace61a5a65244220458dcb656b09cbf18ca50f3098875d97e4/openslide-python-1.1.2.tar.gz (316kB)\n",
            "\u001b[K     |████████████████████████████████| 317kB 17.7MB/s \n",
            "\u001b[?25hRequirement already satisfied: Pillow in /usr/local/lib/python3.6/dist-packages (from openslide-python) (7.0.0)\n",
            "Building wheels for collected packages: openslide-python\n",
            "  Building wheel for openslide-python (setup.py) ... \u001b[?25l\u001b[?25hdone\n",
            "  Created wheel for openslide-python: filename=openslide_python-1.1.2-cp36-cp36m-linux_x86_64.whl size=26713 sha256=b83da7e5e2f005766deeaca5449904d765790e2a0628241a924c763a61f11e76\n",
            "  Stored in directory: /root/.cache/pip/wheels/6b/55/74/ba9d3dcc2c5c0f1282e08bae70df0ed57b496fb6b5c8f1adc9\n",
            "Successfully built openslide-python\n",
            "Installing collected packages: openslide-python\n",
            "Successfully installed openslide-python-1.1.2\n"
          ],
          "name": "stdout"
        }
      ]
    },
    {
      "cell_type": "code",
      "metadata": {
        "id": "bv1xdoXELUGQ"
      },
      "source": [
        "%matplotlib inline\n",
        "import matplotlib.pyplot as plt\n",
        "import numpy as np\n",
        "from openslide import open_slide, __library_version__ as openslide_version\n",
        "import os\n",
        "from PIL import Image\n",
        "from skimage.color import rgb2gray\n",
        "import random\n",
        "import pandas as pd\n",
        "import tensorflow as tf\n",
        "from sklearn.metrics import classification_report"
      ],
      "execution_count": 2,
      "outputs": []
    },
    {
      "cell_type": "code",
      "metadata": {
        "colab": {
          "base_uri": "https://localhost:8080/"
        },
        "id": "i7zudBw3LWzp",
        "outputId": "75d6622d-7c2f-453a-c65f-9a0c77bea771"
      },
      "source": [
        "from google.colab import drive\n",
        "drive.mount('/content/drive')"
      ],
      "execution_count": 3,
      "outputs": [
        {
          "output_type": "stream",
          "text": [
            "Mounted at /content/drive\n"
          ],
          "name": "stdout"
        }
      ]
    },
    {
      "cell_type": "code",
      "metadata": {
        "id": "CzNeu2tRLY2U"
      },
      "source": [
        "def make_dir(base_path, level):\n",
        "    level_dir = f'{base_path}{level}level'\n",
        "    if not os.path.exists(level_dir):\n",
        "        os.mkdir(level_dir)\n",
        "    train_image_dir = os.path.join(level_dir,'train_image/')\n",
        "    train_mask_dir = os.path.join(level_dir,'train_mask/')\n",
        "\n",
        "    val_image_dir = os.path.join(level_dir,'val_image/')\n",
        "    val_mask_dir = os.path.join(level_dir,'val_mask/')\n",
        "\n",
        "    test_image_dir = os.path.join(level_dir,'test_image/')\n",
        "    test_mask_dir = os.path.join(level_dir,'test_mask/')\n",
        "\n",
        "    if not os.path.exists(train_image_dir):\n",
        "        os.mkdir(train_image_dir)\n",
        "    if not os.path.exists(train_mask_dir):\n",
        "        os.mkdir(train_mask_dir)\n",
        "    if not os.path.exists(val_image_dir):\n",
        "        os.mkdir(val_image_dir)\n",
        "    if not os.path.exists(val_mask_dir):\n",
        "        os.mkdir(val_mask_dir)    \n",
        "    if not os.path.exists(test_image_dir):\n",
        "        os.mkdir(test_image_dir)\n",
        "    if not os.path.exists(test_mask_dir):\n",
        "        os.mkdir(test_mask_dir)\n",
        "    return(train_image_dir, train_mask_dir, val_image_dir, val_mask_dir, test_image_dir, test_mask_dir)"
      ],
      "execution_count": 4,
      "outputs": []
    },
    {
      "cell_type": "code",
      "metadata": {
        "id": "OiQh4L7ALZlI"
      },
      "source": [
        "base_path = '/content/'\n",
        "train_image_dir, train_mask_dir, val_image_dir, val_mask_dir, test_image_dir, test_mask_dir = make_dir(base_path, level = 'multi_')"
      ],
      "execution_count": 5,
      "outputs": []
    },
    {
      "cell_type": "code",
      "metadata": {
        "colab": {
          "base_uri": "https://localhost:8080/",
          "height": 35
        },
        "id": "M5MMROjVae1i",
        "outputId": "893251b5-1719-48f6-d9a2-c4d0c0886a19"
      },
      "source": [
        "train_image_dir"
      ],
      "execution_count": 6,
      "outputs": [
        {
          "output_type": "execute_result",
          "data": {
            "application/vnd.google.colaboratory.intrinsic+json": {
              "type": "string"
            },
            "text/plain": [
              "'/content/multi_level/train_image/'"
            ]
          },
          "metadata": {
            "tags": []
          },
          "execution_count": 6
        }
      ]
    },
    {
      "cell_type": "code",
      "metadata": {
        "id": "UeSbiAVnaWub"
      },
      "source": [
        "!unzip -q '/content/drive/MyDrive/Applied Deep Learning/project/multi_level/train_image.zip' -d /content/multi_level/train_image/\r\n",
        "!unzip -q '/content/drive/MyDrive/Applied Deep Learning/project/multi_level/val_image.zip' -d /content/multi_level/val_image/\r\n",
        "!unzip -q '/content/drive/MyDrive/Applied Deep Learning/project/multi_level/test_image.zip' -d /content/multi_level/test_image/"
      ],
      "execution_count": 7,
      "outputs": []
    },
    {
      "cell_type": "code",
      "metadata": {
        "id": "QdESyvjOa5GU"
      },
      "source": [
        "!cp '/content/drive/MyDrive/Applied Deep Learning/project/multi_level/multi_level_train_data.txt' /content/\r\n",
        "!cp '/content/drive/MyDrive/Applied Deep Learning/project/multi_level/multi_level_val_data.txt' /content/\r\n",
        "!cp '/content/drive/MyDrive/Applied Deep Learning/project/multi_level/multi_level_test_data.txt' /content/"
      ],
      "execution_count": 8,
      "outputs": []
    },
    {
      "cell_type": "code",
      "metadata": {
        "id": "y1iWS-bBbGsp"
      },
      "source": [
        "train_df = pd.read_csv('/content/multi_level_train_data.txt', header = None)\r\n",
        "val_df = pd.read_csv('/content/multi_level_val_data.txt', header = None)\r\n",
        "test_df = pd.read_csv('/content/multi_level_test_data.txt', header = None)\r\n",
        "cols = ['Low Res Image Paths', 'High Res Image Paths', 'Low Res Xoffset', 'Low Res Yoffset', 'High Res Xoffset', \r\n",
        "                                                     'High Res Yoffset', 'Labels', 'slide code', 'Low Res Level', 'High Res Level']\r\n",
        "train_df.columns, val_df.columns, test_df.columns = cols, cols, cols\r\n",
        "\r\n",
        "train_df = train_df.sample(frac=1).reset_index(drop=True)\r\n",
        "val_df = val_df.sample(frac=1).reset_index(drop=True)\r\n",
        "test_df = test_df.sample(frac=1).reset_index(drop=True)\r\n",
        "\r\n",
        "train_df['Labels'] = train_df['Labels'].astype(str)\r\n",
        "val_df['Labels'] = val_df['Labels'].astype(str)\r\n",
        "test_df['Labels'] = test_df['Labels'].astype(str)"
      ],
      "execution_count": 9,
      "outputs": []
    },
    {
      "cell_type": "code",
      "metadata": {
        "colab": {
          "base_uri": "https://localhost:8080/",
          "height": 203
        },
        "id": "hHrlvoBNf29k",
        "outputId": "2f2b9b26-c47d-4b5a-c9b1-d2a1764f83ab"
      },
      "source": [
        "train_df.head()"
      ],
      "execution_count": 10,
      "outputs": [
        {
          "output_type": "execute_result",
          "data": {
            "text/html": [
              "<div>\n",
              "<style scoped>\n",
              "    .dataframe tbody tr th:only-of-type {\n",
              "        vertical-align: middle;\n",
              "    }\n",
              "\n",
              "    .dataframe tbody tr th {\n",
              "        vertical-align: top;\n",
              "    }\n",
              "\n",
              "    .dataframe thead th {\n",
              "        text-align: right;\n",
              "    }\n",
              "</style>\n",
              "<table border=\"1\" class=\"dataframe\">\n",
              "  <thead>\n",
              "    <tr style=\"text-align: right;\">\n",
              "      <th></th>\n",
              "      <th>Low Res Image Paths</th>\n",
              "      <th>High Res Image Paths</th>\n",
              "      <th>Low Res Xoffset</th>\n",
              "      <th>Low Res Yoffset</th>\n",
              "      <th>High Res Xoffset</th>\n",
              "      <th>High Res Yoffset</th>\n",
              "      <th>Labels</th>\n",
              "      <th>slide code</th>\n",
              "      <th>Low Res Level</th>\n",
              "      <th>High Res Level</th>\n",
              "    </tr>\n",
              "  </thead>\n",
              "  <tbody>\n",
              "    <tr>\n",
              "      <th>0</th>\n",
              "      <td>/content/multi_level/train_image/normal/slide0...</td>\n",
              "      <td>/content/multi_level/train_image/normal/slide0...</td>\n",
              "      <td>5248</td>\n",
              "      <td>1024</td>\n",
              "      <td>10644</td>\n",
              "      <td>2196</td>\n",
              "      <td>0</td>\n",
              "      <td>96</td>\n",
              "      <td>4</td>\n",
              "      <td>3</td>\n",
              "    </tr>\n",
              "    <tr>\n",
              "      <th>1</th>\n",
              "      <td>/content/multi_level/train_image/normal/slide1...</td>\n",
              "      <td>/content/multi_level/train_image/normal/slide1...</td>\n",
              "      <td>1536</td>\n",
              "      <td>1536</td>\n",
              "      <td>3220</td>\n",
              "      <td>3220</td>\n",
              "      <td>0</td>\n",
              "      <td>101</td>\n",
              "      <td>4</td>\n",
              "      <td>3</td>\n",
              "    </tr>\n",
              "    <tr>\n",
              "      <th>2</th>\n",
              "      <td>/content/multi_level/train_image/normal/slide0...</td>\n",
              "      <td>/content/multi_level/train_image/normal/slide0...</td>\n",
              "      <td>3072</td>\n",
              "      <td>1152</td>\n",
              "      <td>6292</td>\n",
              "      <td>2452</td>\n",
              "      <td>0</td>\n",
              "      <td>91</td>\n",
              "      <td>4</td>\n",
              "      <td>3</td>\n",
              "    </tr>\n",
              "    <tr>\n",
              "      <th>3</th>\n",
              "      <td>/content/multi_level/train_image/normal/slide0...</td>\n",
              "      <td>/content/multi_level/train_image/normal/slide0...</td>\n",
              "      <td>2816</td>\n",
              "      <td>7040</td>\n",
              "      <td>5780</td>\n",
              "      <td>14228</td>\n",
              "      <td>0</td>\n",
              "      <td>57</td>\n",
              "      <td>4</td>\n",
              "      <td>3</td>\n",
              "    </tr>\n",
              "    <tr>\n",
              "      <th>4</th>\n",
              "      <td>/content/multi_level/train_image/normal/slide0...</td>\n",
              "      <td>/content/multi_level/train_image/normal/slide0...</td>\n",
              "      <td>3328</td>\n",
              "      <td>4096</td>\n",
              "      <td>6804</td>\n",
              "      <td>8340</td>\n",
              "      <td>0</td>\n",
              "      <td>78</td>\n",
              "      <td>4</td>\n",
              "      <td>3</td>\n",
              "    </tr>\n",
              "  </tbody>\n",
              "</table>\n",
              "</div>"
            ],
            "text/plain": [
              "                                 Low Res Image Paths  ... High Res Level\n",
              "0  /content/multi_level/train_image/normal/slide0...  ...              3\n",
              "1  /content/multi_level/train_image/normal/slide1...  ...              3\n",
              "2  /content/multi_level/train_image/normal/slide0...  ...              3\n",
              "3  /content/multi_level/train_image/normal/slide0...  ...              3\n",
              "4  /content/multi_level/train_image/normal/slide0...  ...              3\n",
              "\n",
              "[5 rows x 10 columns]"
            ]
          },
          "metadata": {
            "tags": []
          },
          "execution_count": 10
        }
      ]
    },
    {
      "cell_type": "code",
      "metadata": {
        "colab": {
          "base_uri": "https://localhost:8080/"
        },
        "id": "YFan6bIzlOni",
        "outputId": "04e5760a-adf2-49a6-d203-25ac9c95772f"
      },
      "source": [
        "train_df.shape"
      ],
      "execution_count": 11,
      "outputs": [
        {
          "output_type": "execute_result",
          "data": {
            "text/plain": [
              "(6440, 10)"
            ]
          },
          "metadata": {
            "tags": []
          },
          "execution_count": 11
        }
      ]
    },
    {
      "cell_type": "code",
      "metadata": {
        "id": "jsJP-MyinSKT"
      },
      "source": [
        "from tensorflow.keras.preprocessing.image import ImageDataGenerator\r\n",
        "train_datagen = ImageDataGenerator(\r\n",
        "    rescale=1./255,\r\n",
        "    rotation_range=90,\r\n",
        "    horizontal_flip=True)\r\n",
        "test_datagen = ImageDataGenerator(rescale = 1./255)\r\n",
        "def data_generator_aug(train_datagen, df, train_image_dir):\r\n",
        "    train_generator1 = train_datagen.flow_from_dataframe(\r\n",
        "        dataframe = df,\r\n",
        "        directory = train_image_dir,\r\n",
        "        x_col = 'Low Res Image Paths',\r\n",
        "        y_col = 'Labels',\r\n",
        "        target_size = (IMG_SIZE, IMG_SIZE),\r\n",
        "        batch_size = batch_size,\r\n",
        "        class_mode = 'binary',\r\n",
        "        shuffle=False,\r\n",
        "        seed = 2404,\r\n",
        "    )\r\n",
        "    train_generator2 = train_datagen.flow_from_dataframe(\r\n",
        "        dataframe = df,\r\n",
        "        directory = train_image_dir,\r\n",
        "        x_col = 'High Res Image Paths',\r\n",
        "        y_col = 'Labels',\r\n",
        "        target_size = (IMG_SIZE, IMG_SIZE),\r\n",
        "        batch_size = batch_size,\r\n",
        "        class_mode = 'binary',\r\n",
        "        shuffle=False,\r\n",
        "        seed = 2404,\r\n",
        "    )\r\n",
        "    while True:\r\n",
        "        a, label = train_generator1.next()\r\n",
        "        b = train_generator2.next()[0]\r\n",
        "        yield([a, b], label)"
      ],
      "execution_count": 107,
      "outputs": []
    },
    {
      "cell_type": "markdown",
      "metadata": {
        "id": "mbSwgLu9LoWb"
      },
      "source": [
        "# Multi-level Model"
      ]
    },
    {
      "cell_type": "code",
      "metadata": {
        "id": "ZCwZBku-xQ-d"
      },
      "source": [
        "IMG_SIZE = 299\r\n",
        "batch_size = 32\r\n",
        "multi_train_generator = data_generator_aug(train_datagen, train_df, train_image_dir)\r\n",
        "multi_val_generator = data_generator_aug(test_datagen, val_df, val_image_dir)\r\n",
        "multi_test_generator = data_generator_aug(test_datagen, test_df, test_image_dir)"
      ],
      "execution_count": 112,
      "outputs": []
    },
    {
      "cell_type": "code",
      "metadata": {
        "colab": {
          "base_uri": "https://localhost:8080/"
        },
        "id": "M6ME8s2FLye8",
        "outputId": "0d678b1a-ca77-46d1-e524-04d76605dad9"
      },
      "source": [
        "IMG_SIZE = 299\n",
        "vgg_base_1 = tf.keras.applications.VGG16(\n",
        "            include_top = False,\n",
        "            weights = 'imagenet',\n",
        "            input_shape = (IMG_SIZE, IMG_SIZE, 3),\n",
        "            pooling = None,\n",
        "            classes = 2,\n",
        "            classifier_activation = 'softmax',\n",
        "        )\n",
        "vgg_base_2 = tf.keras.applications.VGG16(\n",
        "            include_top = False,\n",
        "            weights = 'imagenet',\n",
        "            input_shape = (IMG_SIZE, IMG_SIZE, 3),\n",
        "            pooling = None,\n",
        "            classes = 2,\n",
        "            classifier_activation = 'softmax',\n",
        "        )\n",
        "vgg_base_1.trainable = False\n",
        "vgg_base_2.trainable = False\n",
        "\n",
        "\n",
        "high_res_level_input = tf.keras.layers.Input(shape=(IMG_SIZE, IMG_SIZE, 3))\n",
        "low_res_level_input = tf.keras.layers.Input(shape=(IMG_SIZE, IMG_SIZE, 3))\n",
        "\n",
        "# high resolution level\n",
        "high_res_vgg = tf.keras.Sequential([\n",
        "    vgg_base_1,\n",
        "    tf.keras.layers.GlobalAveragePooling2D(),\n",
        "    # tf.keras.layers.Flatten(),\n",
        "    # tf.keras.layers.Dense(128, activation='relu')\n",
        "])\n",
        "high_res_vgg_output = high_res_vgg(high_res_level_input)\n",
        "\n",
        "# low resolution level\n",
        "low_res_vgg = tf.keras.Sequential([\n",
        "    vgg_base_2,\n",
        "    tf.keras.layers.GlobalAveragePooling2D(),\n",
        "    # tf.keras.layers.Flatten(),\n",
        "    # tf.keras.layers.Dense(128, activation='relu'),\n",
        "])\n",
        "low_res_vgg_output = low_res_vgg(low_res_level_input)\n",
        "\n",
        "# concatenate two output layers as input\n",
        "concatenated_input = tf.keras.layers.concatenate([high_res_vgg_output, low_res_vgg_output])\n",
        "flattened = tf.keras.layers.Flatten()(concatenated_input)\n",
        "\n",
        "output = tf.keras.layers.Dense(128, activation=\"relu\")(flattened)\n",
        "output = tf.keras.layers.Dropout(0.4)(output)\n",
        "output = tf.keras.layers.Dense(2, activation=\"softmax\")(output)\n",
        "\n",
        "vgg_multi_resolution_model = tf.keras.Model(inputs=[high_res_level_input, low_res_level_input], outputs=output)\n",
        "vgg_multi_resolution_model.summary()\n",
        "\n",
        "vgg_multi_resolution_model.compile(optimizer = tf.keras.optimizers.Adam(learning_rate=0.001),\n",
        "                                   loss = 'sparse_categorical_crossentropy',\n",
        "                                   metrics = ['accuracy'])"
      ],
      "execution_count": 113,
      "outputs": [
        {
          "output_type": "stream",
          "text": [
            "Model: \"model_11\"\n",
            "__________________________________________________________________________________________________\n",
            "Layer (type)                    Output Shape         Param #     Connected to                     \n",
            "==================================================================================================\n",
            "input_47 (InputLayer)           [(None, 299, 299, 3) 0                                            \n",
            "__________________________________________________________________________________________________\n",
            "input_48 (InputLayer)           [(None, 299, 299, 3) 0                                            \n",
            "__________________________________________________________________________________________________\n",
            "sequential_22 (Sequential)      (None, 512)          14714688    input_47[0][0]                   \n",
            "__________________________________________________________________________________________________\n",
            "sequential_23 (Sequential)      (None, 512)          14714688    input_48[0][0]                   \n",
            "__________________________________________________________________________________________________\n",
            "concatenate_11 (Concatenate)    (None, 1024)         0           sequential_22[0][0]              \n",
            "                                                                 sequential_23[0][0]              \n",
            "__________________________________________________________________________________________________\n",
            "flatten_11 (Flatten)            (None, 1024)         0           concatenate_11[0][0]             \n",
            "__________________________________________________________________________________________________\n",
            "dense_22 (Dense)                (None, 128)          131200      flatten_11[0][0]                 \n",
            "__________________________________________________________________________________________________\n",
            "dropout_11 (Dropout)            (None, 128)          0           dense_22[0][0]                   \n",
            "__________________________________________________________________________________________________\n",
            "dense_23 (Dense)                (None, 2)            258         dropout_11[0][0]                 \n",
            "==================================================================================================\n",
            "Total params: 29,560,834\n",
            "Trainable params: 131,458\n",
            "Non-trainable params: 29,429,376\n",
            "__________________________________________________________________________________________________\n"
          ],
          "name": "stdout"
        }
      ]
    },
    {
      "cell_type": "code",
      "metadata": {
        "colab": {
          "base_uri": "https://localhost:8080/",
          "height": 661
        },
        "id": "NsWEdfMYL0H2",
        "outputId": "e23825b4-3df7-489f-cd9b-0d0fe3edbbd9"
      },
      "source": [
        "tf.keras.utils.plot_model(vgg_multi_resolution_model)"
      ],
      "execution_count": 114,
      "outputs": [
        {
          "output_type": "execute_result",
          "data": {
            "image/png": "[encoded data removed]",
            "text/plain": [
              "<IPython.core.display.Image object>"
            ]
          },
          "metadata": {
            "tags": []
          },
          "execution_count": 114
        }
      ]
    },
    {
      "cell_type": "code",
      "metadata": {
        "id": "ZunFcLh_L1gI"
      },
      "source": [
        "if not os.path.exists('/content/checkpoint'):\n",
        "  os.mkdir('/content/checkpoint')\n",
        "if not os.path.exists('/content/checkpoint/VGG'):\n",
        "  os.mkdir('/content/checkpoint/VGG')\n",
        "multi_vgg_checkpoint_path = '/content/checkpoint/VGG/multi_level_weights-improvement-{epoch:02d}-{val_accuracy:.2f}-{val_loss:.2f}.hdf5'\n",
        "vgg_checkpoint_callback = tf.keras.callbacks.ModelCheckpoint(multi_vgg_checkpoint_path, \n",
        "                                                                    monitor='val_loss', \n",
        "                                                                    save_best_only=True, \n",
        "                                                                    mode='auto')\n",
        "\n",
        "vgg_early_stop_callback = tf.keras.callbacks.EarlyStopping(\n",
        "                              monitor='val_loss', min_delta=0, patience=10)"
      ],
      "execution_count": 115,
      "outputs": []
    },
    {
      "cell_type": "code",
      "metadata": {
        "id": "ZKu2X__9axvA",
        "colab": {
          "base_uri": "https://localhost:8080/"
        },
        "outputId": "77782237-5435-42ff-e253-6a61f66b2384"
      },
      "source": [
        "for data_batch, labels_batch in multi_train_generator:\r\n",
        "    print('Train data: ')\r\n",
        "    print('data batch shape:', len(data_batch))\r\n",
        "    print('data batch', data_batch[0].shape)\r\n",
        "    print('data batch2', data_batch[1].shape)\r\n",
        "    print('labels batch shape:', labels_batch.shape)\r\n",
        "    break"
      ],
      "execution_count": 116,
      "outputs": [
        {
          "output_type": "stream",
          "text": [
            "Found 6440 validated image filenames belonging to 2 classes.\n",
            "Found 6440 validated image filenames belonging to 2 classes.\n",
            "Train data: \n",
            "data batch shape: 2\n",
            "data batch (32, 299, 299, 3)\n",
            "data batch2 (32, 299, 299, 3)\n",
            "labels batch shape: (32,)\n"
          ],
          "name": "stdout"
        }
      ]
    },
    {
      "cell_type": "code",
      "metadata": {
        "colab": {
          "base_uri": "https://localhost:8080/"
        },
        "id": "xNAHH6o_Y1eI",
        "outputId": "516d498c-5a69-4eaf-84b2-b5e0807fe661"
      },
      "source": [
        "for data_batch, labels_batch in multi_val_generator:\r\n",
        "    print('Train data: ')\r\n",
        "    print('data batch shape:', len(data_batch))\r\n",
        "    print('data batch', data_batch[0].shape)\r\n",
        "    print('data batch2', data_batch[1].shape)\r\n",
        "    print('labels batch shape:', labels_batch.shape)\r\n",
        "    break"
      ],
      "execution_count": 117,
      "outputs": [
        {
          "output_type": "stream",
          "text": [
            "Found 1458 validated image filenames belonging to 2 classes.\n",
            "Found 1458 validated image filenames belonging to 2 classes.\n",
            "Train data: \n",
            "data batch shape: 2\n",
            "data batch (32, 299, 299, 3)\n",
            "data batch2 (32, 299, 299, 3)\n",
            "labels batch shape: (32,)\n"
          ],
          "name": "stdout"
        }
      ]
    },
    {
      "cell_type": "code",
      "metadata": {
        "id": "mbPfgvffbRNP"
      },
      "source": [
        "steps_per_epoch = train_df.shape[0] // batch_size\r\n",
        "validation_steps = val_df.shape[0] // batch_size"
      ],
      "execution_count": 118,
      "outputs": []
    },
    {
      "cell_type": "code",
      "metadata": {
        "colab": {
          "base_uri": "https://localhost:8080/"
        },
        "id": "JiG8fXMWdGhL",
        "outputId": "9bdb32e2-a2b4-4d11-9d1a-18f409e658b2"
      },
      "source": [
        "epochs = 10\r\n",
        "multi_level_vgg_history = vgg_multi_resolution_model.fit(multi_train_generator, \r\n",
        "                                                          epochs = epochs,\r\n",
        "                                                          steps_per_epoch = steps_per_epoch,\r\n",
        "                                                          validation_steps = validation_steps,\r\n",
        "                                                          validation_data = multi_val_generator,\r\n",
        "                                                          callbacks=[vgg_checkpoint_callback, \r\n",
        "                                                                    vgg_early_stop_callback])"
      ],
      "execution_count": 119,
      "outputs": [
        {
          "output_type": "stream",
          "text": [
            "Epoch 1/10\n",
            "201/201 [==============================] - 298s 1s/step - loss: 0.2940 - accuracy: 0.9079 - val_loss: 0.0835 - val_accuracy: 0.9846\n",
            "Epoch 2/10\n",
            "201/201 [==============================] - 300s 1s/step - loss: 0.2012 - accuracy: 0.9324 - val_loss: 0.0721 - val_accuracy: 0.9811\n",
            "Epoch 3/10\n",
            "201/201 [==============================] - 300s 1s/step - loss: 0.1806 - accuracy: 0.9380 - val_loss: 0.0673 - val_accuracy: 0.9804\n",
            "Epoch 4/10\n",
            "201/201 [==============================] - 300s 1s/step - loss: 0.1707 - accuracy: 0.9453 - val_loss: 0.0671 - val_accuracy: 0.9797\n",
            "Epoch 5/10\n",
            "201/201 [==============================] - 302s 2s/step - loss: 0.1669 - accuracy: 0.9455 - val_loss: 0.0732 - val_accuracy: 0.9748\n",
            "Epoch 6/10\n",
            "201/201 [==============================] - 302s 2s/step - loss: 0.1635 - accuracy: 0.9458 - val_loss: 0.0759 - val_accuracy: 0.9748\n",
            "Epoch 7/10\n",
            "201/201 [==============================] - 302s 2s/step - loss: 0.1560 - accuracy: 0.9433 - val_loss: 0.0745 - val_accuracy: 0.9755\n",
            "Epoch 8/10\n",
            "201/201 [==============================] - 300s 1s/step - loss: 0.1484 - accuracy: 0.9507 - val_loss: 0.0692 - val_accuracy: 0.9783\n",
            "Epoch 9/10\n",
            "201/201 [==============================] - 301s 2s/step - loss: 0.1418 - accuracy: 0.9532 - val_loss: 0.0813 - val_accuracy: 0.9719\n",
            "Epoch 10/10\n",
            "201/201 [==============================] - 302s 2s/step - loss: 0.1408 - accuracy: 0.9545 - val_loss: 0.0636 - val_accuracy: 0.9790\n"
          ],
          "name": "stdout"
        }
      ]
    },
    {
      "cell_type": "code",
      "metadata": {
        "id": "PIhbRUsxrvWB"
      },
      "source": [
        " vgg_multi_resolution_model.save('/content/vgg_multi_resolution_model1.h5')"
      ],
      "execution_count": 123,
      "outputs": []
    }
  ]
}