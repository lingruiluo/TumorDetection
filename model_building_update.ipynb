{
  "nbformat": 4,
  "nbformat_minor": 0,
  "metadata": {
    "accelerator": "GPU",
    "colab": {
      "name": "model_building_update.ipynb",
      "provenance": [],
      "collapsed_sections": []
    },
    "kernelspec": {
      "display_name": "Python 3",
      "name": "python3"
    }
  },
  "cells": [
    {
      "cell_type": "markdown",
      "metadata": {
        "id": "JX53hsQZ3WUc"
      },
      "source": [
        "## About\n",
        "\n",
        "This starter code shows how to read slides and tumor masks from the [CAMELYON16](https://camelyon17.grand-challenge.org/Data/) dataset. It will install [OpenSlide](https://openslide.org/) in Colab (the only non-Python dependency). Note that OpenSlide also includes a [DeepZoom viewer](https://github.com/openslide/openslide-python/tree/master/examples/deepzoom), shown in class. To use that, you'll need to install and run OpenSlide locally on your computer.\n",
        "\n",
        "### Training data\n",
        "\n",
        "The original slides and annotations are in an unusual format. I converted a bunch of them for you, so you can read them with OpenSlide as shown in this notebook. This [folder](https://drive.google.com/drive/folders/1rwWL8zU9v0M27BtQKI52bF6bVLW82RL5?usp=sharing) contains all the slides and tumor masks I converted (and these should be *plenty* for your project). If you'd like more beyond this, you'll need to use ASAP as described on the competition website to convert it into an appropriate format. \n",
        "\n",
        "Note that even with the starter code, it will take some effort to understand how to work with this data (the various zoom levels, and the coordinate system). Happy to help if you're stuck (please catch me in office hours, or right after class).\n",
        "\n",
        "### Goals and grading\n",
        "\n",
        "The goal for your project is to build a thoughtful, end-to-end prototype - not to match the accuracy from the [paper](https://arxiv.org/abs/1703.02442), and not necessarily to use all the available data. To receive an A on this work, your project should (for example):\n",
        "- Use multiple zoom levels\n",
        "- Use high-magnification images\n",
        "- Include several visualizations of your results (both heatmaps showing predictions on individual slides, and other metrics/diagrams you design that are appropriate to communicate how well your model performs).\n",
        "\n",
        "You are also welcome to propose a custom project of similar scope, happy to chat with you about your ideas anytime."
      ]
    },
    {
      "cell_type": "code",
      "metadata": {
        "colab": {
          "base_uri": "https://localhost:8080/"
        },
        "id": "HJ_T09jo5rxS",
        "outputId": "13c55e56-ae57-4dda-c0b3-cc31070543e7"
      },
      "source": [
        "# Install the OpenSlide C library and Python bindings\n",
        "# After installing these libraries, use `Runtime -> restart and run all` on the menu\n",
        "!apt-get install openslide-tools\n",
        "!pip install openslide-python"
      ],
      "execution_count": null,
      "outputs": [
        {
          "output_type": "stream",
          "text": [
            "Reading package lists... Done\n",
            "Building dependency tree       \n",
            "Reading state information... Done\n",
            "The following additional packages will be installed:\n",
            "  libopenslide0\n",
            "Suggested packages:\n",
            "  libtiff-tools\n",
            "The following NEW packages will be installed:\n",
            "  libopenslide0 openslide-tools\n",
            "0 upgraded, 2 newly installed, 0 to remove and 14 not upgraded.\n",
            "Need to get 92.5 kB of archives.\n",
            "After this operation, 268 kB of additional disk space will be used.\n",
            "Get:1 http://archive.ubuntu.com/ubuntu bionic/universe amd64 libopenslide0 amd64 3.4.1+dfsg-2 [79.8 kB]\n",
            "Get:2 http://archive.ubuntu.com/ubuntu bionic/universe amd64 openslide-tools amd64 3.4.1+dfsg-2 [12.7 kB]\n",
            "Fetched 92.5 kB in 0s (208 kB/s)\n",
            "Selecting previously unselected package libopenslide0.\n",
            "(Reading database ... 144865 files and directories currently installed.)\n",
            "Preparing to unpack .../libopenslide0_3.4.1+dfsg-2_amd64.deb ...\n",
            "Unpacking libopenslide0 (3.4.1+dfsg-2) ...\n",
            "Selecting previously unselected package openslide-tools.\n",
            "Preparing to unpack .../openslide-tools_3.4.1+dfsg-2_amd64.deb ...\n",
            "Unpacking openslide-tools (3.4.1+dfsg-2) ...\n",
            "Setting up libopenslide0 (3.4.1+dfsg-2) ...\n",
            "Setting up openslide-tools (3.4.1+dfsg-2) ...\n",
            "Processing triggers for libc-bin (2.27-3ubuntu1.2) ...\n",
            "/sbin/ldconfig.real: /usr/local/lib/python3.6/dist-packages/ideep4py/lib/libmkldnn.so.0 is not a symbolic link\n",
            "\n",
            "Processing triggers for man-db (2.8.3-2ubuntu0.1) ...\n",
            "Collecting openslide-python\n",
            "\u001b[?25l  Downloading https://files.pythonhosted.org/packages/03/da/12dc0e7566ace61a5a65244220458dcb656b09cbf18ca50f3098875d97e4/openslide-python-1.1.2.tar.gz (316kB)\n",
            "\u001b[K     |████████████████████████████████| 317kB 13.2MB/s \n",
            "\u001b[?25hRequirement already satisfied: Pillow in /usr/local/lib/python3.6/dist-packages (from openslide-python) (7.0.0)\n",
            "Building wheels for collected packages: openslide-python\n",
            "  Building wheel for openslide-python (setup.py) ... \u001b[?25l\u001b[?25hdone\n",
            "  Created wheel for openslide-python: filename=openslide_python-1.1.2-cp36-cp36m-linux_x86_64.whl size=26716 sha256=74ce1132d1e4fdfe9ac4e4abc23d2afca3f7af90840d2b0ba67418e0704822da\n",
            "  Stored in directory: /root/.cache/pip/wheels/6b/55/74/ba9d3dcc2c5c0f1282e08bae70df0ed57b496fb6b5c8f1adc9\n",
            "Successfully built openslide-python\n",
            "Installing collected packages: openslide-python\n",
            "Successfully installed openslide-python-1.1.2\n"
          ],
          "name": "stdout"
        }
      ]
    },
    {
      "cell_type": "code",
      "metadata": {
        "id": "Ws_fS_f13WUd"
      },
      "source": [
        "%matplotlib inline\n",
        "import matplotlib.pyplot as plt\n",
        "import numpy as np\n",
        "from openslide import open_slide, __library_version__ as openslide_version\n",
        "import os\n",
        "from PIL import Image\n",
        "from skimage.color import rgb2gray\n",
        "import random\n",
        "import pandas as pd"
      ],
      "execution_count": null,
      "outputs": []
    },
    {
      "cell_type": "markdown",
      "metadata": {
        "id": "jPBGXWwlZvy1"
      },
      "source": [
        "# Generate Dataset\n",
        "\n",
        "- Train, Validation, Test"
      ]
    },
    {
      "cell_type": "code",
      "metadata": {
        "colab": {
          "base_uri": "https://localhost:8080/"
        },
        "id": "tx5T_PPkWCN8",
        "outputId": "a1709c71-7f5a-4178-c8a5-54b599a1c75d"
      },
      "source": [
        "from google.colab import drive\r\n",
        "drive.mount('/content/drive')"
      ],
      "execution_count": null,
      "outputs": [
        {
          "output_type": "stream",
          "text": [
            "Mounted at /content/drive\n"
          ],
          "name": "stdout"
        }
      ]
    },
    {
      "cell_type": "code",
      "metadata": {
        "id": "qMMpXRB7oIZD"
      },
      "source": [
        "def make_dir(base_path, level):\r\n",
        "    level_dir = f'{base_path}level{level}'\r\n",
        "    if not os.path.exists(level_dir):\r\n",
        "        os.mkdir(level_dir)\r\n",
        "    train_image_dir = os.path.join(level_dir,'train_image/')\r\n",
        "    train_mask_dir = os.path.join(level_dir,'train_mask/')\r\n",
        "\r\n",
        "    val_image_dir = os.path.join(level_dir,'val_image/')\r\n",
        "    val_mask_dir = os.path.join(level_dir,'val_mask/')\r\n",
        "\r\n",
        "    test_image_dir = os.path.join(level_dir,'test_image/')\r\n",
        "    test_mask_dir = os.path.join(level_dir,'test_mask/')\r\n",
        "\r\n",
        "    if not os.path.exists(train_image_dir):\r\n",
        "        os.mkdir(train_image_dir)\r\n",
        "    if not os.path.exists(train_mask_dir):\r\n",
        "        os.mkdir(train_mask_dir)\r\n",
        "    if not os.path.exists(val_image_dir):\r\n",
        "        os.mkdir(val_image_dir)\r\n",
        "    if not os.path.exists(val_mask_dir):\r\n",
        "        os.mkdir(val_mask_dir)    \r\n",
        "    if not os.path.exists(test_image_dir):\r\n",
        "        os.mkdir(test_image_dir)\r\n",
        "    if not os.path.exists(test_mask_dir):\r\n",
        "        os.mkdir(test_mask_dir)\r\n",
        "    return(train_image_dir, train_mask_dir, val_image_dir, val_mask_dir, test_image_dir, test_mask_dir)"
      ],
      "execution_count": null,
      "outputs": []
    },
    {
      "cell_type": "code",
      "metadata": {
        "id": "fMy5goYU6IZF"
      },
      "source": [
        "base_path = '/content/'\r\n",
        "train_image_dir5, train_mask_dir5, val_image_dir5, val_mask_dir5, test_image_dir5, test_mask_dir5 = make_dir(base_path, level = 5)\r\n",
        "train_image_dir4, train_mask_dir4, val_image_dir4, val_mask_dir4, test_image_dir4, test_mask_dir4 = make_dir(base_path, level = 4)\r\n",
        "train_image_dir3, train_mask_dir3, val_image_dir3, val_mask_dir3, test_image_dir3, test_mask_dir3 = make_dir(base_path, level = 3)"
      ],
      "execution_count": null,
      "outputs": []
    },
    {
      "cell_type": "code",
      "metadata": {
        "colab": {
          "base_uri": "https://localhost:8080/"
        },
        "id": "_g2iIxixVr4Z",
        "outputId": "29f9618d-08f0-48cb-9330-fecbb2620a9f"
      },
      "source": [
        "# create a folder called 'Applied Deep Learning' in the Google Drive\r\n",
        "\r\n",
        "!unzip -q '/content/drive/MyDrive/Applied Deep Learning/project/level4/train_mask.zip' -d /content/level4/train_mask/\r\n",
        "!unzip -q '/content/drive/MyDrive/Applied Deep Learning/project/level4/train_image.zip' -d /content/level4/train_image/\r\n",
        "!unzip -q '/content/drive/MyDrive/Applied Deep Learning/project/level4/val_mask.zip' -d /content/level4/val_mask/\r\n",
        "!unzip -q '/content/drive/MyDrive/Applied Deep Learning/project/level4/val_image.zip' -d /content/level4/val_image/\r\n",
        "!unzip -q '/content/drive/MyDrive/Applied Deep Learning/project/level4/test_mask.zip' -d /content/level4/test_mask/\r\n",
        "!unzip -q '/content/drive/MyDrive/Applied Deep Learning/project/level4/test_image.zip' -d /content/level4/test_image/\r\n",
        "\r\n",
        "!unzip -q '/content/drive/MyDrive/Applied Deep Learning/project/level5/train_mask.zip' -d /content/level5/train_mask/\r\n",
        "!unzip -q '/content/drive/MyDrive/Applied Deep Learning/project/level5/train_image.zip' -d /content/level5/train_image/\r\n",
        "!unzip -q '/content/drive/MyDrive/Applied Deep Learning/project/level5/val_mask.zip' -d /content/level5/val_mask/\r\n",
        "!unzip -q '/content/drive/MyDrive/Applied Deep Learning/project/level5/val_image.zip' -d /content/level5/val_image/\r\n",
        "!unzip -q '/content/drive/MyDrive/Applied Deep Learning/project/level5/test_mask.zip' -d /content/level5/test_mask/\r\n",
        "!unzip -q '/content/drive/MyDrive/Applied Deep Learning/project/level5/test_image.zip' -d /content/level5/test_image/\r\n",
        "\r\n",
        "!unzip -q '/content/drive/MyDrive/Applied Deep Learning/project/level3/train_mask.zip' -d /content/level3/train_mask/\r\n",
        "!unzip -q '/content/drive/MyDrive/Applied Deep Learning/project/level3/train_image.zip' -d /content/level3/train_image/\r\n",
        "!unzip -q '/content/drive/MyDrive/Applied Deep Learning/project/level3/val_mask.zip' -d /content/level3/val_mask/\r\n",
        "!unzip -q '/content/drive/MyDrive/Applied Deep Learning/project/level3/val_image.zip' -d /content/level3/val_image/\r\n",
        "!unzip -q '/content/drive/MyDrive/Applied Deep Learning/project/level3/test_mask.zip' -d /content/level3/test_mask/\r\n",
        "!unzip -q '/content/drive/MyDrive/Applied Deep Learning/project/level3/test_image.zip' -d /content/level3/test_image/"
      ],
      "execution_count": null,
      "outputs": [
        {
          "output_type": "stream",
          "text": [
            "unzip:  cannot find or open /content/drive/MyDrive/Applied Deep Learning/project/level3/train_mask.zip, /content/drive/MyDrive/Applied Deep Learning/project/level3/train_mask.zip.zip or /content/drive/MyDrive/Applied Deep Learning/project/level3/train_mask.zip.ZIP.\n",
            "unzip:  cannot find or open /content/drive/MyDrive/Applied Deep Learning/project/level3/train_image.zip, /content/drive/MyDrive/Applied Deep Learning/project/level3/train_image.zip.zip or /content/drive/MyDrive/Applied Deep Learning/project/level3/train_image.zip.ZIP.\n",
            "unzip:  cannot find or open /content/drive/MyDrive/Applied Deep Learning/project/level3/val_mask.zip, /content/drive/MyDrive/Applied Deep Learning/project/level3/val_mask.zip.zip or /content/drive/MyDrive/Applied Deep Learning/project/level3/val_mask.zip.ZIP.\n",
            "unzip:  cannot find or open /content/drive/MyDrive/Applied Deep Learning/project/level3/val_image.zip, /content/drive/MyDrive/Applied Deep Learning/project/level3/val_image.zip.zip or /content/drive/MyDrive/Applied Deep Learning/project/level3/val_image.zip.ZIP.\n"
          ],
          "name": "stdout"
        }
      ]
    },
    {
      "cell_type": "code",
      "metadata": {
        "id": "AriH0BAYkbYb"
      },
      "source": [
        "!cp '/content/drive/MyDrive/Applied Deep Learning/project/level4/level4_train_data.txt' /content/\n",
        "!cp '/content/drive/MyDrive/Applied Deep Learning/project/level4/level4_val_data.txt' /content/\n",
        "!cp '/content/drive/MyDrive/Applied Deep Learning/project/level4/level4_test_data.txt' /content/\n",
        "\n",
        "!cp '/content/drive/MyDrive/Applied Deep Learning/project/level5/level5_train_data.txt' /content/\n",
        "!cp '/content/drive/MyDrive/Applied Deep Learning/project/level5/level5_val_data.txt' /content/\n",
        "!cp '/content/drive/MyDrive/Applied Deep Learning/project/level5/level5_test_data.txt' /content/\n",
        "\n",
        "!cp '/content/drive/MyDrive/Applied Deep Learning/project/level3/level3_train_data.txt' /content/\n",
        "!cp '/content/drive/MyDrive/Applied Deep Learning/project/level3/level3_val_data.txt' /content/\n",
        "!cp '/content/drive/MyDrive/Applied Deep Learning/project/level3/level3_test_data.txt' /content/"
      ],
      "execution_count": null,
      "outputs": []
    },
    {
      "cell_type": "code",
      "metadata": {
        "colab": {
          "background_save": true
        },
        "id": "mA4IYKkuWxGb"
      },
      "source": [
        "IMG_SIZE = 299\r\n",
        "batch_size = 32\r\n",
        "from tensorflow.keras.preprocessing.image import ImageDataGenerator\r\n",
        "\r\n",
        "# data generator\r\n",
        "def data_generator(train_image_dir, val_image_dir, test_image_dir):\r\n",
        "    train_datagen = ImageDataGenerator(rescale = 1./255)\r\n",
        "    test_datagen = ImageDataGenerator(rescale = 1./255)\r\n",
        "    # train set\r\n",
        "    train_generator = train_datagen.flow_from_directory(\r\n",
        "        train_image_dir,\r\n",
        "        target_size = (IMG_SIZE, IMG_SIZE),\r\n",
        "        batch_size = batch_size,\r\n",
        "        class_mode = 'binary',\r\n",
        "        shuffle=True,\r\n",
        "        subset='training'\r\n",
        "    )\r\n",
        "    validation_generator = test_datagen.flow_from_directory(\r\n",
        "        val_image_dir, \r\n",
        "        target_size = (IMG_SIZE, IMG_SIZE),\r\n",
        "        batch_size = batch_size,\r\n",
        "        class_mode = 'binary',\r\n",
        "        shuffle=True,\r\n",
        "        subset='validation'\r\n",
        "    )\r\n",
        "\r\n",
        "    for data_batch, labels_batch in train_generator:\r\n",
        "        print('Train data: ')\r\n",
        "        print('data batch shape:', data_batch.shape)\r\n",
        "        print('labels batch shape:', labels_batch.shape)\r\n",
        "        break\r\n",
        "\r\n",
        "    for data_batch, labels_batch in validation_generator:\r\n",
        "        print('\\n')\r\n",
        "        print('Validation data: ')\r\n",
        "        print('data batch shape:', data_batch.shape)\r\n",
        "        print('labels batch shape:', labels_batch.shape)\r\n",
        "        break\r\n",
        "    # test set\r\n",
        "    test_generator = test_datagen.flow_from_directory(\r\n",
        "        test_image_dir,\r\n",
        "        target_size = (IMG_SIZE, IMG_SIZE),\r\n",
        "        batch_size = batch_size,\r\n",
        "        class_mode = 'binary'\r\n",
        "    )\r\n",
        "    return(train_generator, validation_generator, test_generator)\r\n",
        "\r\n",
        "# data generator with augmentation\r\n",
        "def data_generator_aug(train_image_dir, val_image_dir, test_image_dir):\r\n",
        "    # train set\r\n",
        "    train_datagen = ImageDataGenerator(\r\n",
        "        rescale=1./255,\r\n",
        "        rotation_range=90,\r\n",
        "        # width_shift_range=0.2,\r\n",
        "        # height_shift_range=0.2,\r\n",
        "        # shear_range=0.2,\r\n",
        "        # zoom_range=0.2,\r\n",
        "        horizontal_flip=True,\r\n",
        "        validation_split=0.2)\r\n",
        "    test_datagen = ImageDataGenerator(rescale = 1./255)\r\n",
        "    # train set\r\n",
        "    train_generator = train_datagen.flow_from_directory(\r\n",
        "        train_image_dir,\r\n",
        "        target_size = (IMG_SIZE, IMG_SIZE),\r\n",
        "        batch_size = batch_size,\r\n",
        "        class_mode = 'binary',\r\n",
        "        shuffle=True,\r\n",
        "        subset='training'\r\n",
        "    )\r\n",
        "    validation_generator = test_datagen.flow_from_directory(\r\n",
        "        val_image_dir, \r\n",
        "        target_size = (IMG_SIZE, IMG_SIZE),\r\n",
        "        batch_size = batch_size,\r\n",
        "        class_mode = 'binary',\r\n",
        "        shuffle=True,\r\n",
        "        subset='validation'\r\n",
        "    )\r\n",
        "\r\n",
        "    for data_batch, labels_batch in train_generator:\r\n",
        "        print('Train data: ')\r\n",
        "        print('data batch shape:', data_batch.shape)\r\n",
        "        print('labels batch shape:', labels_batch.shape)\r\n",
        "        break\r\n",
        "\r\n",
        "    for data_batch, labels_batch in validation_generator:\r\n",
        "        print('\\n')\r\n",
        "        print('Validation data: ')\r\n",
        "        print('data batch shape:', data_batch.shape)\r\n",
        "        print('labels batch shape:', labels_batch.shape)\r\n",
        "        break\r\n",
        "    # test set\r\n",
        "    test_generator = test_datagen.flow_from_directory(\r\n",
        "        test_image_dir,\r\n",
        "        target_size = (IMG_SIZE, IMG_SIZE),\r\n",
        "        batch_size = batch_size,\r\n",
        "        class_mode = 'binary'\r\n",
        "    )\r\n",
        "    return(train_generator, validation_generator, test_generator)"
      ],
      "execution_count": null,
      "outputs": []
    },
    {
      "cell_type": "code",
      "metadata": {
        "colab": {
          "background_save": true,
          "base_uri": "https://localhost:8080/"
        },
        "id": "17VSSzEil5yq",
        "outputId": "352cc01c-2d6d-40ed-88ed-49a708dc9b8e"
      },
      "source": [
        "# train_generator, validation_generator, test_generator = data_generator(train_image_dir4, val_image_dir4, test_image_dir4)\r\n",
        "train_generator, validation_generator, test_generator = data_generator_aug(train_image_dir4, val_image_dir4, test_image_dir4)\r\n",
        "\r\n",
        "# train_generator, validation_generator, test_generator = data_generator(train_image_dir5, val_image_dir5, test_image_dir5)\r\n",
        "# train_generator_aug, validation_generator, test_generator = data_generator_aug(train_image_dir5, val_image_dir5, test_image_dir5)"
      ],
      "execution_count": null,
      "outputs": [
        {
          "output_type": "stream",
          "text": [
            "Found 5564 images belonging to 2 classes.\n",
            "Found 0 images belonging to 2 classes.\n",
            "Train data: \n",
            "data batch shape: (32, 299, 299, 3)\n",
            "labels batch shape: (32,)\n",
            "\n",
            "\n",
            "Validation data: \n",
            "data batch shape: (0, 299, 299, 3)\n",
            "labels batch shape: (0,)\n",
            "Found 1341 images belonging to 2 classes.\n"
          ],
          "name": "stdout"
        }
      ]
    },
    {
      "cell_type": "code",
      "metadata": {
        "colab": {
          "base_uri": "https://localhost:8080/",
          "height": 456
        },
        "id": "WddSvnaN9RJn",
        "outputId": "fd63c7f7-e47b-40d9-9a78-6fffd587b1eb"
      },
      "source": [
        "import tensorflow as tf\r\n",
        "model = tf.keras.Sequential()\r\n",
        "model.add(tf.keras.layers.Conv2D(32, (3, 3), activation = 'relu',\r\n",
        "                                 input_shape = (IMG_SIZE, IMG_SIZE, 3)))\r\n",
        "model.add(tf.keras.layers.MaxPooling2D())\r\n",
        "# model.add(tf.keras.layers.Conv2D(32, (3, 3), activation = 'relu'))\r\n",
        "# model.add(tf.keras.layers.MaxPooling2D())\r\n",
        "model.add(tf.keras.layers.Flatten())\r\n",
        "model.add(tf.keras.layers.Dense(2, activation = 'softmax'))\r\n",
        "\r\n",
        "model.compile(optimizer = tf.keras.optimizers.Adam(learning_rate=0.001),\r\n",
        "              loss = 'sparse_categorical_crossentropy',\r\n",
        "              metrics = ['accuracy'])\r\n",
        "\r\n",
        "history = model.fit(\r\n",
        "    train_generator,\r\n",
        "    epochs = 5,\r\n",
        "    validation_data = validation_generator\r\n",
        ")"
      ],
      "execution_count": null,
      "outputs": [
        {
          "output_type": "stream",
          "text": [
            "Epoch 1/5\n",
            "174/174 [==============================] - 114s 619ms/step - loss: 7.4517 - accuracy: 0.8421\n",
            "Epoch 2/5\n",
            " 67/174 [==========>...................] - ETA: 1:05 - loss: 0.2578 - accuracy: 0.8802"
          ],
          "name": "stdout"
        },
        {
          "output_type": "error",
          "ename": "KeyboardInterrupt",
          "evalue": "ignored",
          "traceback": [
            "\u001b[0;31m---------------------------------------------------------------------------\u001b[0m",
            "\u001b[0;31mKeyboardInterrupt\u001b[0m                         Traceback (most recent call last)",
            "\u001b[0;32m<ipython-input-18-db7b4599509a>\u001b[0m in \u001b[0;36m<module>\u001b[0;34m()\u001b[0m\n\u001b[1;32m     16\u001b[0m     \u001b[0mtrain_generator\u001b[0m\u001b[0;34m,\u001b[0m\u001b[0;34m\u001b[0m\u001b[0;34m\u001b[0m\u001b[0m\n\u001b[1;32m     17\u001b[0m     \u001b[0mepochs\u001b[0m \u001b[0;34m=\u001b[0m \u001b[0;36m5\u001b[0m\u001b[0;34m,\u001b[0m\u001b[0;34m\u001b[0m\u001b[0;34m\u001b[0m\u001b[0m\n\u001b[0;32m---> 18\u001b[0;31m     \u001b[0mvalidation_data\u001b[0m \u001b[0;34m=\u001b[0m \u001b[0mvalidation_generator\u001b[0m\u001b[0;34m\u001b[0m\u001b[0;34m\u001b[0m\u001b[0m\n\u001b[0m\u001b[1;32m     19\u001b[0m     \u001b[0;31m# callbacks=[vgg_checkpoint_callback]\u001b[0m\u001b[0;34m\u001b[0m\u001b[0;34m\u001b[0m\u001b[0;34m\u001b[0m\u001b[0m\n\u001b[1;32m     20\u001b[0m )\n",
            "\u001b[0;32m/usr/local/lib/python3.6/dist-packages/tensorflow/python/keras/engine/training.py\u001b[0m in \u001b[0;36mfit\u001b[0;34m(self, x, y, batch_size, epochs, verbose, callbacks, validation_split, validation_data, shuffle, class_weight, sample_weight, initial_epoch, steps_per_epoch, validation_steps, validation_batch_size, validation_freq, max_queue_size, workers, use_multiprocessing)\u001b[0m\n\u001b[1;32m   1098\u001b[0m                 _r=1):\n\u001b[1;32m   1099\u001b[0m               \u001b[0mcallbacks\u001b[0m\u001b[0;34m.\u001b[0m\u001b[0mon_train_batch_begin\u001b[0m\u001b[0;34m(\u001b[0m\u001b[0mstep\u001b[0m\u001b[0;34m)\u001b[0m\u001b[0;34m\u001b[0m\u001b[0;34m\u001b[0m\u001b[0m\n\u001b[0;32m-> 1100\u001b[0;31m               \u001b[0mtmp_logs\u001b[0m \u001b[0;34m=\u001b[0m \u001b[0mself\u001b[0m\u001b[0;34m.\u001b[0m\u001b[0mtrain_function\u001b[0m\u001b[0;34m(\u001b[0m\u001b[0miterator\u001b[0m\u001b[0;34m)\u001b[0m\u001b[0;34m\u001b[0m\u001b[0;34m\u001b[0m\u001b[0m\n\u001b[0m\u001b[1;32m   1101\u001b[0m               \u001b[0;32mif\u001b[0m \u001b[0mdata_handler\u001b[0m\u001b[0;34m.\u001b[0m\u001b[0mshould_sync\u001b[0m\u001b[0;34m:\u001b[0m\u001b[0;34m\u001b[0m\u001b[0;34m\u001b[0m\u001b[0m\n\u001b[1;32m   1102\u001b[0m                 \u001b[0mcontext\u001b[0m\u001b[0;34m.\u001b[0m\u001b[0masync_wait\u001b[0m\u001b[0;34m(\u001b[0m\u001b[0;34m)\u001b[0m\u001b[0;34m\u001b[0m\u001b[0;34m\u001b[0m\u001b[0m\n",
            "\u001b[0;32m/usr/local/lib/python3.6/dist-packages/tensorflow/python/eager/def_function.py\u001b[0m in \u001b[0;36m__call__\u001b[0;34m(self, *args, **kwds)\u001b[0m\n\u001b[1;32m    826\u001b[0m     \u001b[0mtracing_count\u001b[0m \u001b[0;34m=\u001b[0m \u001b[0mself\u001b[0m\u001b[0;34m.\u001b[0m\u001b[0mexperimental_get_tracing_count\u001b[0m\u001b[0;34m(\u001b[0m\u001b[0;34m)\u001b[0m\u001b[0;34m\u001b[0m\u001b[0;34m\u001b[0m\u001b[0m\n\u001b[1;32m    827\u001b[0m     \u001b[0;32mwith\u001b[0m \u001b[0mtrace\u001b[0m\u001b[0;34m.\u001b[0m\u001b[0mTrace\u001b[0m\u001b[0;34m(\u001b[0m\u001b[0mself\u001b[0m\u001b[0;34m.\u001b[0m\u001b[0m_name\u001b[0m\u001b[0;34m)\u001b[0m \u001b[0;32mas\u001b[0m \u001b[0mtm\u001b[0m\u001b[0;34m:\u001b[0m\u001b[0;34m\u001b[0m\u001b[0;34m\u001b[0m\u001b[0m\n\u001b[0;32m--> 828\u001b[0;31m       \u001b[0mresult\u001b[0m \u001b[0;34m=\u001b[0m \u001b[0mself\u001b[0m\u001b[0;34m.\u001b[0m\u001b[0m_call\u001b[0m\u001b[0;34m(\u001b[0m\u001b[0;34m*\u001b[0m\u001b[0margs\u001b[0m\u001b[0;34m,\u001b[0m \u001b[0;34m**\u001b[0m\u001b[0mkwds\u001b[0m\u001b[0;34m)\u001b[0m\u001b[0;34m\u001b[0m\u001b[0;34m\u001b[0m\u001b[0m\n\u001b[0m\u001b[1;32m    829\u001b[0m       \u001b[0mcompiler\u001b[0m \u001b[0;34m=\u001b[0m \u001b[0;34m\"xla\"\u001b[0m \u001b[0;32mif\u001b[0m \u001b[0mself\u001b[0m\u001b[0;34m.\u001b[0m\u001b[0m_experimental_compile\u001b[0m \u001b[0;32melse\u001b[0m \u001b[0;34m\"nonXla\"\u001b[0m\u001b[0;34m\u001b[0m\u001b[0;34m\u001b[0m\u001b[0m\n\u001b[1;32m    830\u001b[0m       \u001b[0mnew_tracing_count\u001b[0m \u001b[0;34m=\u001b[0m \u001b[0mself\u001b[0m\u001b[0;34m.\u001b[0m\u001b[0mexperimental_get_tracing_count\u001b[0m\u001b[0;34m(\u001b[0m\u001b[0;34m)\u001b[0m\u001b[0;34m\u001b[0m\u001b[0;34m\u001b[0m\u001b[0m\n",
            "\u001b[0;32m/usr/local/lib/python3.6/dist-packages/tensorflow/python/eager/def_function.py\u001b[0m in \u001b[0;36m_call\u001b[0;34m(self, *args, **kwds)\u001b[0m\n\u001b[1;32m    853\u001b[0m       \u001b[0;31m# In this case we have created variables on the first call, so we run the\u001b[0m\u001b[0;34m\u001b[0m\u001b[0;34m\u001b[0m\u001b[0;34m\u001b[0m\u001b[0m\n\u001b[1;32m    854\u001b[0m       \u001b[0;31m# defunned version which is guaranteed to never create variables.\u001b[0m\u001b[0;34m\u001b[0m\u001b[0;34m\u001b[0m\u001b[0;34m\u001b[0m\u001b[0m\n\u001b[0;32m--> 855\u001b[0;31m       \u001b[0;32mreturn\u001b[0m \u001b[0mself\u001b[0m\u001b[0;34m.\u001b[0m\u001b[0m_stateless_fn\u001b[0m\u001b[0;34m(\u001b[0m\u001b[0;34m*\u001b[0m\u001b[0margs\u001b[0m\u001b[0;34m,\u001b[0m \u001b[0;34m**\u001b[0m\u001b[0mkwds\u001b[0m\u001b[0;34m)\u001b[0m  \u001b[0;31m# pylint: disable=not-callable\u001b[0m\u001b[0;34m\u001b[0m\u001b[0;34m\u001b[0m\u001b[0m\n\u001b[0m\u001b[1;32m    856\u001b[0m     \u001b[0;32melif\u001b[0m \u001b[0mself\u001b[0m\u001b[0;34m.\u001b[0m\u001b[0m_stateful_fn\u001b[0m \u001b[0;32mis\u001b[0m \u001b[0;32mnot\u001b[0m \u001b[0;32mNone\u001b[0m\u001b[0;34m:\u001b[0m\u001b[0;34m\u001b[0m\u001b[0;34m\u001b[0m\u001b[0m\n\u001b[1;32m    857\u001b[0m       \u001b[0;31m# Release the lock early so that multiple threads can perform the call\u001b[0m\u001b[0;34m\u001b[0m\u001b[0;34m\u001b[0m\u001b[0;34m\u001b[0m\u001b[0m\n",
            "\u001b[0;32m/usr/local/lib/python3.6/dist-packages/tensorflow/python/eager/function.py\u001b[0m in \u001b[0;36m__call__\u001b[0;34m(self, *args, **kwargs)\u001b[0m\n\u001b[1;32m   2941\u001b[0m        filtered_flat_args) = self._maybe_define_function(args, kwargs)\n\u001b[1;32m   2942\u001b[0m     return graph_function._call_flat(\n\u001b[0;32m-> 2943\u001b[0;31m         filtered_flat_args, captured_inputs=graph_function.captured_inputs)  # pylint: disable=protected-access\n\u001b[0m\u001b[1;32m   2944\u001b[0m \u001b[0;34m\u001b[0m\u001b[0m\n\u001b[1;32m   2945\u001b[0m   \u001b[0;34m@\u001b[0m\u001b[0mproperty\u001b[0m\u001b[0;34m\u001b[0m\u001b[0;34m\u001b[0m\u001b[0m\n",
            "\u001b[0;32m/usr/local/lib/python3.6/dist-packages/tensorflow/python/eager/function.py\u001b[0m in \u001b[0;36m_call_flat\u001b[0;34m(self, args, captured_inputs, cancellation_manager)\u001b[0m\n\u001b[1;32m   1917\u001b[0m       \u001b[0;31m# No tape is watching; skip to running the function.\u001b[0m\u001b[0;34m\u001b[0m\u001b[0;34m\u001b[0m\u001b[0;34m\u001b[0m\u001b[0m\n\u001b[1;32m   1918\u001b[0m       return self._build_call_outputs(self._inference_function.call(\n\u001b[0;32m-> 1919\u001b[0;31m           ctx, args, cancellation_manager=cancellation_manager))\n\u001b[0m\u001b[1;32m   1920\u001b[0m     forward_backward = self._select_forward_and_backward_functions(\n\u001b[1;32m   1921\u001b[0m         \u001b[0margs\u001b[0m\u001b[0;34m,\u001b[0m\u001b[0;34m\u001b[0m\u001b[0;34m\u001b[0m\u001b[0m\n",
            "\u001b[0;32m/usr/local/lib/python3.6/dist-packages/tensorflow/python/eager/function.py\u001b[0m in \u001b[0;36mcall\u001b[0;34m(self, ctx, args, cancellation_manager)\u001b[0m\n\u001b[1;32m    558\u001b[0m               \u001b[0minputs\u001b[0m\u001b[0;34m=\u001b[0m\u001b[0margs\u001b[0m\u001b[0;34m,\u001b[0m\u001b[0;34m\u001b[0m\u001b[0;34m\u001b[0m\u001b[0m\n\u001b[1;32m    559\u001b[0m               \u001b[0mattrs\u001b[0m\u001b[0;34m=\u001b[0m\u001b[0mattrs\u001b[0m\u001b[0;34m,\u001b[0m\u001b[0;34m\u001b[0m\u001b[0;34m\u001b[0m\u001b[0m\n\u001b[0;32m--> 560\u001b[0;31m               ctx=ctx)\n\u001b[0m\u001b[1;32m    561\u001b[0m         \u001b[0;32melse\u001b[0m\u001b[0;34m:\u001b[0m\u001b[0;34m\u001b[0m\u001b[0;34m\u001b[0m\u001b[0m\n\u001b[1;32m    562\u001b[0m           outputs = execute.execute_with_cancellation(\n",
            "\u001b[0;32m/usr/local/lib/python3.6/dist-packages/tensorflow/python/eager/execute.py\u001b[0m in \u001b[0;36mquick_execute\u001b[0;34m(op_name, num_outputs, inputs, attrs, ctx, name)\u001b[0m\n\u001b[1;32m     58\u001b[0m     \u001b[0mctx\u001b[0m\u001b[0;34m.\u001b[0m\u001b[0mensure_initialized\u001b[0m\u001b[0;34m(\u001b[0m\u001b[0;34m)\u001b[0m\u001b[0;34m\u001b[0m\u001b[0;34m\u001b[0m\u001b[0m\n\u001b[1;32m     59\u001b[0m     tensors = pywrap_tfe.TFE_Py_Execute(ctx._handle, device_name, op_name,\n\u001b[0;32m---> 60\u001b[0;31m                                         inputs, attrs, num_outputs)\n\u001b[0m\u001b[1;32m     61\u001b[0m   \u001b[0;32mexcept\u001b[0m \u001b[0mcore\u001b[0m\u001b[0;34m.\u001b[0m\u001b[0m_NotOkStatusException\u001b[0m \u001b[0;32mas\u001b[0m \u001b[0me\u001b[0m\u001b[0;34m:\u001b[0m\u001b[0;34m\u001b[0m\u001b[0;34m\u001b[0m\u001b[0m\n\u001b[1;32m     62\u001b[0m     \u001b[0;32mif\u001b[0m \u001b[0mname\u001b[0m \u001b[0;32mis\u001b[0m \u001b[0;32mnot\u001b[0m \u001b[0;32mNone\u001b[0m\u001b[0;34m:\u001b[0m\u001b[0;34m\u001b[0m\u001b[0;34m\u001b[0m\u001b[0m\n",
            "\u001b[0;31mKeyboardInterrupt\u001b[0m: "
          ]
        }
      ]
    },
    {
      "cell_type": "markdown",
      "metadata": {
        "id": "fX-Fmak6aGCn"
      },
      "source": [
        "# VGG16 "
      ]
    },
    {
      "cell_type": "code",
      "metadata": {
        "colab": {
          "background_save": true,
          "base_uri": "https://localhost:8080/"
        },
        "id": "gc-XxWOzhMFQ",
        "outputId": "891d8ced-207d-4fe3-b6a8-19ffea482891"
      },
      "source": [
        "import tensorflow as tf\r\n",
        "\r\n",
        "IMG_SIZE = 299\r\n",
        "base_model = tf.keras.applications.VGG16(\r\n",
        "    include_top = False,\r\n",
        "    weights = 'imagenet',\r\n",
        "    input_shape = (IMG_SIZE, IMG_SIZE, 3),\r\n",
        "    pooling = None,\r\n",
        "    classes = 2,\r\n",
        "    classifier_activation = 'softmax',\r\n",
        ")\r\n",
        "\r\n",
        "# do not update the pretrained weights during training\r\n",
        "base_model.trainable = False\r\n",
        "\r\n",
        "global_average_layer = tf.keras.layers.GlobalAveragePooling2D()\r\n",
        "prediction_layer = tf.keras.layers.Dense(2, activation='softmax')\r\n",
        "\r\n",
        "# build a model to use the pretrained base\r\n",
        "model = tf.keras.Sequential([\r\n",
        "    base_model,\r\n",
        "    global_average_layer,\r\n",
        "    prediction_layer\r\n",
        "])\r\n",
        "\r\n",
        "model.compile(optimizer = tf.keras.optimizers.Adam(learning_rate=0.001),\r\n",
        "              loss = 'sparse_categorical_crossentropy',\r\n",
        "              metrics = ['accuracy'])"
      ],
      "execution_count": null,
      "outputs": [
        {
          "output_type": "stream",
          "text": [
            "Downloading data from https://storage.googleapis.com/tensorflow/keras-applications/vgg16/vgg16_weights_tf_dim_ordering_tf_kernels_notop.h5\n",
            "58892288/58889256 [==============================] - 1s 0us/step\n"
          ],
          "name": "stdout"
        }
      ]
    },
    {
      "cell_type": "code",
      "metadata": {
        "colab": {
          "base_uri": "https://localhost:8080/",
          "height": 369
        },
        "id": "wwFgrPi3tLhZ",
        "outputId": "17f03279-1137-4ddd-be27-80acdcca01ef"
      },
      "source": [
        "tf.keras.utils.plot_model(model)"
      ],
      "execution_count": null,
      "outputs": [
        {
          "output_type": "execute_result",
          "data": {
            "image/png": "[encoded data removed]",
            "text/plain": [
              "<IPython.core.display.Image object>"
            ]
          },
          "metadata": {
            "tags": []
          },
          "execution_count": 13
        }
      ]
    },
    {
      "cell_type": "code",
      "metadata": {
        "id": "KcZqkPzeaQYE"
      },
      "source": [
        "if not os.path.exists('/content/checkpoint'):\n",
        "  os.mkdir('/content/checkpoint')\n",
        "if not os.path.exists('/content/checkpoint/VGG'):\n",
        "  os.mkdir('/content/checkpoint/VGG')\n",
        "vgg_checkpoint_path = '/content/checkpoint/VGG/weights-improvement-{epoch:02d}-{val_accuracy:.2f}.hdf5'\n",
        "vgg_checkpoint_callback = tf.keras.callbacks.ModelCheckpoint(vgg_checkpoint_path, \n",
        "                                                               monitor='val_accuracy', \n",
        "                                                               save_best_only=True, \n",
        "                                                               mode='max')"
      ],
      "execution_count": null,
      "outputs": []
    },
    {
      "cell_type": "code",
      "metadata": {
        "id": "an0DJ1v6bhQr"
      },
      "source": [
        "# vgg_early_stop_callback = tf.keras.callbacks.EarlyStopping(\n",
        "#                               monitor='val_loss', min_delta=0, patience=3\n",
        "#                           )"
      ],
      "execution_count": null,
      "outputs": []
    },
    {
      "cell_type": "code",
      "metadata": {
        "colab": {
          "base_uri": "https://localhost:8080/"
        },
        "id": "YuKiExyhhv3P",
        "outputId": "ea72ca0a-afd3-4108-8527-9f9f592ae95c"
      },
      "source": [
        "history = model.fit(\r\n",
        "    train_generator,\r\n",
        "    epochs = 5,\r\n",
        "    validation_data = validation_generator,\r\n",
        "    callbacks=[vgg_checkpoint_callback]\r\n",
        ")"
      ],
      "execution_count": null,
      "outputs": [
        {
          "output_type": "stream",
          "text": [
            "Epoch 1/5\n",
            "51/51 [==============================] - 16s 305ms/step - loss: 0.3488 - accuracy: 0.8495 - val_loss: 0.4369 - val_accuracy: 0.8486\n",
            "Epoch 2/5\n",
            "51/51 [==============================] - 16s 313ms/step - loss: 0.3403 - accuracy: 0.8495 - val_loss: 0.4358 - val_accuracy: 0.8511\n",
            "Epoch 3/5\n",
            "51/51 [==============================] - 17s 329ms/step - loss: 0.3331 - accuracy: 0.8545 - val_loss: 0.4391 - val_accuracy: 0.8511\n",
            "Epoch 4/5\n",
            "51/51 [==============================] - 17s 336ms/step - loss: 0.3264 - accuracy: 0.8557 - val_loss: 0.4399 - val_accuracy: 0.8437\n",
            "Epoch 5/5\n",
            "51/51 [==============================] - 17s 325ms/step - loss: 0.3215 - accuracy: 0.8625 - val_loss: 0.4414 - val_accuracy: 0.8437\n"
          ],
          "name": "stdout"
        }
      ]
    },
    {
      "cell_type": "code",
      "metadata": {
        "id": "gpTtD8oTkDnp"
      },
      "source": [
        "train_df = pd.read_csv('/content/level5_train_data.txt', header=None)\n",
        "train_df.columns = ['Image Paths', 'Mask Paths', 'Xoffset', 'Yoffset', 'Labels', 'Level']\n",
        "\n",
        "test_df = pd.read_csv('/content/level5_test_data.txt', header=None)\n",
        "test_df.columns = ['Image Paths', 'Mask Paths', 'Xoffset', 'Yoffset', 'Labels', 'Level']"
      ],
      "execution_count": null,
      "outputs": []
    },
    {
      "cell_type": "code",
      "metadata": {
        "colab": {
          "base_uri": "https://localhost:8080/"
        },
        "id": "09zWUEZkvg40",
        "outputId": "3b35323b-0c19-43f2-da76-cad11200a194"
      },
      "source": [
        "test_loss = tf.keras.metrics.SparseCategoricalAccuracy(name='test_loss')\n",
        "test_accuracy = tf.keras.metrics.SparseCategoricalAccuracy(name='test_accuracy')\n",
        "\n",
        "predictions = model.predict(test_generator)\n",
        "true_labels = test_generator.labels\n",
        "tumor_prob = predictions[:,1]\n",
        "test_path_list = test_generator.filenames\n",
        "\n",
        "test_loss(true_labels, predictions)\n",
        "test_accuracy(true_labels, predictions)\n",
        "print()"
      ],
      "execution_count": null,
      "outputs": [
        {
          "output_type": "stream",
          "text": [
            "\n"
          ],
          "name": "stdout"
        }
      ]
    },
    {
      "cell_type": "code",
      "metadata": {
        "colab": {
          "base_uri": "https://localhost:8080/"
        },
        "id": "RRLsDLWxfki-",
        "outputId": "c46a9c64-8362-427b-e3c2-44ba7eb4016e"
      },
      "source": [
        "y_pred = np.argmax(model.predict(test_generator), axis=-1)\r\n",
        "y_true = true_labels\r\n",
        "\r\n",
        "from sklearn.metrics import classification_report\r\n",
        "print(classification_report(y_true, y_pred))"
      ],
      "execution_count": null,
      "outputs": [
        {
          "output_type": "stream",
          "text": [
            "              precision    recall  f1-score   support\n",
            "\n",
            "           0       0.55      0.91      0.69       198\n",
            "           1       0.54      0.12      0.20       167\n",
            "\n",
            "    accuracy                           0.55       365\n",
            "   macro avg       0.55      0.52      0.44       365\n",
            "weighted avg       0.55      0.55      0.46       365\n",
            "\n"
          ],
          "name": "stdout"
        }
      ]
    },
    {
      "cell_type": "code",
      "metadata": {
        "colab": {
          "base_uri": "https://localhost:8080/"
        },
        "id": "JA1dmZHzqrWv",
        "outputId": "04938bdd-795d-4da1-e9ef-6b3cf9e4e78c"
      },
      "source": [
        "print(\"Test loss: {:.02f}\\nTest accuracy: {:.02f}\".format(test_loss.result(),\n",
        "                                                          test_accuracy.result()*100))"
      ],
      "execution_count": null,
      "outputs": [
        {
          "output_type": "stream",
          "text": [
            "Test loss: 0.51\n",
            "Test accuracy: 50.68\n"
          ],
          "name": "stdout"
        }
      ]
    },
    {
      "cell_type": "code",
      "metadata": {
        "colab": {
          "base_uri": "https://localhost:8080/"
        },
        "id": "8EvOLeS2x-6F",
        "outputId": "c3796d2e-29e7-41ea-c059-d99953b94288"
      },
      "source": [
        "slide_code = '016'\n",
        "slide_name = f'slide{slide_code}'\n",
        "slide_df = test_df.iloc[list(map(lambda x: slide_name in x, test_df['Image Paths'])),:]\n",
        "slide_df['test_image'] = slide_df['Image Paths'].map(lambda x:'/'.join(x.split('/')[-2:]))\n",
        "\n",
        "slide_test_info = [(i, path) for i, path in enumerate(test_path_list) if slide_name in path]\n",
        "slide_test_path = [path for i, path in slide_test_info]\n",
        "slide_test_idx = [i for i, path in slide_test_info]\n",
        "slide_test_tumor_prob = [tumor_prob[i] for i in slide_test_idx]\n",
        "slide_test_result_df = pd.DataFrame({'path': slide_test_path, 'prob': slide_test_tumor_prob})\n",
        "merge_df = pd.merge(slide_df, slide_test_result_df, how='left', left_on='test_image', right_on = 'path')"
      ],
      "execution_count": null,
      "outputs": [
        {
          "output_type": "stream",
          "text": [
            "/usr/local/lib/python3.6/dist-packages/ipykernel_launcher.py:4: SettingWithCopyWarning: \n",
            "A value is trying to be set on a copy of a slice from a DataFrame.\n",
            "Try using .loc[row_indexer,col_indexer] = value instead\n",
            "\n",
            "See the caveats in the documentation: https://pandas.pydata.org/pandas-docs/stable/user_guide/indexing.html#returning-a-view-versus-a-copy\n",
            "  after removing the cwd from sys.path.\n"
          ],
          "name": "stderr"
        }
      ]
    },
    {
      "cell_type": "code",
      "metadata": {
        "id": "ldhsoyuWzQU9"
      },
      "source": [
        "data_path = '/content/drive/MyDrive/Applied Deep Learning/project/data/'"
      ],
      "execution_count": null,
      "outputs": []
    },
    {
      "cell_type": "code",
      "metadata": {
        "id": "iPpgm8Lb0C6s"
      },
      "source": [
        "slide_path = data_path + 'tumor_%s.tif' %slide_code\n",
        "tumor_mask_path = data_path + 'tumor_%s_mask.tif' %slide_code\n",
        "slide = open_slide(slide_path)\n",
        "tumor_mask = open_slide(tumor_mask_path)"
      ],
      "execution_count": null,
      "outputs": []
    },
    {
      "cell_type": "code",
      "metadata": {
        "id": "KhRG_u9zz8Wa"
      },
      "source": [
        "def read_slide(slide, x, y, level, width, height, as_float=False):\n",
        "    im = slide.read_region((x,y), level, (width, height))\n",
        "    im = im.convert('RGB') # drop the alpha channel\n",
        "    if as_float:\n",
        "        im = np.asarray(im, dtype=np.float32)\n",
        "    else:\n",
        "        im = np.asarray(im)\n",
        "    assert im.shape == (height, width, 3)\n",
        "    return im"
      ],
      "execution_count": null,
      "outputs": []
    },
    {
      "cell_type": "code",
      "metadata": {
        "id": "rZjtn48i0XLk"
      },
      "source": [
        "img_pred = Image.new('RGB', slide.level_dimensions[5])\n",
        "img_true = Image.new('RGB', slide.level_dimensions[5])\n",
        "\n",
        "patches_paths = [test_image_dir +'/' + path for path in merge_df['path'].to_list()]\n",
        "mask_paths = [path.replace('level5/','') for path in merge_df['Mask Paths'].to_list()]\n",
        "offsets = zip(merge_df.Xoffset.to_list(), merge_df.Yoffset.to_list())\n",
        "labels = merge_df.Labels.to_list()\n",
        "probs = merge_df.prob.to_list()\n",
        "\n",
        "for patch_path, mask_path, offset, label, prob in zip(patches_paths, mask_paths, offsets, labels, probs):\n",
        "    if prob >= 0.5:\n",
        "      patch = Image.open(patch_path)\n",
        "      patch = Image.blend(patch.convert(\"RGBA\"), Image.new(\"RGBA\", (299, 299)), 0.5)\n",
        "      mask = Image.open(mask_path)\n",
        "      mask = Image.blend(patch.convert(\"RGBA\"),Image.new(\"RGBA\", (299, 299), (192, 192, 192, 3)), 0.5)\n",
        "      img_pred.paste(patch, box=offset)\n",
        "      img_pred.paste(mask, box=offset)\n",
        "    if label > 0:\n",
        "      patch = Image.open(patch_path)\n",
        "      patch = Image.blend(patch.convert(\"RGBA\"), Image.new(\"RGBA\", (299, 299)), 0.5)\n",
        "      mask = Image.open(mask_path)\n",
        "      mask = Image.blend(patch.convert(\"RGBA\"),Image.new(\"RGBA\", (299, 299), (192, 192, 192, 3)), 0.5)\n",
        "      img_true.paste(patch, box=offset)\n",
        "      img_true.paste(mask, box=offset)"
      ],
      "execution_count": null,
      "outputs": []
    },
    {
      "cell_type": "code",
      "metadata": {
        "colab": {
          "base_uri": "https://localhost:8080/",
          "height": 881
        },
        "id": "H0ZckhGK0W-3",
        "outputId": "4d9fb7e9-9e1b-45af-ca53-7eb1d2b4f0cf"
      },
      "source": [
        "img_pred.resize(map(lambda x: int(x / 8), img.size))"
      ],
      "execution_count": null,
      "outputs": [
        {
          "output_type": "execute_result",
          "data": {
            "image/png": "[encoded data removed]",
            "text/plain": [
              "<PIL.Image.Image image mode=RGB size=382x864 at 0x7FBA4800A470>"
            ]
          },
          "metadata": {
            "tags": []
          },
          "execution_count": 136
        }
      ]
    },
    {
      "cell_type": "code",
      "metadata": {
        "colab": {
          "base_uri": "https://localhost:8080/",
          "height": 881
        },
        "id": "G4ojslPc6Tcg",
        "outputId": "0c00236d-efca-4d46-852a-296a8f2cabb3"
      },
      "source": [
        "img_true.resize(map(lambda x: int(x / 8), img.size))"
      ],
      "execution_count": null,
      "outputs": [
        {
          "output_type": "execute_result",
          "data": {
            "image/png": "[encoded data removed]",
            "text/plain": [
              "<PIL.Image.Image image mode=RGB size=382x864 at 0x7FBA480242E8>"
            ]
          },
          "metadata": {
            "tags": []
          },
          "execution_count": 138
        }
      ]
    },
    {
      "cell_type": "markdown",
      "metadata": {
        "id": "7qjrJmeLcrh6"
      },
      "source": [
        "## Data Augmentation"
      ]
    },
    {
      "cell_type": "code",
      "metadata": {
        "colab": {
          "base_uri": "https://localhost:8080/"
        },
        "id": "eOtfHHh2syPh",
        "outputId": "065b8453-0b81-48b1-a9c8-6e335adefa78"
      },
      "source": [
        "train_datagen = ImageDataGenerator(\r\n",
        "    rescale=1./255,\r\n",
        "    rotation_range=90,\r\n",
        "    # width_shift_range=0.2,\r\n",
        "    # height_shift_range=0.2,\r\n",
        "    # shear_range=0.2,\r\n",
        "    # zoom_range=0.2,\r\n",
        "    horizontal_flip=True,\r\n",
        "    validation_split=0.2)\r\n",
        "train_generator = train_datagen.flow_from_directory(\r\n",
        "    train_image_dir,\r\n",
        "    target_size = (IMG_SIZE, IMG_SIZE),\r\n",
        "    batch_size = batch_size,\r\n",
        "    class_mode = 'binary',\r\n",
        "    shuffle=True, \r\n",
        "    subset='training'\r\n",
        ")\r\n",
        "validation_generator = train_datagen.flow_from_directory(\r\n",
        "    train_image_dir, \r\n",
        "    target_size = (IMG_SIZE, IMG_SIZE),\r\n",
        "    batch_size = batch_size,\r\n",
        "    class_mode = 'binary',\r\n",
        "    shuffle=True, \r\n",
        "    subset='validation'\r\n",
        ")\r\n",
        "\r\n",
        "\r\n",
        "test_datagen = ImageDataGenerator(rescale = 1./255)\r\n",
        "test_generator = test_datagen.flow_from_directory(\r\n",
        "    test_image_dir,\r\n",
        "    target_size = (IMG_SIZE, IMG_SIZE),\r\n",
        "    batch_size = batch_size,\r\n",
        "    class_mode = 'binary'\r\n",
        ")"
      ],
      "execution_count": null,
      "outputs": [
        {
          "output_type": "stream",
          "text": [
            "Found 1962 images belonging to 2 classes.\n",
            "Found 490 images belonging to 2 classes.\n",
            "Found 365 images belonging to 2 classes.\n"
          ],
          "name": "stdout"
        }
      ]
    },
    {
      "cell_type": "code",
      "metadata": {
        "colab": {
          "base_uri": "https://localhost:8080/"
        },
        "id": "BjL_L_OOkzEB",
        "outputId": "472ea9eb-a5e4-4294-91a6-378683855af9"
      },
      "source": [
        "history_aug = model.fit(\r\n",
        "    train_generator,\r\n",
        "    epochs = 30,\r\n",
        "    validation_data = validation_generator\r\n",
        ")"
      ],
      "execution_count": null,
      "outputs": [
        {
          "output_type": "stream",
          "text": [
            "Epoch 1/30\n",
            "62/62 [==============================] - 52s 834ms/step - loss: 0.2799 - accuracy: 0.8843 - val_loss: 0.4302 - val_accuracy: 0.8612\n",
            "Epoch 2/30\n",
            "62/62 [==============================] - 51s 818ms/step - loss: 0.2752 - accuracy: 0.8874 - val_loss: 0.4196 - val_accuracy: 0.8653\n",
            "Epoch 3/30\n",
            "62/62 [==============================] - 51s 823ms/step - loss: 0.2658 - accuracy: 0.8945 - val_loss: 0.4316 - val_accuracy: 0.8592\n",
            "Epoch 4/30\n",
            "62/62 [==============================] - 51s 826ms/step - loss: 0.2709 - accuracy: 0.8909 - val_loss: 0.4609 - val_accuracy: 0.8673\n",
            "Epoch 5/30\n",
            "62/62 [==============================] - 50s 813ms/step - loss: 0.2655 - accuracy: 0.8919 - val_loss: 0.4409 - val_accuracy: 0.8633\n",
            "Epoch 6/30\n",
            "62/62 [==============================] - 50s 813ms/step - loss: 0.2622 - accuracy: 0.9011 - val_loss: 0.4606 - val_accuracy: 0.8673\n",
            "Epoch 7/30\n",
            "62/62 [==============================] - 50s 806ms/step - loss: 0.2651 - accuracy: 0.8950 - val_loss: 0.4476 - val_accuracy: 0.8694\n",
            "Epoch 8/30\n",
            "62/62 [==============================] - 50s 809ms/step - loss: 0.2603 - accuracy: 0.9006 - val_loss: 0.4439 - val_accuracy: 0.8673\n",
            "Epoch 9/30\n",
            "62/62 [==============================] - 50s 810ms/step - loss: 0.2563 - accuracy: 0.8991 - val_loss: 0.4354 - val_accuracy: 0.8673\n",
            "Epoch 10/30\n",
            "62/62 [==============================] - 50s 808ms/step - loss: 0.2588 - accuracy: 0.8970 - val_loss: 0.4615 - val_accuracy: 0.8673\n",
            "Epoch 11/30\n",
            "62/62 [==============================] - 50s 811ms/step - loss: 0.2563 - accuracy: 0.9001 - val_loss: 0.4365 - val_accuracy: 0.8653\n",
            "Epoch 12/30\n",
            "62/62 [==============================] - 50s 810ms/step - loss: 0.2607 - accuracy: 0.8986 - val_loss: 0.4288 - val_accuracy: 0.8694\n",
            "Epoch 13/30\n",
            "62/62 [==============================] - 50s 806ms/step - loss: 0.2518 - accuracy: 0.9001 - val_loss: 0.4453 - val_accuracy: 0.8653\n",
            "Epoch 14/30\n",
            "62/62 [==============================] - 50s 810ms/step - loss: 0.2535 - accuracy: 0.9016 - val_loss: 0.4469 - val_accuracy: 0.8653\n",
            "Epoch 15/30\n",
            "62/62 [==============================] - 50s 807ms/step - loss: 0.2583 - accuracy: 0.9016 - val_loss: 0.4395 - val_accuracy: 0.8653\n",
            "Epoch 16/30\n",
            "62/62 [==============================] - 50s 810ms/step - loss: 0.2558 - accuracy: 0.9027 - val_loss: 0.4564 - val_accuracy: 0.8633\n",
            "Epoch 17/30\n",
            "62/62 [==============================] - 50s 808ms/step - loss: 0.2544 - accuracy: 0.8981 - val_loss: 0.4429 - val_accuracy: 0.8571\n",
            "Epoch 18/30\n",
            "62/62 [==============================] - 50s 811ms/step - loss: 0.2583 - accuracy: 0.8976 - val_loss: 0.4478 - val_accuracy: 0.8673\n",
            "Epoch 19/30\n",
            "62/62 [==============================] - 51s 821ms/step - loss: 0.2495 - accuracy: 0.8996 - val_loss: 0.4619 - val_accuracy: 0.8653\n",
            "Epoch 20/30\n",
            "62/62 [==============================] - 50s 812ms/step - loss: 0.2505 - accuracy: 0.9027 - val_loss: 0.4610 - val_accuracy: 0.8653\n",
            "Epoch 21/30\n",
            "62/62 [==============================] - 50s 809ms/step - loss: 0.2553 - accuracy: 0.9027 - val_loss: 0.4416 - val_accuracy: 0.8673\n",
            "Epoch 22/30\n",
            "62/62 [==============================] - 50s 810ms/step - loss: 0.2541 - accuracy: 0.8996 - val_loss: 0.4564 - val_accuracy: 0.8714\n",
            "Epoch 23/30\n",
            "62/62 [==============================] - 50s 806ms/step - loss: 0.2518 - accuracy: 0.8996 - val_loss: 0.4633 - val_accuracy: 0.8694\n",
            "Epoch 24/30\n",
            "62/62 [==============================] - 50s 812ms/step - loss: 0.2525 - accuracy: 0.9027 - val_loss: 0.4375 - val_accuracy: 0.8653\n",
            "Epoch 25/30\n",
            "62/62 [==============================] - 50s 809ms/step - loss: 0.2480 - accuracy: 0.9057 - val_loss: 0.4693 - val_accuracy: 0.8673\n",
            "Epoch 26/30\n",
            "62/62 [==============================] - 50s 807ms/step - loss: 0.2478 - accuracy: 0.9016 - val_loss: 0.4473 - val_accuracy: 0.8673\n",
            "Epoch 27/30\n",
            "62/62 [==============================] - 50s 809ms/step - loss: 0.2509 - accuracy: 0.9037 - val_loss: 0.4599 - val_accuracy: 0.8735\n",
            "Epoch 28/30\n",
            "62/62 [==============================] - 50s 806ms/step - loss: 0.2455 - accuracy: 0.9052 - val_loss: 0.4493 - val_accuracy: 0.8673\n",
            "Epoch 29/30\n",
            "62/62 [==============================] - 50s 806ms/step - loss: 0.2494 - accuracy: 0.9052 - val_loss: 0.4322 - val_accuracy: 0.8592\n",
            "Epoch 30/30\n",
            "62/62 [==============================] - 50s 809ms/step - loss: 0.2457 - accuracy: 0.9037 - val_loss: 0.4330 - val_accuracy: 0.8673\n"
          ],
          "name": "stdout"
        }
      ]
    },
    {
      "cell_type": "code",
      "metadata": {
        "colab": {
          "base_uri": "https://localhost:8080/"
        },
        "id": "8dVdae8ffhVh",
        "outputId": "cdc62428-7993-435c-8f1a-37a0b817f457"
      },
      "source": [
        "test_loss = tf.keras.metrics.SparseCategoricalAccuracy(name='test_loss')\n",
        "test_accuracy = tf.keras.metrics.SparseCategoricalAccuracy(name='test_accuracy')\n",
        "\n",
        "predictions = model.predict(test_generator)\n",
        "true_labels = test_generator.labels\n",
        "tumor_prob = predictions[:,1]\n",
        "test_path_list = test_generator.filenames\n",
        "\n",
        "test_loss(true_labels, predictions)\n",
        "test_accuracy(true_labels, predictions)\n",
        "print(\"Test loss: {:.02f}\\nTest accuracy: {:.02f}\".format(test_loss.result(),\n",
        "                                                          test_accuracy.result()*100))"
      ],
      "execution_count": null,
      "outputs": [
        {
          "output_type": "stream",
          "text": [
            "Test loss: 0.55\n",
            "Test accuracy: 55.07\n"
          ],
          "name": "stdout"
        }
      ]
    },
    {
      "cell_type": "code",
      "metadata": {
        "colab": {
          "base_uri": "https://localhost:8080/"
        },
        "id": "mSDw5-Su-kVP",
        "outputId": "b111ac66-5457-408b-b865-8498935c9762"
      },
      "source": [
        "slide_code = '016'\n",
        "slide_name = f'slide{slide_code}'\n",
        "slide_df = test_df.iloc[list(map(lambda x: slide_name in x, test_df['Image Paths'])),:]\n",
        "slide_df['test_image'] = slide_df['Image Paths'].map(lambda x:'/'.join(x.split('/')[-2:]))\n",
        "\n",
        "slide_test_info = [(i, path) for i, path in enumerate(test_path_list) if slide_name in path]\n",
        "slide_test_path = [path for i, path in slide_test_info]\n",
        "slide_test_idx = [i for i, path in slide_test_info]\n",
        "slide_test_tumor_prob = [tumor_prob[i] for i in slide_test_idx]\n",
        "slide_test_result_df = pd.DataFrame({'path': slide_test_path, 'prob': slide_test_tumor_prob})\n",
        "merge_df = pd.merge(slide_df, slide_test_result_df, how='left', left_on='test_image', right_on = 'path')"
      ],
      "execution_count": null,
      "outputs": [
        {
          "output_type": "stream",
          "text": [
            "/usr/local/lib/python3.6/dist-packages/ipykernel_launcher.py:4: SettingWithCopyWarning: \n",
            "A value is trying to be set on a copy of a slice from a DataFrame.\n",
            "Try using .loc[row_indexer,col_indexer] = value instead\n",
            "\n",
            "See the caveats in the documentation: https://pandas.pydata.org/pandas-docs/stable/user_guide/indexing.html#returning-a-view-versus-a-copy\n",
            "  after removing the cwd from sys.path.\n"
          ],
          "name": "stderr"
        }
      ]
    },
    {
      "cell_type": "code",
      "metadata": {
        "id": "CECXPer8-nHC"
      },
      "source": [
        "slide_path = data_path + 'tumor_%s.tif' %slide_code\n",
        "tumor_mask_path = data_path + 'tumor_%s_mask.tif' %slide_code\n",
        "slide = open_slide(slide_path)\n",
        "tumor_mask = open_slide(tumor_mask_path)"
      ],
      "execution_count": null,
      "outputs": []
    },
    {
      "cell_type": "code",
      "metadata": {
        "id": "mAaa7lTn-p3Z"
      },
      "source": [
        "img_pred = Image.new('RGB', slide.level_dimensions[5])\n",
        "img_true = Image.new('RGB', slide.level_dimensions[5])\n",
        "\n",
        "patches_paths = [test_image_dir +'/' + path for path in merge_df['path'].to_list()]\n",
        "mask_paths = [path.replace('level5/','') for path in merge_df['Mask Paths'].to_list()]\n",
        "offsets = zip(merge_df.Xoffset.to_list(), merge_df.Yoffset.to_list())\n",
        "labels = merge_df.Labels.to_list()\n",
        "probs = merge_df.prob.to_list()\n",
        "\n",
        "for patch_path, mask_path, offset, label, prob in zip(patches_paths, mask_paths, offsets, labels, probs):\n",
        "    if prob >= 0.5:\n",
        "      patch = Image.open(patch_path)\n",
        "      patch = Image.blend(patch.convert(\"RGBA\"), Image.new(\"RGBA\", (299, 299)), 0.5)\n",
        "      mask = Image.open(mask_path)\n",
        "      mask = Image.blend(patch.convert(\"RGBA\"),Image.new(\"RGBA\", (299, 299), (192, 192, 192, 3)), 0.5)\n",
        "      img_pred.paste(patch, box=offset)\n",
        "      img_pred.paste(mask, box=offset)\n",
        "    if label > 0:\n",
        "      patch = Image.open(patch_path)\n",
        "      patch = Image.blend(patch.convert(\"RGBA\"), Image.new(\"RGBA\", (299, 299)), 0.5)\n",
        "      mask = Image.open(mask_path)\n",
        "      mask = Image.blend(patch.convert(\"RGBA\"),Image.new(\"RGBA\", (299, 299), (192, 192, 192, 3)), 0.5)\n",
        "      img_true.paste(patch, box=offset)\n",
        "      img_true.paste(mask, box=offset)"
      ],
      "execution_count": null,
      "outputs": []
    },
    {
      "cell_type": "code",
      "metadata": {
        "colab": {
          "base_uri": "https://localhost:8080/",
          "height": 881
        },
        "id": "TkWMXm64AfSo",
        "outputId": "898a06c4-7345-4785-ab93-ea7625d238ad"
      },
      "source": [
        "img_pred.resize(map(lambda x: int(x / 8), img.size))"
      ],
      "execution_count": null,
      "outputs": [
        {
          "output_type": "execute_result",
          "data": {
            "image/png": "[encoded data removed]",
            "text/plain": [
              "<PIL.Image.Image image mode=RGB size=382x864 at 0x7FBA4922D828>"
            ]
          },
          "metadata": {
            "tags": []
          },
          "execution_count": 146
        }
      ]
    },
    {
      "cell_type": "code",
      "metadata": {
        "colab": {
          "base_uri": "https://localhost:8080/",
          "height": 881
        },
        "id": "6tMi8-6UAhs6",
        "outputId": "0ed87879-f93d-404e-aa8d-15b40a68a4e8"
      },
      "source": [
        "img_true.resize(map(lambda x: int(x / 8), img.size))"
      ],
      "execution_count": null,
      "outputs": [
        {
          "output_type": "execute_result",
          "data": {
            "image/png": "[encoded data removed]",
            "text/plain": [
              "<PIL.Image.Image image mode=RGB size=382x864 at 0x7FBA4922DC18>"
            ]
          },
          "metadata": {
            "tags": []
          },
          "execution_count": 147
        }
      ]
    },
    {
      "cell_type": "code",
      "metadata": {
        "colab": {
          "base_uri": "https://localhost:8080/",
          "height": 458
        },
        "id": "FSgOekDYA8EF",
        "outputId": "bad4513c-4c2b-479c-a3d1-9ccc3f413d2b"
      },
      "source": [
        "level = 5\n",
        "slide_image = read_slide(slide, \n",
        "                         x=0, \n",
        "                         y=0, \n",
        "                         level=level, \n",
        "                         width=slide.level_dimensions[level][0], \n",
        "                         height=slide.level_dimensions[level][1])\n",
        "mask_image = read_slide(tumor_mask, \n",
        "                        x=0, \n",
        "                        y=0, \n",
        "                        level=level, \n",
        "                        width=slide.level_dimensions[level][0], \n",
        "                        height=slide.level_dimensions[level][1])\n",
        "mask_image = mask_image[:,:,0]\n",
        "plt.figure(figsize=(5,5), dpi=100)\n",
        "plt.imshow(slide_image)\n",
        "plt.imshow(mask_image, cmap='jet', alpha=0.5)"
      ],
      "execution_count": null,
      "outputs": [
        {
          "output_type": "execute_result",
          "data": {
            "text/plain": [
              "<matplotlib.image.AxesImage at 0x7fba480f7da0>"
            ]
          },
          "metadata": {
            "tags": []
          },
          "execution_count": 150
        },
        {
          "output_type": "display_data",
          "data": {
            "image/png": "[encoded data removed]",
            "text/plain": [
              "<Figure size 500x500 with 1 Axes>"
            ]
          },
          "metadata": {
            "tags": []
          }
        }
      ]
    },
    {
      "cell_type": "markdown",
      "metadata": {
        "id": "gbTONJv2fiNM"
      },
      "source": [
        "# InceptionV3\n",
        "\n",
        "- with data augmentation"
      ]
    },
    {
      "cell_type": "code",
      "metadata": {
        "colab": {
          "base_uri": "https://localhost:8080/"
        },
        "id": "xzr3m8T1fhyY",
        "outputId": "2db2f2fa-b87a-43a9-beaf-fd57e47bfe09"
      },
      "source": [
        "IMG_SIZE = 299\n",
        "\n",
        "base_model = tf.keras.applications.InceptionV3(include_top=False,\n",
        "                                           weights='imagenet',\n",
        "                                           input_shape=(IMG_SIZE, IMG_SIZE, 3))\n",
        "\n",
        "for layer in base_model.layers:\n",
        "    layer.trainable = False\n",
        "\n",
        "inception_model = tf.keras.models.Sequential()\n",
        "inception_model.add(base_model)\n",
        "inception_model.add(tf.keras.layers.GlobalAveragePooling2D())\n",
        "inception_model.add(tf.keras.layers.Dense(256, activation='relu'))\n",
        "inception_model.add(tf.keras.layers.Dropout(rate = 0.4))\n",
        "inception_model.add(tf.keras.layers.Dense(128, activation='relu'))\n",
        "inception_model.add(tf.keras.layers.Dropout(rate = 0.4))\n",
        "inception_model.add(tf.keras.layers.Dense(128, activation='relu'))\n",
        "inception_model.add(tf.keras.layers.Dense(2, activation='softmax'))\n",
        "\n",
        "\n",
        "\n",
        "\n",
        "inception_model.summary()\n",
        "\n",
        "inception_model.compile(optimizer = tf.keras.optimizers.Adam(learning_rate=0.001),\n",
        "                        loss = 'sparse_categorical_crossentropy',\n",
        "                        metrics = ['accuracy'])"
      ],
      "execution_count": null,
      "outputs": [
        {
          "output_type": "stream",
          "text": [
            "Model: \"sequential_4\"\n",
            "_________________________________________________________________\n",
            "Layer (type)                 Output Shape              Param #   \n",
            "=================================================================\n",
            "inception_v3 (Functional)    (None, 8, 8, 2048)        21802784  \n",
            "_________________________________________________________________\n",
            "global_average_pooling2d_4 ( (None, 2048)              0         \n",
            "_________________________________________________________________\n",
            "dense_5 (Dense)              (None, 256)               524544    \n",
            "_________________________________________________________________\n",
            "dropout (Dropout)            (None, 256)               0         \n",
            "_________________________________________________________________\n",
            "dense_6 (Dense)              (None, 128)               32896     \n",
            "_________________________________________________________________\n",
            "dropout_1 (Dropout)          (None, 128)               0         \n",
            "_________________________________________________________________\n",
            "dense_7 (Dense)              (None, 128)               16512     \n",
            "_________________________________________________________________\n",
            "dense_8 (Dense)              (None, 2)                 258       \n",
            "=================================================================\n",
            "Total params: 22,376,994\n",
            "Trainable params: 574,210\n",
            "Non-trainable params: 21,802,784\n",
            "_________________________________________________________________\n"
          ],
          "name": "stdout"
        }
      ]
    },
    {
      "cell_type": "code",
      "metadata": {
        "colab": {
          "base_uri": "https://localhost:8080/",
          "height": 856
        },
        "id": "KgHSKanYtPRZ",
        "outputId": "ebc6dc0a-a4e5-444e-ef05-b85833abe83c"
      },
      "source": [
        "tf.keras.utils.plot_model(inception_model)"
      ],
      "execution_count": null,
      "outputs": [
        {
          "output_type": "execute_result",
          "data": {
            "image/png": "[encoded data removed]",
            "text/plain": [
              "<IPython.core.display.Image object>"
            ]
          },
          "metadata": {
            "tags": []
          },
          "execution_count": 158
        }
      ]
    },
    {
      "cell_type": "code",
      "metadata": {
        "colab": {
          "base_uri": "https://localhost:8080/",
          "height": 1000
        },
        "id": "KmX-6DMNBXxX",
        "outputId": "4d8828fd-6f18-4c6c-dbb0-3b137dec2d9a"
      },
      "source": [
        "history_aug = inception_model.fit(\n",
        "    train_generator,\n",
        "    epochs = 30,\n",
        "    validation_data = validation_generator\n",
        ")"
      ],
      "execution_count": null,
      "outputs": [
        {
          "output_type": "stream",
          "text": [
            "Epoch 1/100\n",
            "62/62 [==============================] - 47s 764ms/step - loss: 0.3045 - accuracy: 0.8807 - val_loss: 0.4811 - val_accuracy: 0.8694\n",
            "Epoch 2/100\n",
            "62/62 [==============================] - 48s 772ms/step - loss: 0.2891 - accuracy: 0.8792 - val_loss: 0.4868 - val_accuracy: 0.8673\n",
            "Epoch 3/100\n",
            "62/62 [==============================] - 47s 764ms/step - loss: 0.2838 - accuracy: 0.8823 - val_loss: 0.5449 - val_accuracy: 0.8673\n",
            "Epoch 4/100\n",
            "62/62 [==============================] - 47s 767ms/step - loss: 0.2901 - accuracy: 0.8782 - val_loss: 0.4612 - val_accuracy: 0.8673\n",
            "Epoch 5/100\n",
            "62/62 [==============================] - 47s 766ms/step - loss: 0.2748 - accuracy: 0.8879 - val_loss: 0.4993 - val_accuracy: 0.8694\n",
            "Epoch 6/100\n",
            "62/62 [==============================] - 47s 765ms/step - loss: 0.2815 - accuracy: 0.8930 - val_loss: 0.5151 - val_accuracy: 0.8694\n",
            "Epoch 7/100\n",
            "62/62 [==============================] - 47s 766ms/step - loss: 0.2734 - accuracy: 0.8863 - val_loss: 0.5217 - val_accuracy: 0.8673\n",
            "Epoch 8/100\n",
            "62/62 [==============================] - 48s 769ms/step - loss: 0.2806 - accuracy: 0.8858 - val_loss: 0.5180 - val_accuracy: 0.8673\n",
            "Epoch 9/100\n",
            "62/62 [==============================] - 47s 766ms/step - loss: 0.2905 - accuracy: 0.8935 - val_loss: 0.4547 - val_accuracy: 0.8673\n",
            "Epoch 10/100\n",
            "62/62 [==============================] - 47s 764ms/step - loss: 0.2762 - accuracy: 0.8838 - val_loss: 0.5506 - val_accuracy: 0.8694\n",
            "Epoch 11/100\n",
            "62/62 [==============================] - 47s 765ms/step - loss: 0.2692 - accuracy: 0.8726 - val_loss: 0.4988 - val_accuracy: 0.8673\n",
            "Epoch 12/100\n",
            "62/62 [==============================] - 47s 767ms/step - loss: 0.2654 - accuracy: 0.8945 - val_loss: 0.4972 - val_accuracy: 0.8612\n",
            "Epoch 13/100\n",
            "62/62 [==============================] - 47s 765ms/step - loss: 0.2702 - accuracy: 0.8843 - val_loss: 0.4954 - val_accuracy: 0.8694\n",
            "Epoch 14/100\n",
            "62/62 [==============================] - 47s 766ms/step - loss: 0.2678 - accuracy: 0.8940 - val_loss: 0.5179 - val_accuracy: 0.8694\n",
            "Epoch 15/100\n",
            "62/62 [==============================] - 48s 771ms/step - loss: 0.2610 - accuracy: 0.8874 - val_loss: 0.4690 - val_accuracy: 0.8592\n",
            "Epoch 16/100\n",
            "62/62 [==============================] - 47s 766ms/step - loss: 0.2527 - accuracy: 0.8858 - val_loss: 0.4499 - val_accuracy: 0.8551\n",
            "Epoch 17/100\n",
            "62/62 [==============================] - 47s 766ms/step - loss: 0.2509 - accuracy: 0.8940 - val_loss: 0.4863 - val_accuracy: 0.8612\n",
            "Epoch 18/100\n",
            "62/62 [==============================] - 47s 764ms/step - loss: 0.2459 - accuracy: 0.9006 - val_loss: 0.4681 - val_accuracy: 0.8694\n",
            "Epoch 19/100\n",
            "62/62 [==============================] - 47s 764ms/step - loss: 0.2444 - accuracy: 0.8914 - val_loss: 0.5367 - val_accuracy: 0.8633\n",
            "Epoch 20/100\n",
            "62/62 [==============================] - 47s 764ms/step - loss: 0.2488 - accuracy: 0.9032 - val_loss: 0.5061 - val_accuracy: 0.8653\n",
            "Epoch 21/100\n",
            "62/62 [==============================] - 48s 774ms/step - loss: 0.2377 - accuracy: 0.8930 - val_loss: 0.5021 - val_accuracy: 0.8633\n",
            "Epoch 22/100\n",
            "62/62 [==============================] - 47s 767ms/step - loss: 0.2318 - accuracy: 0.9011 - val_loss: 0.5436 - val_accuracy: 0.8673\n",
            "Epoch 23/100\n",
            "62/62 [==============================] - 47s 767ms/step - loss: 0.2324 - accuracy: 0.9037 - val_loss: 0.5873 - val_accuracy: 0.8673\n",
            "Epoch 24/100\n",
            "62/62 [==============================] - 48s 769ms/step - loss: 0.2326 - accuracy: 0.8940 - val_loss: 0.5247 - val_accuracy: 0.8673\n",
            "Epoch 25/100\n",
            "62/62 [==============================] - 48s 769ms/step - loss: 0.2184 - accuracy: 0.9011 - val_loss: 0.4622 - val_accuracy: 0.8571\n",
            "Epoch 26/100\n",
            "62/62 [==============================] - 48s 770ms/step - loss: 0.2369 - accuracy: 0.8986 - val_loss: 0.5206 - val_accuracy: 0.8653\n",
            "Epoch 27/100\n",
            "62/62 [==============================] - 48s 768ms/step - loss: 0.2292 - accuracy: 0.8960 - val_loss: 0.4620 - val_accuracy: 0.8653\n",
            "Epoch 28/100\n",
            "62/62 [==============================] - 48s 773ms/step - loss: 0.2291 - accuracy: 0.9006 - val_loss: 0.5354 - val_accuracy: 0.8653\n",
            "Epoch 29/100\n",
            "62/62 [==============================] - 48s 768ms/step - loss: 0.2261 - accuracy: 0.9047 - val_loss: 0.6199 - val_accuracy: 0.8673\n",
            "Epoch 30/100\n",
            "62/62 [==============================] - 47s 767ms/step - loss: 0.2246 - accuracy: 0.9047 - val_loss: 0.5261 - val_accuracy: 0.8592\n",
            "Epoch 31/100\n",
            "62/62 [==============================] - 48s 769ms/step - loss: 0.2177 - accuracy: 0.9027 - val_loss: 0.4401 - val_accuracy: 0.8592\n",
            "Epoch 32/100\n",
            "62/62 [==============================] - 47s 767ms/step - loss: 0.2521 - accuracy: 0.8940 - val_loss: 0.4534 - val_accuracy: 0.8694\n",
            "Epoch 33/100\n",
            "62/62 [==============================] - 48s 768ms/step - loss: 0.2382 - accuracy: 0.8970 - val_loss: 0.4840 - val_accuracy: 0.8694\n",
            "Epoch 34/100\n",
            "62/62 [==============================] - 48s 771ms/step - loss: 0.2304 - accuracy: 0.9032 - val_loss: 0.6016 - val_accuracy: 0.8571\n",
            "Epoch 35/100\n",
            "62/62 [==============================] - 48s 769ms/step - loss: 0.2185 - accuracy: 0.9067 - val_loss: 0.5878 - val_accuracy: 0.8653\n",
            "Epoch 36/100\n",
            "62/62 [==============================] - 48s 770ms/step - loss: 0.2345 - accuracy: 0.9011 - val_loss: 0.4410 - val_accuracy: 0.8531\n",
            "Epoch 37/100\n",
            "62/62 [==============================] - 47s 766ms/step - loss: 0.2118 - accuracy: 0.9047 - val_loss: 0.5061 - val_accuracy: 0.8633\n",
            "Epoch 38/100\n",
            "62/62 [==============================] - 48s 776ms/step - loss: 0.2224 - accuracy: 0.9083 - val_loss: 0.5720 - val_accuracy: 0.8653\n",
            "Epoch 39/100\n",
            "62/62 [==============================] - 48s 770ms/step - loss: 0.2094 - accuracy: 0.9067 - val_loss: 0.5573 - val_accuracy: 0.8612\n",
            "Epoch 40/100\n",
            "62/62 [==============================] - 48s 771ms/step - loss: 0.2077 - accuracy: 0.9006 - val_loss: 0.7211 - val_accuracy: 0.8673\n",
            "Epoch 41/100\n",
            "62/62 [==============================] - 48s 775ms/step - loss: 0.2136 - accuracy: 0.9098 - val_loss: 0.5123 - val_accuracy: 0.8633\n",
            "Epoch 42/100\n",
            "62/62 [==============================] - 48s 769ms/step - loss: 0.2187 - accuracy: 0.9027 - val_loss: 0.5555 - val_accuracy: 0.8673\n",
            "Epoch 43/100\n",
            "62/62 [==============================] - 48s 768ms/step - loss: 0.1931 - accuracy: 0.9052 - val_loss: 0.6149 - val_accuracy: 0.8551\n",
            "Epoch 44/100\n",
            "62/62 [==============================] - 47s 766ms/step - loss: 0.2133 - accuracy: 0.9037 - val_loss: 0.7565 - val_accuracy: 0.8653\n",
            "Epoch 45/100\n",
            "62/62 [==============================] - 48s 770ms/step - loss: 0.2251 - accuracy: 0.9001 - val_loss: 0.6478 - val_accuracy: 0.8694\n",
            "Epoch 46/100\n",
            "62/62 [==============================] - 47s 773ms/step - loss: 0.2162 - accuracy: 0.9047 - val_loss: 0.7300 - val_accuracy: 0.8673\n",
            "Epoch 47/100\n",
            "62/62 [==============================] - 48s 768ms/step - loss: 0.2179 - accuracy: 0.9057 - val_loss: 0.6965 - val_accuracy: 0.8653\n",
            "Epoch 48/100\n",
            "62/62 [==============================] - 48s 769ms/step - loss: 0.2305 - accuracy: 0.8940 - val_loss: 0.6772 - val_accuracy: 0.8673\n",
            "Epoch 49/100\n",
            "62/62 [==============================] - 47s 765ms/step - loss: 0.2263 - accuracy: 0.8986 - val_loss: 0.5422 - val_accuracy: 0.8653\n",
            "Epoch 50/100\n",
            "62/62 [==============================] - 47s 766ms/step - loss: 0.2163 - accuracy: 0.9088 - val_loss: 0.5011 - val_accuracy: 0.8653\n",
            "Epoch 51/100\n",
            "62/62 [==============================] - 47s 766ms/step - loss: 0.1996 - accuracy: 0.9128 - val_loss: 0.8099 - val_accuracy: 0.8694\n",
            "Epoch 52/100\n",
            "37/62 [================>.............] - ETA: 15s - loss: 0.2059 - accuracy: 0.9088"
          ],
          "name": "stdout"
        },
        {
          "output_type": "error",
          "ename": "KeyboardInterrupt",
          "evalue": "ignored",
          "traceback": [
            "\u001b[0;31m---------------------------------------------------------------------------\u001b[0m",
            "\u001b[0;31mKeyboardInterrupt\u001b[0m                         Traceback (most recent call last)",
            "\u001b[0;32m<ipython-input-160-413a42846c47>\u001b[0m in \u001b[0;36m<module>\u001b[0;34m()\u001b[0m\n\u001b[1;32m      2\u001b[0m     \u001b[0mtrain_generator\u001b[0m\u001b[0;34m,\u001b[0m\u001b[0;34m\u001b[0m\u001b[0;34m\u001b[0m\u001b[0m\n\u001b[1;32m      3\u001b[0m     \u001b[0mepochs\u001b[0m \u001b[0;34m=\u001b[0m \u001b[0;36m100\u001b[0m\u001b[0;34m,\u001b[0m\u001b[0;34m\u001b[0m\u001b[0;34m\u001b[0m\u001b[0m\n\u001b[0;32m----> 4\u001b[0;31m     \u001b[0mvalidation_data\u001b[0m \u001b[0;34m=\u001b[0m \u001b[0mvalidation_generator\u001b[0m\u001b[0;34m\u001b[0m\u001b[0;34m\u001b[0m\u001b[0m\n\u001b[0m\u001b[1;32m      5\u001b[0m )\n",
            "\u001b[0;32m/usr/local/lib/python3.6/dist-packages/tensorflow/python/keras/engine/training.py\u001b[0m in \u001b[0;36mfit\u001b[0;34m(self, x, y, batch_size, epochs, verbose, callbacks, validation_split, validation_data, shuffle, class_weight, sample_weight, initial_epoch, steps_per_epoch, validation_steps, validation_batch_size, validation_freq, max_queue_size, workers, use_multiprocessing)\u001b[0m\n\u001b[1;32m   1098\u001b[0m                 _r=1):\n\u001b[1;32m   1099\u001b[0m               \u001b[0mcallbacks\u001b[0m\u001b[0;34m.\u001b[0m\u001b[0mon_train_batch_begin\u001b[0m\u001b[0;34m(\u001b[0m\u001b[0mstep\u001b[0m\u001b[0;34m)\u001b[0m\u001b[0;34m\u001b[0m\u001b[0;34m\u001b[0m\u001b[0m\n\u001b[0;32m-> 1100\u001b[0;31m               \u001b[0mtmp_logs\u001b[0m \u001b[0;34m=\u001b[0m \u001b[0mself\u001b[0m\u001b[0;34m.\u001b[0m\u001b[0mtrain_function\u001b[0m\u001b[0;34m(\u001b[0m\u001b[0miterator\u001b[0m\u001b[0;34m)\u001b[0m\u001b[0;34m\u001b[0m\u001b[0;34m\u001b[0m\u001b[0m\n\u001b[0m\u001b[1;32m   1101\u001b[0m               \u001b[0;32mif\u001b[0m \u001b[0mdata_handler\u001b[0m\u001b[0;34m.\u001b[0m\u001b[0mshould_sync\u001b[0m\u001b[0;34m:\u001b[0m\u001b[0;34m\u001b[0m\u001b[0;34m\u001b[0m\u001b[0m\n\u001b[1;32m   1102\u001b[0m                 \u001b[0mcontext\u001b[0m\u001b[0;34m.\u001b[0m\u001b[0masync_wait\u001b[0m\u001b[0;34m(\u001b[0m\u001b[0;34m)\u001b[0m\u001b[0;34m\u001b[0m\u001b[0;34m\u001b[0m\u001b[0m\n",
            "\u001b[0;32m/usr/local/lib/python3.6/dist-packages/tensorflow/python/eager/def_function.py\u001b[0m in \u001b[0;36m__call__\u001b[0;34m(self, *args, **kwds)\u001b[0m\n\u001b[1;32m    826\u001b[0m     \u001b[0mtracing_count\u001b[0m \u001b[0;34m=\u001b[0m \u001b[0mself\u001b[0m\u001b[0;34m.\u001b[0m\u001b[0mexperimental_get_tracing_count\u001b[0m\u001b[0;34m(\u001b[0m\u001b[0;34m)\u001b[0m\u001b[0;34m\u001b[0m\u001b[0;34m\u001b[0m\u001b[0m\n\u001b[1;32m    827\u001b[0m     \u001b[0;32mwith\u001b[0m \u001b[0mtrace\u001b[0m\u001b[0;34m.\u001b[0m\u001b[0mTrace\u001b[0m\u001b[0;34m(\u001b[0m\u001b[0mself\u001b[0m\u001b[0;34m.\u001b[0m\u001b[0m_name\u001b[0m\u001b[0;34m)\u001b[0m \u001b[0;32mas\u001b[0m \u001b[0mtm\u001b[0m\u001b[0;34m:\u001b[0m\u001b[0;34m\u001b[0m\u001b[0;34m\u001b[0m\u001b[0m\n\u001b[0;32m--> 828\u001b[0;31m       \u001b[0mresult\u001b[0m \u001b[0;34m=\u001b[0m \u001b[0mself\u001b[0m\u001b[0;34m.\u001b[0m\u001b[0m_call\u001b[0m\u001b[0;34m(\u001b[0m\u001b[0;34m*\u001b[0m\u001b[0margs\u001b[0m\u001b[0;34m,\u001b[0m \u001b[0;34m**\u001b[0m\u001b[0mkwds\u001b[0m\u001b[0;34m)\u001b[0m\u001b[0;34m\u001b[0m\u001b[0;34m\u001b[0m\u001b[0m\n\u001b[0m\u001b[1;32m    829\u001b[0m       \u001b[0mcompiler\u001b[0m \u001b[0;34m=\u001b[0m \u001b[0;34m\"xla\"\u001b[0m \u001b[0;32mif\u001b[0m \u001b[0mself\u001b[0m\u001b[0;34m.\u001b[0m\u001b[0m_experimental_compile\u001b[0m \u001b[0;32melse\u001b[0m \u001b[0;34m\"nonXla\"\u001b[0m\u001b[0;34m\u001b[0m\u001b[0;34m\u001b[0m\u001b[0m\n\u001b[1;32m    830\u001b[0m       \u001b[0mnew_tracing_count\u001b[0m \u001b[0;34m=\u001b[0m \u001b[0mself\u001b[0m\u001b[0;34m.\u001b[0m\u001b[0mexperimental_get_tracing_count\u001b[0m\u001b[0;34m(\u001b[0m\u001b[0;34m)\u001b[0m\u001b[0;34m\u001b[0m\u001b[0;34m\u001b[0m\u001b[0m\n",
            "\u001b[0;32m/usr/local/lib/python3.6/dist-packages/tensorflow/python/eager/def_function.py\u001b[0m in \u001b[0;36m_call\u001b[0;34m(self, *args, **kwds)\u001b[0m\n\u001b[1;32m    853\u001b[0m       \u001b[0;31m# In this case we have created variables on the first call, so we run the\u001b[0m\u001b[0;34m\u001b[0m\u001b[0;34m\u001b[0m\u001b[0;34m\u001b[0m\u001b[0m\n\u001b[1;32m    854\u001b[0m       \u001b[0;31m# defunned version which is guaranteed to never create variables.\u001b[0m\u001b[0;34m\u001b[0m\u001b[0;34m\u001b[0m\u001b[0;34m\u001b[0m\u001b[0m\n\u001b[0;32m--> 855\u001b[0;31m       \u001b[0;32mreturn\u001b[0m \u001b[0mself\u001b[0m\u001b[0;34m.\u001b[0m\u001b[0m_stateless_fn\u001b[0m\u001b[0;34m(\u001b[0m\u001b[0;34m*\u001b[0m\u001b[0margs\u001b[0m\u001b[0;34m,\u001b[0m \u001b[0;34m**\u001b[0m\u001b[0mkwds\u001b[0m\u001b[0;34m)\u001b[0m  \u001b[0;31m# pylint: disable=not-callable\u001b[0m\u001b[0;34m\u001b[0m\u001b[0;34m\u001b[0m\u001b[0m\n\u001b[0m\u001b[1;32m    856\u001b[0m     \u001b[0;32melif\u001b[0m \u001b[0mself\u001b[0m\u001b[0;34m.\u001b[0m\u001b[0m_stateful_fn\u001b[0m \u001b[0;32mis\u001b[0m \u001b[0;32mnot\u001b[0m \u001b[0;32mNone\u001b[0m\u001b[0;34m:\u001b[0m\u001b[0;34m\u001b[0m\u001b[0;34m\u001b[0m\u001b[0m\n\u001b[1;32m    857\u001b[0m       \u001b[0;31m# Release the lock early so that multiple threads can perform the call\u001b[0m\u001b[0;34m\u001b[0m\u001b[0;34m\u001b[0m\u001b[0;34m\u001b[0m\u001b[0m\n",
            "\u001b[0;32m/usr/local/lib/python3.6/dist-packages/tensorflow/python/eager/function.py\u001b[0m in \u001b[0;36m__call__\u001b[0;34m(self, *args, **kwargs)\u001b[0m\n\u001b[1;32m   2941\u001b[0m        filtered_flat_args) = self._maybe_define_function(args, kwargs)\n\u001b[1;32m   2942\u001b[0m     return graph_function._call_flat(\n\u001b[0;32m-> 2943\u001b[0;31m         filtered_flat_args, captured_inputs=graph_function.captured_inputs)  # pylint: disable=protected-access\n\u001b[0m\u001b[1;32m   2944\u001b[0m \u001b[0;34m\u001b[0m\u001b[0m\n\u001b[1;32m   2945\u001b[0m   \u001b[0;34m@\u001b[0m\u001b[0mproperty\u001b[0m\u001b[0;34m\u001b[0m\u001b[0;34m\u001b[0m\u001b[0m\n",
            "\u001b[0;32m/usr/local/lib/python3.6/dist-packages/tensorflow/python/eager/function.py\u001b[0m in \u001b[0;36m_call_flat\u001b[0;34m(self, args, captured_inputs, cancellation_manager)\u001b[0m\n\u001b[1;32m   1917\u001b[0m       \u001b[0;31m# No tape is watching; skip to running the function.\u001b[0m\u001b[0;34m\u001b[0m\u001b[0;34m\u001b[0m\u001b[0;34m\u001b[0m\u001b[0m\n\u001b[1;32m   1918\u001b[0m       return self._build_call_outputs(self._inference_function.call(\n\u001b[0;32m-> 1919\u001b[0;31m           ctx, args, cancellation_manager=cancellation_manager))\n\u001b[0m\u001b[1;32m   1920\u001b[0m     forward_backward = self._select_forward_and_backward_functions(\n\u001b[1;32m   1921\u001b[0m         \u001b[0margs\u001b[0m\u001b[0;34m,\u001b[0m\u001b[0;34m\u001b[0m\u001b[0;34m\u001b[0m\u001b[0m\n",
            "\u001b[0;32m/usr/local/lib/python3.6/dist-packages/tensorflow/python/eager/function.py\u001b[0m in \u001b[0;36mcall\u001b[0;34m(self, ctx, args, cancellation_manager)\u001b[0m\n\u001b[1;32m    558\u001b[0m               \u001b[0minputs\u001b[0m\u001b[0;34m=\u001b[0m\u001b[0margs\u001b[0m\u001b[0;34m,\u001b[0m\u001b[0;34m\u001b[0m\u001b[0;34m\u001b[0m\u001b[0m\n\u001b[1;32m    559\u001b[0m               \u001b[0mattrs\u001b[0m\u001b[0;34m=\u001b[0m\u001b[0mattrs\u001b[0m\u001b[0;34m,\u001b[0m\u001b[0;34m\u001b[0m\u001b[0;34m\u001b[0m\u001b[0m\n\u001b[0;32m--> 560\u001b[0;31m               ctx=ctx)\n\u001b[0m\u001b[1;32m    561\u001b[0m         \u001b[0;32melse\u001b[0m\u001b[0;34m:\u001b[0m\u001b[0;34m\u001b[0m\u001b[0;34m\u001b[0m\u001b[0m\n\u001b[1;32m    562\u001b[0m           outputs = execute.execute_with_cancellation(\n",
            "\u001b[0;32m/usr/local/lib/python3.6/dist-packages/tensorflow/python/eager/execute.py\u001b[0m in \u001b[0;36mquick_execute\u001b[0;34m(op_name, num_outputs, inputs, attrs, ctx, name)\u001b[0m\n\u001b[1;32m     58\u001b[0m     \u001b[0mctx\u001b[0m\u001b[0;34m.\u001b[0m\u001b[0mensure_initialized\u001b[0m\u001b[0;34m(\u001b[0m\u001b[0;34m)\u001b[0m\u001b[0;34m\u001b[0m\u001b[0;34m\u001b[0m\u001b[0m\n\u001b[1;32m     59\u001b[0m     tensors = pywrap_tfe.TFE_Py_Execute(ctx._handle, device_name, op_name,\n\u001b[0;32m---> 60\u001b[0;31m                                         inputs, attrs, num_outputs)\n\u001b[0m\u001b[1;32m     61\u001b[0m   \u001b[0;32mexcept\u001b[0m \u001b[0mcore\u001b[0m\u001b[0;34m.\u001b[0m\u001b[0m_NotOkStatusException\u001b[0m \u001b[0;32mas\u001b[0m \u001b[0me\u001b[0m\u001b[0;34m:\u001b[0m\u001b[0;34m\u001b[0m\u001b[0;34m\u001b[0m\u001b[0m\n\u001b[1;32m     62\u001b[0m     \u001b[0;32mif\u001b[0m \u001b[0mname\u001b[0m \u001b[0;32mis\u001b[0m \u001b[0;32mnot\u001b[0m \u001b[0;32mNone\u001b[0m\u001b[0;34m:\u001b[0m\u001b[0;34m\u001b[0m\u001b[0;34m\u001b[0m\u001b[0m\n",
            "\u001b[0;31mKeyboardInterrupt\u001b[0m: "
          ]
        }
      ]
    },
    {
      "cell_type": "code",
      "metadata": {
        "colab": {
          "base_uri": "https://localhost:8080/"
        },
        "id": "Zs6pRQ-xBfnE",
        "outputId": "192a1c5c-49f7-441b-8b16-e2a6e849e84e"
      },
      "source": [
        "test_loss = tf.keras.metrics.SparseCategoricalAccuracy(name='test_loss')\n",
        "test_accuracy = tf.keras.metrics.SparseCategoricalAccuracy(name='test_accuracy')\n",
        "\n",
        "predictions = inception_model.predict(test_generator)\n",
        "true_labels = test_generator.labels\n",
        "tumor_prob = predictions[:,1]\n",
        "test_path_list = test_generator.filenames\n",
        "\n",
        "test_loss(true_labels, predictions)\n",
        "test_accuracy(true_labels, predictions)\n",
        "print(\"Test loss: {:.02f}\\nTest accuracy: {:.02f}\".format(test_loss.result(),\n",
        "                                                          test_accuracy.result()*100))"
      ],
      "execution_count": null,
      "outputs": [
        {
          "output_type": "stream",
          "text": [
            "Test loss: 0.53\n",
            "Test accuracy: 52.88\n"
          ],
          "name": "stdout"
        }
      ]
    },
    {
      "cell_type": "code",
      "metadata": {
        "id": "7trCFoVATedV"
      },
      "source": [
        ""
      ],
      "execution_count": null,
      "outputs": []
    }
  ]
}