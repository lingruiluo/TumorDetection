{
  "nbformat": 4,
  "nbformat_minor": 0,
  "metadata": {
    "accelerator": "GPU",
    "colab": {
      "name": "model_building_update.ipynb",
      "provenance": [],
      "collapsed_sections": []
    },
    "kernelspec": {
      "display_name": "Python 3",
      "name": "python3"
    }
  },
  "cells": [
    {
      "cell_type": "markdown",
      "metadata": {
        "id": "JX53hsQZ3WUc"
      },
      "source": [
        "## About\n",
        "\n",
        "This starter code shows how to read slides and tumor masks from the [CAMELYON16](https://camelyon17.grand-challenge.org/Data/) dataset. It will install [OpenSlide](https://openslide.org/) in Colab (the only non-Python dependency). Note that OpenSlide also includes a [DeepZoom viewer](https://github.com/openslide/openslide-python/tree/master/examples/deepzoom), shown in class. To use that, you'll need to install and run OpenSlide locally on your computer.\n",
        "\n",
        "### Training data\n",
        "\n",
        "The original slides and annotations are in an unusual format. I converted a bunch of them for you, so you can read them with OpenSlide as shown in this notebook. This [folder](https://drive.google.com/drive/folders/1rwWL8zU9v0M27BtQKI52bF6bVLW82RL5?usp=sharing) contains all the slides and tumor masks I converted (and these should be *plenty* for your project). If you'd like more beyond this, you'll need to use ASAP as described on the competition website to convert it into an appropriate format. \n",
        "\n",
        "Note that even with the starter code, it will take some effort to understand how to work with this data (the various zoom levels, and the coordinate system). Happy to help if you're stuck (please catch me in office hours, or right after class).\n",
        "\n",
        "### Goals and grading\n",
        "\n",
        "The goal for your project is to build a thoughtful, end-to-end prototype - not to match the accuracy from the [paper](https://arxiv.org/abs/1703.02442), and not necessarily to use all the available data. To receive an A on this work, your project should (for example):\n",
        "- Use multiple zoom levels\n",
        "- Use high-magnification images\n",
        "- Include several visualizations of your results (both heatmaps showing predictions on individual slides, and other metrics/diagrams you design that are appropriate to communicate how well your model performs).\n",
        "\n",
        "You are also welcome to propose a custom project of similar scope, happy to chat with you about your ideas anytime."
      ]
    },
    {
      "cell_type": "code",
      "metadata": {
        "colab": {
          "base_uri": "https://localhost:8080/"
        },
        "id": "HJ_T09jo5rxS",
        "outputId": "333df88f-3945-4249-976c-f038ee8d0229"
      },
      "source": [
        "# Install the OpenSlide C library and Python bindings\n",
        "# After installing these libraries, use `Runtime -> restart and run all` on the menu\n",
        "!apt-get install openslide-tools\n",
        "!pip install openslide-python"
      ],
      "execution_count": 1,
      "outputs": [
        {
          "output_type": "stream",
          "text": [
            "Reading package lists... Done\n",
            "Building dependency tree       \n",
            "Reading state information... Done\n",
            "The following additional packages will be installed:\n",
            "  libopenslide0\n",
            "Suggested packages:\n",
            "  libtiff-tools\n",
            "The following NEW packages will be installed:\n",
            "  libopenslide0 openslide-tools\n",
            "0 upgraded, 2 newly installed, 0 to remove and 14 not upgraded.\n",
            "Need to get 92.5 kB of archives.\n",
            "After this operation, 268 kB of additional disk space will be used.\n",
            "Get:1 http://archive.ubuntu.com/ubuntu bionic/universe amd64 libopenslide0 amd64 3.4.1+dfsg-2 [79.8 kB]\n",
            "Get:2 http://archive.ubuntu.com/ubuntu bionic/universe amd64 openslide-tools amd64 3.4.1+dfsg-2 [12.7 kB]\n",
            "Fetched 92.5 kB in 1s (184 kB/s)\n",
            "Selecting previously unselected package libopenslide0.\n",
            "(Reading database ... 144865 files and directories currently installed.)\n",
            "Preparing to unpack .../libopenslide0_3.4.1+dfsg-2_amd64.deb ...\n",
            "Unpacking libopenslide0 (3.4.1+dfsg-2) ...\n",
            "Selecting previously unselected package openslide-tools.\n",
            "Preparing to unpack .../openslide-tools_3.4.1+dfsg-2_amd64.deb ...\n",
            "Unpacking openslide-tools (3.4.1+dfsg-2) ...\n",
            "Setting up libopenslide0 (3.4.1+dfsg-2) ...\n",
            "Setting up openslide-tools (3.4.1+dfsg-2) ...\n",
            "Processing triggers for libc-bin (2.27-3ubuntu1.2) ...\n",
            "/sbin/ldconfig.real: /usr/local/lib/python3.6/dist-packages/ideep4py/lib/libmkldnn.so.0 is not a symbolic link\n",
            "\n",
            "Processing triggers for man-db (2.8.3-2ubuntu0.1) ...\n",
            "Collecting openslide-python\n",
            "\u001b[?25l  Downloading https://files.pythonhosted.org/packages/03/da/12dc0e7566ace61a5a65244220458dcb656b09cbf18ca50f3098875d97e4/openslide-python-1.1.2.tar.gz (316kB)\n",
            "\u001b[K     |████████████████████████████████| 317kB 22.2MB/s \n",
            "\u001b[?25hRequirement already satisfied: Pillow in /usr/local/lib/python3.6/dist-packages (from openslide-python) (7.0.0)\n",
            "Building wheels for collected packages: openslide-python\n",
            "  Building wheel for openslide-python (setup.py) ... \u001b[?25l\u001b[?25hdone\n",
            "  Created wheel for openslide-python: filename=openslide_python-1.1.2-cp36-cp36m-linux_x86_64.whl size=26720 sha256=1ec4640a9e38cbbdd777c9fe7368c273d4ecc126b8ad3ba112763b95106c56b3\n",
            "  Stored in directory: /root/.cache/pip/wheels/6b/55/74/ba9d3dcc2c5c0f1282e08bae70df0ed57b496fb6b5c8f1adc9\n",
            "Successfully built openslide-python\n",
            "Installing collected packages: openslide-python\n",
            "Successfully installed openslide-python-1.1.2\n"
          ],
          "name": "stdout"
        }
      ]
    },
    {
      "cell_type": "code",
      "metadata": {
        "id": "Ws_fS_f13WUd"
      },
      "source": [
        "%matplotlib inline\n",
        "import matplotlib.pyplot as plt\n",
        "import numpy as np\n",
        "from openslide import open_slide, __library_version__ as openslide_version\n",
        "import os\n",
        "from PIL import Image\n",
        "from skimage.color import rgb2gray\n",
        "import random\n",
        "import pandas as pd\n",
        "import tensorflow as tf\n",
        "from sklearn.metrics import classification_report"
      ],
      "execution_count": 19,
      "outputs": []
    },
    {
      "cell_type": "markdown",
      "metadata": {
        "id": "jPBGXWwlZvy1"
      },
      "source": [
        "# Generate Dataset\n",
        "\n",
        "- Train, Validation, Test"
      ]
    },
    {
      "cell_type": "code",
      "metadata": {
        "colab": {
          "base_uri": "https://localhost:8080/"
        },
        "id": "tx5T_PPkWCN8",
        "outputId": "fdd75c7f-0831-483e-a777-b1f42df9b019"
      },
      "source": [
        "from google.colab import drive\r\n",
        "drive.mount('/content/drive')"
      ],
      "execution_count": 3,
      "outputs": [
        {
          "output_type": "stream",
          "text": [
            "Mounted at /content/drive\n"
          ],
          "name": "stdout"
        }
      ]
    },
    {
      "cell_type": "code",
      "metadata": {
        "id": "qMMpXRB7oIZD"
      },
      "source": [
        "def make_dir(base_path, level):\r\n",
        "    level_dir = f'{base_path}level{level}'\r\n",
        "    if not os.path.exists(level_dir):\r\n",
        "        os.mkdir(level_dir)\r\n",
        "    train_image_dir = os.path.join(level_dir,'train_image/')\r\n",
        "    train_mask_dir = os.path.join(level_dir,'train_mask/')\r\n",
        "\r\n",
        "    val_image_dir = os.path.join(level_dir,'val_image/')\r\n",
        "    val_mask_dir = os.path.join(level_dir,'val_mask/')\r\n",
        "\r\n",
        "    test_image_dir = os.path.join(level_dir,'test_image/')\r\n",
        "    test_mask_dir = os.path.join(level_dir,'test_mask/')\r\n",
        "\r\n",
        "    if not os.path.exists(train_image_dir):\r\n",
        "        os.mkdir(train_image_dir)\r\n",
        "    if not os.path.exists(train_mask_dir):\r\n",
        "        os.mkdir(train_mask_dir)\r\n",
        "    if not os.path.exists(val_image_dir):\r\n",
        "        os.mkdir(val_image_dir)\r\n",
        "    if not os.path.exists(val_mask_dir):\r\n",
        "        os.mkdir(val_mask_dir)    \r\n",
        "    if not os.path.exists(test_image_dir):\r\n",
        "        os.mkdir(test_image_dir)\r\n",
        "    if not os.path.exists(test_mask_dir):\r\n",
        "        os.mkdir(test_mask_dir)\r\n",
        "    return(train_image_dir, train_mask_dir, val_image_dir, val_mask_dir, test_image_dir, test_mask_dir)"
      ],
      "execution_count": 4,
      "outputs": []
    },
    {
      "cell_type": "code",
      "metadata": {
        "id": "fMy5goYU6IZF"
      },
      "source": [
        "base_path = '/content/'\r\n",
        "train_image_dir5, train_mask_dir5, val_image_dir5, val_mask_dir5, test_image_dir5, test_mask_dir5 = make_dir(base_path, level = 5)\r\n",
        "train_image_dir4, train_mask_dir4, val_image_dir4, val_mask_dir4, test_image_dir4, test_mask_dir4 = make_dir(base_path, level = 4)\r\n",
        "train_image_dir3, train_mask_dir3, val_image_dir3, val_mask_dir3, test_image_dir3, test_mask_dir3 = make_dir(base_path, level = 3)"
      ],
      "execution_count": 5,
      "outputs": []
    },
    {
      "cell_type": "code",
      "metadata": {
        "id": "_g2iIxixVr4Z"
      },
      "source": [
        "# create a folder called 'Applied Deep Learning' in the Google Drive\r\n",
        "\r\n",
        "!unzip -q '/content/drive/MyDrive/Applied Deep Learning/project/level4/train_mask.zip' -d /content/level4/train_mask/\r\n",
        "!unzip -q '/content/drive/MyDrive/Applied Deep Learning/project/level4/train_image.zip' -d /content/level4/train_image/\r\n",
        "!unzip -q '/content/drive/MyDrive/Applied Deep Learning/project/level4/val_mask.zip' -d /content/level4/val_mask/\r\n",
        "!unzip -q '/content/drive/MyDrive/Applied Deep Learning/project/level4/val_image.zip' -d /content/level4/val_image/\r\n",
        "!unzip -q '/content/drive/MyDrive/Applied Deep Learning/project/level4/test_mask.zip' -d /content/level4/test_mask/\r\n",
        "!unzip -q '/content/drive/MyDrive/Applied Deep Learning/project/level4/test_image.zip' -d /content/level4/test_image/\r\n",
        "\r\n",
        "!unzip -q '/content/drive/MyDrive/Applied Deep Learning/project/level5/train_mask.zip' -d /content/level5/train_mask/\r\n",
        "!unzip -q '/content/drive/MyDrive/Applied Deep Learning/project/level5/train_image.zip' -d /content/level5/train_image/\r\n",
        "!unzip -q '/content/drive/MyDrive/Applied Deep Learning/project/level5/val_mask.zip' -d /content/level5/val_mask/\r\n",
        "!unzip -q '/content/drive/MyDrive/Applied Deep Learning/project/level5/val_image.zip' -d /content/level5/val_image/\r\n",
        "!unzip -q '/content/drive/MyDrive/Applied Deep Learning/project/level5/test_mask.zip' -d /content/level5/test_mask/\r\n",
        "!unzip -q '/content/drive/MyDrive/Applied Deep Learning/project/level5/test_image.zip' -d /content/level5/test_image/\r\n",
        "\r\n",
        "!unzip -q '/content/drive/MyDrive/Applied Deep Learning/project/level3/train_mask.zip' -d /content/level3/train_mask/\r\n",
        "!unzip -q '/content/drive/MyDrive/Applied Deep Learning/project/level3/train_image.zip' -d /content/level3/train_image/\r\n",
        "!unzip -q '/content/drive/MyDrive/Applied Deep Learning/project/level3/val_mask.zip' -d /content/level3/val_mask/\r\n",
        "!unzip -q '/content/drive/MyDrive/Applied Deep Learning/project/level3/val_image.zip' -d /content/level3/val_image/\r\n",
        "!unzip -q '/content/drive/MyDrive/Applied Deep Learning/project/level3/test_mask.zip' -d /content/level3/test_mask/\r\n",
        "!unzip -q '/content/drive/MyDrive/Applied Deep Learning/project/level3/test_image.zip' -d /content/level3/test_image/"
      ],
      "execution_count": 6,
      "outputs": []
    },
    {
      "cell_type": "code",
      "metadata": {
        "id": "AriH0BAYkbYb"
      },
      "source": [
        "!cp '/content/drive/MyDrive/Applied Deep Learning/project/level4/level4_train_data.txt' /content/\n",
        "!cp '/content/drive/MyDrive/Applied Deep Learning/project/level4/level4_val_data.txt' /content/\n",
        "!cp '/content/drive/MyDrive/Applied Deep Learning/project/level4/level4_test_data.txt' /content/\n",
        "\n",
        "!cp '/content/drive/MyDrive/Applied Deep Learning/project/level5/level5_train_data.txt' /content/\n",
        "!cp '/content/drive/MyDrive/Applied Deep Learning/project/level5/level5_val_data.txt' /content/\n",
        "!cp '/content/drive/MyDrive/Applied Deep Learning/project/level5/level5_test_data.txt' /content/\n",
        "\n",
        "!cp '/content/drive/MyDrive/Applied Deep Learning/project/level3/level3_train_data.txt' /content/\n",
        "!cp '/content/drive/MyDrive/Applied Deep Learning/project/level3/level3_val_data.txt' /content/\n",
        "!cp '/content/drive/MyDrive/Applied Deep Learning/project/level3/level3_test_data.txt' /content/"
      ],
      "execution_count": 7,
      "outputs": []
    },
    {
      "cell_type": "code",
      "metadata": {
        "id": "mA4IYKkuWxGb"
      },
      "source": [
        "IMG_SIZE = 299\r\n",
        "batch_size = 32\r\n",
        "from tensorflow.keras.preprocessing.image import ImageDataGenerator\r\n",
        "\r\n",
        "# data generator\r\n",
        "def data_generator(train_image_dir, val_image_dir, test_image_dir):\r\n",
        "    train_datagen = ImageDataGenerator(rescale = 1./255)\r\n",
        "    test_datagen = ImageDataGenerator(rescale = 1./255)\r\n",
        "    # train set\r\n",
        "    train_generator = train_datagen.flow_from_directory(\r\n",
        "        train_image_dir,\r\n",
        "        target_size = (IMG_SIZE, IMG_SIZE),\r\n",
        "        batch_size = batch_size,\r\n",
        "        class_mode = 'binary',\r\n",
        "        shuffle=True\r\n",
        "    )\r\n",
        "    validation_generator = test_datagen.flow_from_directory(\r\n",
        "        val_image_dir, \r\n",
        "        target_size = (IMG_SIZE, IMG_SIZE),\r\n",
        "        batch_size = batch_size,\r\n",
        "        class_mode = 'binary',\r\n",
        "        shuffle=True\r\n",
        "    )\r\n",
        "\r\n",
        "    for data_batch, labels_batch in train_generator:\r\n",
        "        print('Train data: ')\r\n",
        "        print('data batch shape:', data_batch.shape)\r\n",
        "        print('labels batch shape:', labels_batch.shape)\r\n",
        "        break\r\n",
        "\r\n",
        "    for data_batch, labels_batch in validation_generator:\r\n",
        "        print('\\n')\r\n",
        "        print('Validation data: ')\r\n",
        "        print('data batch shape:', data_batch.shape)\r\n",
        "        print('labels batch shape:', labels_batch.shape)\r\n",
        "        break\r\n",
        "    # test set\r\n",
        "    test_generator = test_datagen.flow_from_directory(\r\n",
        "        test_image_dir,\r\n",
        "        target_size = (IMG_SIZE, IMG_SIZE),\r\n",
        "        batch_size = batch_size,\r\n",
        "        class_mode = 'binary',\r\n",
        "        shuffle = True\r\n",
        "    )\r\n",
        "    return(train_generator, validation_generator, test_generator)\r\n",
        "\r\n",
        "# data generator with augmentation\r\n",
        "def data_generator_aug(train_image_dir, val_image_dir, test_image_dir):\r\n",
        "    # train set\r\n",
        "    train_datagen = ImageDataGenerator(\r\n",
        "        rescale=1./255,\r\n",
        "        rotation_range=90,\r\n",
        "        # width_shift_range=0.2,\r\n",
        "        # height_shift_range=0.2,\r\n",
        "        # shear_range=0.2,\r\n",
        "        # zoom_range=0.2,\r\n",
        "        horizontal_flip=True,\r\n",
        "        validation_split=0.2)\r\n",
        "    test_datagen = ImageDataGenerator(rescale = 1./255)\r\n",
        "    # train set\r\n",
        "    train_generator = train_datagen.flow_from_directory(\r\n",
        "        train_image_dir,\r\n",
        "        target_size = (IMG_SIZE, IMG_SIZE),\r\n",
        "        batch_size = batch_size,\r\n",
        "        class_mode = 'binary',\r\n",
        "        shuffle=True\r\n",
        "    )\r\n",
        "    validation_generator = test_datagen.flow_from_directory(\r\n",
        "        val_image_dir, \r\n",
        "        target_size = (IMG_SIZE, IMG_SIZE),\r\n",
        "        batch_size = batch_size,\r\n",
        "        class_mode = 'binary',\r\n",
        "        shuffle=True\r\n",
        "    )\r\n",
        "\r\n",
        "    for data_batch, labels_batch in train_generator:\r\n",
        "        print('Train data: ')\r\n",
        "        print('data batch shape:', data_batch.shape)\r\n",
        "        print('labels batch shape:', labels_batch.shape)\r\n",
        "        break\r\n",
        "\r\n",
        "    for data_batch, labels_batch in validation_generator:\r\n",
        "        print('\\n')\r\n",
        "        print('Validation data: ')\r\n",
        "        print('data batch shape:', data_batch.shape)\r\n",
        "        print('labels batch shape:', labels_batch.shape)\r\n",
        "        break\r\n",
        "    # test set\r\n",
        "    test_generator = test_datagen.flow_from_directory(\r\n",
        "        test_image_dir,\r\n",
        "        target_size = (IMG_SIZE, IMG_SIZE),\r\n",
        "        batch_size = batch_size,\r\n",
        "        class_mode = 'binary',\r\n",
        "        shuffle = True\r\n",
        "    )\r\n",
        "    return(train_generator, validation_generator, test_generator)"
      ],
      "execution_count": 8,
      "outputs": []
    },
    {
      "cell_type": "code",
      "metadata": {
        "colab": {
          "base_uri": "https://localhost:8080/"
        },
        "id": "17VSSzEil5yq",
        "outputId": "d7daa098-dab0-40d0-97ef-f4551e89de60"
      },
      "source": [
        "# train_generator, validation_generator, test_generator = data_generator(train_image_dir4, val_image_dir4, test_image_dir4)\r\n",
        "train_generator, validation_generator, test_generator = data_generator_aug(train_image_dir4, val_image_dir4, test_image_dir4)\r\n",
        "\r\n",
        "# train_generator, validation_generator, test_generator = data_generator(train_image_dir5, val_image_dir5, test_image_dir5)\r\n",
        "# train_generator_aug, validation_generator, test_generator = data_generator_aug(train_image_dir5, val_image_dir5, test_image_dir5)"
      ],
      "execution_count": 9,
      "outputs": [
        {
          "output_type": "stream",
          "text": [
            "Found 6954 images belonging to 2 classes.\n",
            "Found 1578 images belonging to 2 classes.\n",
            "Train data: \n",
            "data batch shape: (32, 299, 299, 3)\n",
            "labels batch shape: (32,)\n",
            "\n",
            "\n",
            "Validation data: \n",
            "data batch shape: (32, 299, 299, 3)\n",
            "labels batch shape: (32,)\n",
            "Found 1341 images belonging to 2 classes.\n"
          ],
          "name": "stdout"
        }
      ]
    },
    {
      "cell_type": "code",
      "metadata": {
        "colab": {
          "base_uri": "https://localhost:8080/"
        },
        "id": "WddSvnaN9RJn",
        "outputId": "ea19042e-70e7-4d56-e895-596b63be4fe6"
      },
      "source": [
        "import tensorflow as tf\r\n",
        "model = tf.keras.Sequential()\r\n",
        "model.add(tf.keras.layers.Conv2D(32, (3, 3), activation = 'relu',\r\n",
        "                                 input_shape = (IMG_SIZE, IMG_SIZE, 3)))\r\n",
        "model.add(tf.keras.layers.MaxPooling2D())\r\n",
        "# model.add(tf.keras.layers.Conv2D(32, (3, 3), activation = 'relu'))\r\n",
        "# model.add(tf.keras.layers.MaxPooling2D())\r\n",
        "model.add(tf.keras.layers.Flatten())\r\n",
        "model.add(tf.keras.layers.Dense(2, activation = 'softmax'))\r\n",
        "\r\n",
        "model.compile(optimizer = tf.keras.optimizers.Adam(learning_rate=0.001),\r\n",
        "              loss = 'sparse_categorical_crossentropy',\r\n",
        "              metrics = ['accuracy'])\r\n",
        "\r\n",
        "history = model.fit(\r\n",
        "    train_generator,\r\n",
        "    epochs = 5,\r\n",
        "    validation_data = validation_generator\r\n",
        ")"
      ],
      "execution_count": 15,
      "outputs": [
        {
          "output_type": "stream",
          "text": [
            "Epoch 1/5\n",
            "218/218 [==============================] - 151s 660ms/step - loss: 6.1744 - accuracy: 0.8510 - val_loss: 0.1345 - val_accuracy: 0.9759\n",
            "Epoch 2/5\n",
            "218/218 [==============================] - 139s 637ms/step - loss: 0.2795 - accuracy: 0.9004 - val_loss: 0.1471 - val_accuracy: 0.9759\n",
            "Epoch 3/5\n",
            "218/218 [==============================] - 134s 615ms/step - loss: 0.2749 - accuracy: 0.9030 - val_loss: 0.1313 - val_accuracy: 0.9759\n",
            "Epoch 4/5\n",
            "218/218 [==============================] - 135s 619ms/step - loss: 0.2663 - accuracy: 0.9090 - val_loss: 0.1452 - val_accuracy: 0.9759\n",
            "Epoch 5/5\n",
            "218/218 [==============================] - 133s 610ms/step - loss: 0.2714 - accuracy: 0.9054 - val_loss: 0.1969 - val_accuracy: 0.9759\n"
          ],
          "name": "stdout"
        }
      ]
    },
    {
      "cell_type": "code",
      "metadata": {
        "colab": {
          "base_uri": "https://localhost:8080/"
        },
        "id": "PmtUTO82HUHa",
        "outputId": "af10c091-7d4f-40ec-b851-794ed4f8fc83"
      },
      "source": [
        "print(\"Evaluate on test data\")\n",
        "results = model.evaluate(test_generator)\n",
        "print(\"test loss, test acc:\", results)"
      ],
      "execution_count": 17,
      "outputs": [
        {
          "output_type": "stream",
          "text": [
            "Evaluate on test data\n",
            "42/42 [==============================] - 4s 105ms/step - loss: 2.5873 - accuracy: 0.6264\n",
            "test loss, test acc: [2.5872890949249268, 0.6263982057571411]\n"
          ],
          "name": "stdout"
        }
      ]
    },
    {
      "cell_type": "code",
      "metadata": {
        "colab": {
          "base_uri": "https://localhost:8080/"
        },
        "id": "jFZ26L6iHIN5",
        "outputId": "95da4ba7-7e2e-42fa-dce4-2644e2fe7689"
      },
      "source": [
        "y_pred = np.argmax(model.predict(test_generator), axis=-1)\n",
        "y_true = test_generator.labels\n",
        "\n",
        "from sklearn.metrics import classification_report\n",
        "print(classification_report(y_true, y_pred))"
      ],
      "execution_count": 18,
      "outputs": [
        {
          "output_type": "stream",
          "text": [
            "              precision    recall  f1-score   support\n",
            "\n",
            "           0       0.63      1.00      0.77       840\n",
            "           1       0.00      0.00      0.00       501\n",
            "\n",
            "    accuracy                           0.63      1341\n",
            "   macro avg       0.31      0.50      0.39      1341\n",
            "weighted avg       0.39      0.63      0.48      1341\n",
            "\n"
          ],
          "name": "stdout"
        },
        {
          "output_type": "stream",
          "text": [
            "/usr/local/lib/python3.6/dist-packages/sklearn/metrics/_classification.py:1272: UndefinedMetricWarning: Precision and F-score are ill-defined and being set to 0.0 in labels with no predicted samples. Use `zero_division` parameter to control this behavior.\n",
            "  _warn_prf(average, modifier, msg_start, len(result))\n"
          ],
          "name": "stderr"
        }
      ]
    },
    {
      "cell_type": "markdown",
      "metadata": {
        "id": "fX-Fmak6aGCn"
      },
      "source": [
        "# VGG16 "
      ]
    },
    {
      "cell_type": "code",
      "metadata": {
        "colab": {
          "base_uri": "https://localhost:8080/"
        },
        "id": "gc-XxWOzhMFQ",
        "outputId": "99bcc47b-0adb-4d7f-80c9-8b6e470682e3"
      },
      "source": [
        "IMG_SIZE = 299\r\n",
        "base_model = tf.keras.applications.VGG16(\r\n",
        "    include_top = False,\r\n",
        "    weights = 'imagenet',\r\n",
        "    input_shape = (IMG_SIZE, IMG_SIZE, 3),\r\n",
        "    pooling = None,\r\n",
        "    classes = 2,\r\n",
        "    classifier_activation = 'softmax',\r\n",
        ")\r\n",
        "\r\n",
        "# do not update the pretrained weights during training\r\n",
        "base_model.trainable = False\r\n",
        "\r\n",
        "global_average_layer = tf.keras.layers.GlobalAveragePooling2D()\r\n",
        "prediction_layer = tf.keras.layers.Dense(2, activation='softmax')\r\n",
        "\r\n",
        "# build a model to use the pretrained base\r\n",
        "model = tf.keras.Sequential([\r\n",
        "    base_model,\r\n",
        "    global_average_layer,\r\n",
        "    prediction_layer\r\n",
        "])\r\n",
        "\r\n",
        "model.compile(optimizer = tf.keras.optimizers.Adam(learning_rate=0.001),\r\n",
        "              loss = 'sparse_categorical_crossentropy',\r\n",
        "              metrics = ['accuracy'])"
      ],
      "execution_count": 20,
      "outputs": [
        {
          "output_type": "stream",
          "text": [
            "Downloading data from https://storage.googleapis.com/tensorflow/keras-applications/vgg16/vgg16_weights_tf_dim_ordering_tf_kernels_notop.h5\n",
            "58892288/58889256 [==============================] - 0s 0us/step\n"
          ],
          "name": "stdout"
        }
      ]
    },
    {
      "cell_type": "code",
      "metadata": {
        "colab": {
          "base_uri": "https://localhost:8080/",
          "height": 368
        },
        "id": "wwFgrPi3tLhZ",
        "outputId": "672420b3-5987-4f51-ebb7-08c561eee5e1"
      },
      "source": [
        "tf.keras.utils.plot_model(model)"
      ],
      "execution_count": 21,
      "outputs": [
        {
          "output_type": "execute_result",
          "data": {
            "image/png": "[encoded data removed]",
            "text/plain": [
              "<IPython.core.display.Image object>"
            ]
          },
          "metadata": {
            "tags": []
          },
          "execution_count": 21
        }
      ]
    },
    {
      "cell_type": "code",
      "metadata": {
        "id": "KcZqkPzeaQYE"
      },
      "source": [
        "if not os.path.exists('/content/checkpoint'):\n",
        "  os.mkdir('/content/checkpoint')\n",
        "if not os.path.exists('/content/checkpoint/VGG'):\n",
        "  os.mkdir('/content/checkpoint/VGG')\n",
        "vgg_checkpoint_path = '/content/checkpoint/VGG/weights-improvement-{epoch:02d}-{val_accuracy:.2f}-{val_loss:.2f}.hdf5'\n",
        "vgg_checkpoint_callback = tf.keras.callbacks.ModelCheckpoint(vgg_checkpoint_path, \n",
        "                                                               monitor='val_loss', \n",
        "                                                               save_best_only=True, \n",
        "                                                               mode='auto')"
      ],
      "execution_count": 31,
      "outputs": []
    },
    {
      "cell_type": "code",
      "metadata": {
        "id": "an0DJ1v6bhQr"
      },
      "source": [
        "vgg_early_stop_callback = tf.keras.callbacks.EarlyStopping(\n",
        "                              monitor='val_loss', min_delta=0, patience=10\n",
        "                          )"
      ],
      "execution_count": null,
      "outputs": []
    },
    {
      "cell_type": "code",
      "metadata": {
        "colab": {
          "base_uri": "https://localhost:8080/"
        },
        "id": "YuKiExyhhv3P",
        "outputId": "d40e2d88-c8d4-4569-8b7d-7a8d4891d63b"
      },
      "source": [
        "epochs = 20\r\n",
        "history = model.fit(\r\n",
        "    train_generator,\r\n",
        "    epochs = epochs,\r\n",
        "    validation_data = validation_generator,\r\n",
        "    callbacks=[vgg_early_stop_callback, vgg_checkpoint_callback]\r\n",
        ")"
      ],
      "execution_count": 23,
      "outputs": [
        {
          "output_type": "stream",
          "text": [
            "Epoch 1/20\n",
            "218/218 [==============================] - 165s 746ms/step - loss: 0.3928 - accuracy: 0.8373 - val_loss: 0.1702 - val_accuracy: 0.9759\n",
            "Epoch 2/20\n",
            "218/218 [==============================] - 161s 739ms/step - loss: 0.3137 - accuracy: 0.8870 - val_loss: 0.1393 - val_accuracy: 0.9759\n",
            "Epoch 3/20\n",
            "218/218 [==============================] - 160s 735ms/step - loss: 0.2944 - accuracy: 0.8892 - val_loss: 0.1562 - val_accuracy: 0.9759\n",
            "Epoch 4/20\n",
            "218/218 [==============================] - 157s 721ms/step - loss: 0.2787 - accuracy: 0.8934 - val_loss: 0.1435 - val_accuracy: 0.9759\n",
            "Epoch 5/20\n",
            "218/218 [==============================] - 158s 725ms/step - loss: 0.2685 - accuracy: 0.8909 - val_loss: 0.1246 - val_accuracy: 0.9759\n",
            "Epoch 6/20\n",
            "218/218 [==============================] - 158s 723ms/step - loss: 0.2682 - accuracy: 0.8917 - val_loss: 0.1365 - val_accuracy: 0.9747\n",
            "Epoch 7/20\n",
            "218/218 [==============================] - 159s 727ms/step - loss: 0.2589 - accuracy: 0.8977 - val_loss: 0.1288 - val_accuracy: 0.9747\n",
            "Epoch 8/20\n",
            "218/218 [==============================] - 158s 723ms/step - loss: 0.2674 - accuracy: 0.8929 - val_loss: 0.1168 - val_accuracy: 0.9759\n",
            "Epoch 9/20\n",
            "218/218 [==============================] - 159s 727ms/step - loss: 0.2423 - accuracy: 0.9037 - val_loss: 0.1265 - val_accuracy: 0.9715\n",
            "Epoch 10/20\n",
            "218/218 [==============================] - 159s 730ms/step - loss: 0.2483 - accuracy: 0.9007 - val_loss: 0.1218 - val_accuracy: 0.9721\n",
            "Epoch 11/20\n",
            "218/218 [==============================] - 158s 725ms/step - loss: 0.2634 - accuracy: 0.8983 - val_loss: 0.1350 - val_accuracy: 0.9683\n",
            "Epoch 12/20\n",
            "218/218 [==============================] - 159s 727ms/step - loss: 0.2629 - accuracy: 0.8981 - val_loss: 0.1147 - val_accuracy: 0.9740\n",
            "Epoch 13/20\n",
            "218/218 [==============================] - 158s 723ms/step - loss: 0.2400 - accuracy: 0.9090 - val_loss: 0.1197 - val_accuracy: 0.9721\n",
            "Epoch 14/20\n",
            "218/218 [==============================] - 159s 728ms/step - loss: 0.2396 - accuracy: 0.9080 - val_loss: 0.1193 - val_accuracy: 0.9715\n",
            "Epoch 15/20\n",
            "218/218 [==============================] - 157s 718ms/step - loss: 0.2334 - accuracy: 0.9125 - val_loss: 0.1201 - val_accuracy: 0.9689\n",
            "Epoch 16/20\n",
            "218/218 [==============================] - 156s 714ms/step - loss: 0.2499 - accuracy: 0.9037 - val_loss: 0.1261 - val_accuracy: 0.9670\n",
            "Epoch 17/20\n",
            "218/218 [==============================] - 156s 717ms/step - loss: 0.2505 - accuracy: 0.9028 - val_loss: 0.1108 - val_accuracy: 0.9734\n",
            "Epoch 18/20\n",
            "218/218 [==============================] - 156s 716ms/step - loss: 0.2357 - accuracy: 0.9104 - val_loss: 0.1198 - val_accuracy: 0.9677\n",
            "Epoch 19/20\n",
            "218/218 [==============================] - 159s 730ms/step - loss: 0.2323 - accuracy: 0.9131 - val_loss: 0.1100 - val_accuracy: 0.9734\n",
            "Epoch 20/20\n",
            "218/218 [==============================] - 157s 718ms/step - loss: 0.2325 - accuracy: 0.9150 - val_loss: 0.1182 - val_accuracy: 0.9683\n"
          ],
          "name": "stdout"
        }
      ]
    },
    {
      "cell_type": "code",
      "metadata": {
        "colab": {
          "base_uri": "https://localhost:8080/",
          "height": 588
        },
        "id": "nQz1H9QyTPhq",
        "outputId": "e00b8420-191e-4402-d7f4-e85e10c08cac"
      },
      "source": [
        "acc = history.history['accuracy']\n",
        "val_acc = history.history['val_accuracy']\n",
        "loss = history.history['loss']\n",
        "val_loss = history.history['val_loss']\n",
        "\n",
        "\n",
        "plt.title('Training and validation accuracy')\n",
        "plt.plot(range(epochs), acc, color='blue', label='Train')\n",
        "plt.plot(range(epochs), val_acc, color='orange', label='Val')\n",
        "plt.xlabel('Epoch')\n",
        "plt.ylabel('Accuracy')\n",
        "plt.legend()\n",
        "\n",
        "_ = plt.figure()\n",
        "plt.title('Training and validation loss')\n",
        "plt.plot(range(epochs), loss, color='blue', label='Train')\n",
        "plt.plot(range(epochs), val_loss, color='orange', label='Val')\n",
        "plt.xlabel('Epoch')\n",
        "plt.ylabel('Loss')\n",
        "plt.legend()"
      ],
      "execution_count": 24,
      "outputs": [
        {
          "output_type": "execute_result",
          "data": {
            "text/plain": [
              "<matplotlib.legend.Legend at 0x7fde6031b240>"
            ]
          },
          "metadata": {
            "tags": []
          },
          "execution_count": 24
        },
        {
          "output_type": "display_data",
          "data": {
            "image/png": "[encoded data removed]",
            "text/plain": [
              "<Figure size 432x288 with 1 Axes>"
            ]
          },
          "metadata": {
            "tags": [],
            "needs_background": "light"
          }
        },
        {
          "output_type": "display_data",
          "data": {
            "image/png": "[encoded data removed]",
            "text/plain": [
              "<Figure size 432x288 with 1 Axes>"
            ]
          },
          "metadata": {
            "tags": [],
            "needs_background": "light"
          }
        }
      ]
    },
    {
      "cell_type": "code",
      "metadata": {
        "colab": {
          "base_uri": "https://localhost:8080/"
        },
        "id": "09zWUEZkvg40",
        "outputId": "2461dd95-174d-4d0b-bf1a-8882831508ab"
      },
      "source": [
        "print(\"Evaluate on test data\")\n",
        "results = model.evaluate(test_generator)\n",
        "print(\"test loss, test acc:\", results)"
      ],
      "execution_count": 25,
      "outputs": [
        {
          "output_type": "stream",
          "text": [
            "Evaluate on test data\n",
            "42/42 [==============================] - 12s 281ms/step - loss: 0.7005 - accuracy: 0.6294\n",
            "test loss, test acc: [0.7005316019058228, 0.6293810606002808]\n"
          ],
          "name": "stdout"
        }
      ]
    },
    {
      "cell_type": "code",
      "metadata": {
        "colab": {
          "base_uri": "https://localhost:8080/"
        },
        "id": "RRLsDLWxfki-",
        "outputId": "8220fd0f-e3f9-484c-f09d-0282efb3f01f"
      },
      "source": [
        "y_pred = np.argmax(model.predict(test_generator), axis=-1)\r\n",
        "y_true = test_generator.labels\r\n",
        "\r\n",
        "from sklearn.metrics import classification_report\r\n",
        "print(classification_report(y_true, y_pred))"
      ],
      "execution_count": 27,
      "outputs": [
        {
          "output_type": "stream",
          "text": [
            "              precision    recall  f1-score   support\n",
            "\n",
            "           0       0.63      0.96      0.76       840\n",
            "           1       0.39      0.04      0.08       501\n",
            "\n",
            "    accuracy                           0.62      1341\n",
            "   macro avg       0.51      0.50      0.42      1341\n",
            "weighted avg       0.54      0.62      0.50      1341\n",
            "\n"
          ],
          "name": "stdout"
        }
      ]
    },
    {
      "cell_type": "markdown",
      "metadata": {
        "id": "oby4-G1kQOgx"
      },
      "source": [
        "## Fine Tuning"
      ]
    },
    {
      "cell_type": "code",
      "metadata": {
        "colab": {
          "base_uri": "https://localhost:8080/"
        },
        "id": "tSrSV0iEQMmt",
        "outputId": "48556d6d-3726-44ea-eb60-e5a1540bea49"
      },
      "source": [
        "base_model.trainable = True\n",
        "model.summary()\n",
        "\n",
        "model.compile(\n",
        "    optimizer=tf.keras.optimizers.Adam(1e-5),  # Low learning rate\n",
        "    loss=tf.keras.losses.SparseCategoricalCrossentropy(from_logits=True),\n",
        "    metrics=['accuracy'],\n",
        ")\n",
        "\n",
        "epochs = 10\n",
        "history = model.fit(train_generator, \n",
        "                    epochs=epochs, \n",
        "                    validation_data=validation_generator,\n",
        "                    callbacks=[vgg_early_stop_callback, vgg_checkpoint_callback])"
      ],
      "execution_count": 33,
      "outputs": [
        {
          "output_type": "stream",
          "text": [
            "Model: \"sequential_1\"\n",
            "_________________________________________________________________\n",
            "Layer (type)                 Output Shape              Param #   \n",
            "=================================================================\n",
            "vgg16 (Functional)           (None, 9, 9, 512)         14714688  \n",
            "_________________________________________________________________\n",
            "global_average_pooling2d (Gl (None, 512)               0         \n",
            "_________________________________________________________________\n",
            "dense_1 (Dense)              (None, 2)                 1026      \n",
            "=================================================================\n",
            "Total params: 14,715,714\n",
            "Trainable params: 14,715,714\n",
            "Non-trainable params: 0\n",
            "_________________________________________________________________\n",
            "Epoch 1/10\n",
            "218/218 [==============================] - 216s 973ms/step - loss: 0.2444 - accuracy: 0.9074 - val_loss: 0.1142 - val_accuracy: 0.9721\n",
            "Epoch 2/10\n",
            "218/218 [==============================] - 210s 959ms/step - loss: 0.1424 - accuracy: 0.9510 - val_loss: 0.0916 - val_accuracy: 0.9772\n",
            "Epoch 3/10\n",
            "218/218 [==============================] - 209s 957ms/step - loss: 0.1102 - accuracy: 0.9639 - val_loss: 0.1202 - val_accuracy: 0.9708\n",
            "Epoch 4/10\n",
            "218/218 [==============================] - 207s 946ms/step - loss: 0.1111 - accuracy: 0.9636 - val_loss: 0.1015 - val_accuracy: 0.9740\n",
            "Epoch 5/10\n",
            "218/218 [==============================] - 208s 950ms/step - loss: 0.1043 - accuracy: 0.9675 - val_loss: 0.1115 - val_accuracy: 0.9715\n",
            "Epoch 6/10\n",
            "218/218 [==============================] - 207s 950ms/step - loss: 0.0778 - accuracy: 0.9723 - val_loss: 0.1097 - val_accuracy: 0.9740\n",
            "Epoch 7/10\n",
            "218/218 [==============================] - 207s 946ms/step - loss: 0.1079 - accuracy: 0.9592 - val_loss: 0.0872 - val_accuracy: 0.9753\n",
            "Epoch 8/10\n",
            "218/218 [==============================] - 208s 950ms/step - loss: 0.0785 - accuracy: 0.9744 - val_loss: 0.0964 - val_accuracy: 0.9753\n",
            "Epoch 9/10\n",
            "218/218 [==============================] - 207s 950ms/step - loss: 0.0693 - accuracy: 0.9761 - val_loss: 0.0895 - val_accuracy: 0.9747\n",
            "Epoch 10/10\n",
            "218/218 [==============================] - 207s 947ms/step - loss: 0.0556 - accuracy: 0.9834 - val_loss: 0.1030 - val_accuracy: 0.9778\n"
          ],
          "name": "stdout"
        }
      ]
    },
    {
      "cell_type": "code",
      "metadata": {
        "colab": {
          "base_uri": "https://localhost:8080/",
          "height": 588
        },
        "id": "bB_N2b5tQM1c",
        "outputId": "659ffe18-7d80-48aa-b10d-54f00694d2f1"
      },
      "source": [
        "acc = history.history['accuracy']\n",
        "val_acc = history.history['val_accuracy']\n",
        "loss = history.history['loss']\n",
        "val_loss = history.history['val_loss']\n",
        "\n",
        "\n",
        "plt.title('Training and validation accuracy')\n",
        "plt.plot(range(epochs), acc, color='blue', label='Train')\n",
        "plt.plot(range(epochs), val_acc, color='orange', label='Val')\n",
        "plt.xlabel('Epoch')\n",
        "plt.ylabel('Accuracy')\n",
        "plt.legend()\n",
        "\n",
        "_ = plt.figure()\n",
        "plt.title('Training and validation loss')\n",
        "plt.plot(range(epochs), loss, color='blue', label='Train')\n",
        "plt.plot(range(epochs), val_loss, color='orange', label='Val')\n",
        "plt.xlabel('Epoch')\n",
        "plt.ylabel('Loss')\n",
        "plt.legend()"
      ],
      "execution_count": 34,
      "outputs": [
        {
          "output_type": "execute_result",
          "data": {
            "text/plain": [
              "<matplotlib.legend.Legend at 0x7fde603ce048>"
            ]
          },
          "metadata": {
            "tags": []
          },
          "execution_count": 34
        },
        {
          "output_type": "display_data",
          "data": {
            "image/png": "[encoded data removed]",
            "text/plain": [
              "<Figure size 432x288 with 1 Axes>"
            ]
          },
          "metadata": {
            "tags": [],
            "needs_background": "light"
          }
        },
        {
          "output_type": "display_data",
          "data": {
            "image/png": "[encoded data removed]",
            "text/plain": [
              "<Figure size 432x288 with 1 Axes>"
            ]
          },
          "metadata": {
            "tags": [],
            "needs_background": "light"
          }
        }
      ]
    },
    {
      "cell_type": "code",
      "metadata": {
        "colab": {
          "base_uri": "https://localhost:8080/"
        },
        "id": "9gJrLkm-QNCE",
        "outputId": "051315c5-528a-4c51-fff3-7854848acde4"
      },
      "source": [
        "print(\"Evaluate on test data\")\n",
        "results = model.evaluate(test_generator)\n",
        "print(\"test loss, test acc:\", results)"
      ],
      "execution_count": 35,
      "outputs": [
        {
          "output_type": "stream",
          "text": [
            "Evaluate on test data\n",
            "42/42 [==============================] - 10s 241ms/step - loss: 0.6635 - accuracy: 0.8441\n",
            "test loss, test acc: [0.663512110710144, 0.8441461324691772]\n"
          ],
          "name": "stdout"
        }
      ]
    },
    {
      "cell_type": "code",
      "metadata": {
        "colab": {
          "base_uri": "https://localhost:8080/"
        },
        "id": "i8RIchzsQNVP",
        "outputId": "d8e565c6-6280-4d36-8375-badb5e60790b"
      },
      "source": [
        "predictions = model.predict(test_generator)\n",
        "tumor_prob = predictions[:,1]\n",
        "y_pred = np.round(tumor_prob)\n",
        "# y_pred = np.argmax(predictions, axis=-1)\n",
        "y_true = test_generator.labels\n",
        "\n",
        "from sklearn.metrics import classification_report\n",
        "print(classification_report(y_true, y_pred))"
      ],
      "execution_count": 37,
      "outputs": [
        {
          "output_type": "stream",
          "text": [
            "              precision    recall  f1-score   support\n",
            "\n",
            "           0       0.63      0.79      0.70       840\n",
            "           1       0.38      0.22      0.28       501\n",
            "\n",
            "    accuracy                           0.58      1341\n",
            "   macro avg       0.51      0.50      0.49      1341\n",
            "weighted avg       0.54      0.58      0.54      1341\n",
            "\n"
          ],
          "name": "stdout"
        }
      ]
    },
    {
      "cell_type": "markdown",
      "metadata": {
        "id": "gbTONJv2fiNM"
      },
      "source": [
        "# InceptionV3\n",
        "\n",
        "- with data augmentation"
      ]
    },
    {
      "cell_type": "code",
      "metadata": {
        "id": "4_PruFIubgOp"
      },
      "source": [
        "if not os.path.exists('/content/checkpoint'):\n",
        "  os.mkdir('/content/checkpoint')\n",
        "if not os.path.exists('/content/checkpoint/Inception'):\n",
        "  os.mkdir('/content/checkpoint/Inception')\n",
        "inception_checkpoint_path = '/content/checkpoint/Inception/weights-improvement-{epoch:02d}-{val_accuracy:.2f}-{val_loss:.2f}.hdf5'\n",
        "inception_checkpoint_callback = tf.keras.callbacks.ModelCheckpoint(inception_checkpoint_path, \n",
        "                                                               monitor='val_loss', \n",
        "                                                               save_best_only=True, \n",
        "                                                               mode='auto')"
      ],
      "execution_count": 13,
      "outputs": []
    },
    {
      "cell_type": "code",
      "metadata": {
        "id": "o5sDrefxa2DZ"
      },
      "source": [
        "inception_early_stop_callback = tf.keras.callbacks.EarlyStopping(\n",
        "                              monitor='val_loss', min_delta=0, patience=10\n",
        "                          )"
      ],
      "execution_count": null,
      "outputs": []
    },
    {
      "cell_type": "code",
      "metadata": {
        "colab": {
          "base_uri": "https://localhost:8080/"
        },
        "id": "xzr3m8T1fhyY",
        "outputId": "c098e3a7-d525-4309-93d4-2e0566644af4"
      },
      "source": [
        "IMG_SIZE = 299\n",
        "\n",
        "base_model = tf.keras.applications.InceptionV3(include_top=False,\n",
        "                                           weights='imagenet',\n",
        "                                           input_shape=(IMG_SIZE, IMG_SIZE, 3))\n",
        "\n",
        "for layer in base_model.layers:\n",
        "    layer.trainable = False\n",
        "\n",
        "inception_model = tf.keras.models.Sequential()\n",
        "inception_model.add(base_model)\n",
        "inception_model.add(tf.keras.layers.GlobalAveragePooling2D())\n",
        "inception_model.add(tf.keras.layers.Dense(256, activation='relu'))\n",
        "inception_model.add(tf.keras.layers.Dropout(rate = 0.4))\n",
        "inception_model.add(tf.keras.layers.Dense(128, activation='relu'))\n",
        "inception_model.add(tf.keras.layers.Dense(2, activation='softmax'))\n",
        "\n",
        "\n",
        "\n",
        "\n",
        "inception_model.summary()\n",
        "\n",
        "inception_model.compile(optimizer = tf.keras.optimizers.Adam(learning_rate=0.001),\n",
        "                        loss = 'sparse_categorical_crossentropy',\n",
        "                        metrics = ['accuracy'])"
      ],
      "execution_count": 14,
      "outputs": [
        {
          "output_type": "stream",
          "text": [
            "Downloading data from https://storage.googleapis.com/tensorflow/keras-applications/inception_v3/inception_v3_weights_tf_dim_ordering_tf_kernels_notop.h5\n",
            "87916544/87910968 [==============================] - 0s 0us/step\n",
            "Model: \"sequential\"\n",
            "_________________________________________________________________\n",
            "Layer (type)                 Output Shape              Param #   \n",
            "=================================================================\n",
            "inception_v3 (Functional)    (None, 8, 8, 2048)        21802784  \n",
            "_________________________________________________________________\n",
            "global_average_pooling2d (Gl (None, 2048)              0         \n",
            "_________________________________________________________________\n",
            "dense (Dense)                (None, 256)               524544    \n",
            "_________________________________________________________________\n",
            "dropout (Dropout)            (None, 256)               0         \n",
            "_________________________________________________________________\n",
            "dense_1 (Dense)              (None, 128)               32896     \n",
            "_________________________________________________________________\n",
            "dense_2 (Dense)              (None, 2)                 258       \n",
            "=================================================================\n",
            "Total params: 22,360,482\n",
            "Trainable params: 557,698\n",
            "Non-trainable params: 21,802,784\n",
            "_________________________________________________________________\n"
          ],
          "name": "stdout"
        }
      ]
    },
    {
      "cell_type": "code",
      "metadata": {
        "colab": {
          "base_uri": "https://localhost:8080/",
          "height": 661
        },
        "id": "KgHSKanYtPRZ",
        "outputId": "decd7c55-3fbc-4780-cb6f-60f09a151da5"
      },
      "source": [
        "tf.keras.utils.plot_model(inception_model)"
      ],
      "execution_count": 49,
      "outputs": [
        {
          "output_type": "execute_result",
          "data": {
            "image/png": "[encoded data removed]",
            "text/plain": [
              "<IPython.core.display.Image object>"
            ]
          },
          "metadata": {
            "tags": []
          },
          "execution_count": 49
        }
      ]
    },
    {
      "cell_type": "code",
      "metadata": {
        "colab": {
          "base_uri": "https://localhost:8080/"
        },
        "id": "KmX-6DMNBXxX",
        "outputId": "ed2b5f7b-f26a-4b05-c43c-a049c7ba733a"
      },
      "source": [
        "epochs = 20\n",
        "inception_history = inception_model.fit(\n",
        "    train_generator,\n",
        "    epochs = epochs,\n",
        "    validation_data = validation_generator,\n",
        "    callbacks=[inception_early_stop_callback, inception_checkpoint_callback]\n",
        ")"
      ],
      "execution_count": 15,
      "outputs": [
        {
          "output_type": "stream",
          "text": [
            "Epoch 1/20\n",
            "218/218 [==============================] - 166s 711ms/step - loss: 0.3973 - accuracy: 0.8652 - val_loss: 0.1387 - val_accuracy: 0.9759\n",
            "Epoch 2/20\n",
            "218/218 [==============================] - 145s 665ms/step - loss: 0.2752 - accuracy: 0.8989 - val_loss: 0.1200 - val_accuracy: 0.9759\n",
            "Epoch 3/20\n",
            "218/218 [==============================] - 142s 653ms/step - loss: 0.2770 - accuracy: 0.8879 - val_loss: 0.1226 - val_accuracy: 0.9766\n",
            "Epoch 4/20\n",
            "218/218 [==============================] - 142s 650ms/step - loss: 0.2725 - accuracy: 0.8884 - val_loss: 0.1400 - val_accuracy: 0.9766\n",
            "Epoch 5/20\n",
            "218/218 [==============================] - 141s 648ms/step - loss: 0.2651 - accuracy: 0.8979 - val_loss: 0.1320 - val_accuracy: 0.9715\n",
            "Epoch 6/20\n",
            "218/218 [==============================] - 141s 649ms/step - loss: 0.2301 - accuracy: 0.9099 - val_loss: 0.1279 - val_accuracy: 0.9708\n",
            "Epoch 7/20\n",
            "218/218 [==============================] - 141s 648ms/step - loss: 0.2500 - accuracy: 0.9031 - val_loss: 0.1299 - val_accuracy: 0.9747\n",
            "Epoch 8/20\n",
            "218/218 [==============================] - 141s 647ms/step - loss: 0.2466 - accuracy: 0.8962 - val_loss: 0.1780 - val_accuracy: 0.9766\n",
            "Epoch 9/20\n",
            "218/218 [==============================] - 140s 642ms/step - loss: 0.2323 - accuracy: 0.9095 - val_loss: 0.1976 - val_accuracy: 0.9499\n",
            "Epoch 10/20\n",
            "218/218 [==============================] - 140s 641ms/step - loss: 0.2415 - accuracy: 0.9024 - val_loss: 0.1701 - val_accuracy: 0.9772\n",
            "Epoch 11/20\n",
            "218/218 [==============================] - 139s 638ms/step - loss: 0.2359 - accuracy: 0.9118 - val_loss: 0.1698 - val_accuracy: 0.9531\n",
            "Epoch 12/20\n",
            "218/218 [==============================] - 139s 638ms/step - loss: 0.2201 - accuracy: 0.9125 - val_loss: 0.1582 - val_accuracy: 0.9556\n",
            "Epoch 13/20\n",
            "218/218 [==============================] - 140s 640ms/step - loss: 0.2271 - accuracy: 0.9179 - val_loss: 0.1885 - val_accuracy: 0.9550\n",
            "Epoch 14/20\n",
            "218/218 [==============================] - 139s 639ms/step - loss: 0.2365 - accuracy: 0.9120 - val_loss: 0.2148 - val_accuracy: 0.9151\n",
            "Epoch 15/20\n",
            "218/218 [==============================] - 138s 635ms/step - loss: 0.2225 - accuracy: 0.9125 - val_loss: 0.1041 - val_accuracy: 0.9747\n",
            "Epoch 16/20\n",
            "218/218 [==============================] - 139s 637ms/step - loss: 0.2215 - accuracy: 0.9091 - val_loss: 0.1789 - val_accuracy: 0.9518\n",
            "Epoch 17/20\n",
            "218/218 [==============================] - 139s 637ms/step - loss: 0.2232 - accuracy: 0.9136 - val_loss: 0.1330 - val_accuracy: 0.9658\n",
            "Epoch 18/20\n",
            "218/218 [==============================] - 138s 635ms/step - loss: 0.2215 - accuracy: 0.9120 - val_loss: 0.1413 - val_accuracy: 0.9626\n",
            "Epoch 19/20\n",
            "218/218 [==============================] - 139s 638ms/step - loss: 0.2103 - accuracy: 0.9161 - val_loss: 0.1918 - val_accuracy: 0.9442\n",
            "Epoch 20/20\n",
            "218/218 [==============================] - 141s 649ms/step - loss: 0.2097 - accuracy: 0.9239 - val_loss: 0.1876 - val_accuracy: 0.9493\n"
          ],
          "name": "stdout"
        }
      ]
    },
    {
      "cell_type": "code",
      "metadata": {
        "id": "7trCFoVATedV",
        "colab": {
          "base_uri": "https://localhost:8080/",
          "height": 588
        },
        "outputId": "351e532f-2c33-42d2-a229-fa4dc4c13792"
      },
      "source": [
        "acc = inception_history.history['accuracy']\n",
        "val_acc = inception_history.history['val_accuracy']\n",
        "loss = inception_history.history['loss']\n",
        "val_loss = inception_history.history['val_loss']\n",
        "\n",
        "\n",
        "plt.title('Training and validation accuracy')\n",
        "plt.plot(range(epochs), acc, color='blue', label='Train')\n",
        "plt.plot(range(epochs), val_acc, color='orange', label='Val')\n",
        "plt.xlabel('Epoch')\n",
        "plt.ylabel('Accuracy')\n",
        "plt.legend()\n",
        "\n",
        "_ = plt.figure()\n",
        "plt.title('Training and validation loss')\n",
        "plt.plot(range(epochs), loss, color='blue', label='Train')\n",
        "plt.plot(range(epochs), val_loss, color='orange', label='Val')\n",
        "plt.xlabel('Epoch')\n",
        "plt.ylabel('Loss')\n",
        "plt.legend()"
      ],
      "execution_count": 16,
      "outputs": [
        {
          "output_type": "execute_result",
          "data": {
            "text/plain": [
              "<matplotlib.legend.Legend at 0x7efc14312ac8>"
            ]
          },
          "metadata": {
            "tags": []
          },
          "execution_count": 16
        },
        {
          "output_type": "display_data",
          "data": {
            "image/png": "[encoded data removed]",
            "text/plain": [
              "<Figure size 432x288 with 1 Axes>"
            ]
          },
          "metadata": {
            "tags": [],
            "needs_background": "light"
          }
        },
        {
          "output_type": "display_data",
          "data": {
            "image/png": "[encoded data removed]",
            "text/plain": [
              "<Figure size 432x288 with 1 Axes>"
            ]
          },
          "metadata": {
            "tags": [],
            "needs_background": "light"
          }
        }
      ]
    },
    {
      "cell_type": "code",
      "metadata": {
        "colab": {
          "base_uri": "https://localhost:8080/"
        },
        "id": "jOnOfpJecHqC",
        "outputId": "690660e7-2714-4ffe-d660-7d8585b945fc"
      },
      "source": [
        "print(\"Evaluate on test data\")\n",
        "results = inception_model.evaluate(test_generator)\n",
        "print(\"test loss, test acc:\", results)"
      ],
      "execution_count": 17,
      "outputs": [
        {
          "output_type": "stream",
          "text": [
            "Evaluate on test data\n",
            "42/42 [==============================] - 7s 166ms/step - loss: 0.5137 - accuracy: 0.7509\n",
            "test loss, test acc: [0.5136538147926331, 0.7509321570396423]\n"
          ],
          "name": "stdout"
        }
      ]
    },
    {
      "cell_type": "code",
      "metadata": {
        "colab": {
          "base_uri": "https://localhost:8080/"
        },
        "id": "H8DO0wS3cJts",
        "outputId": "4efa92ac-cfa7-47ed-943e-ce4ec3e6da29"
      },
      "source": [
        "predictions = inception_model.predict(test_generator)\n",
        "tumor_prob = predictions[:,1]\n",
        "y_pred = np.round(tumor_prob)\n",
        "# y_pred = np.argmax(predictions, axis=-1)\n",
        "y_true = test_generator.labels\n",
        "\n",
        "print(classification_report(y_true, y_pred))"
      ],
      "execution_count": 21,
      "outputs": [
        {
          "output_type": "stream",
          "text": [
            "              precision    recall  f1-score   support\n",
            "\n",
            "           0       0.63      0.78      0.69       840\n",
            "           1       0.37      0.22      0.28       501\n",
            "\n",
            "    accuracy                           0.57      1341\n",
            "   macro avg       0.50      0.50      0.49      1341\n",
            "weighted avg       0.53      0.57      0.54      1341\n",
            "\n"
          ],
          "name": "stdout"
        }
      ]
    },
    {
      "cell_type": "markdown",
      "metadata": {
        "id": "aa3UkBQVa-mC"
      },
      "source": [
        "## Fine Tuning"
      ]
    },
    {
      "cell_type": "code",
      "metadata": {
        "colab": {
          "base_uri": "https://localhost:8080/"
        },
        "id": "qp8WQ5sca_jH",
        "outputId": "91befd7d-d323-4d2e-d5a3-23d1faf0659f"
      },
      "source": [
        "base_model.trainable = True\n",
        "inception_model.summary()\n",
        "\n",
        "inception_model.compile(\n",
        "    optimizer=tf.keras.optimizers.Adam(1e-5),  # Low learning rate\n",
        "    loss=tf.keras.losses.SparseCategoricalCrossentropy(from_logits=True),\n",
        "    metrics=['accuracy'],\n",
        ")\n",
        "\n",
        "epochs = 20\n",
        "inception_history_ft = inception_model.fit(train_generator, \n",
        "                              epochs=epochs, \n",
        "                              validation_data=validation_generator,\n",
        "                              callbacks=[inception_early_stop_callback, inception_checkpoint_callback])"
      ],
      "execution_count": 22,
      "outputs": [
        {
          "output_type": "stream",
          "text": [
            "Model: \"sequential\"\n",
            "_________________________________________________________________\n",
            "Layer (type)                 Output Shape              Param #   \n",
            "=================================================================\n",
            "inception_v3 (Functional)    (None, 8, 8, 2048)        21802784  \n",
            "_________________________________________________________________\n",
            "global_average_pooling2d (Gl (None, 2048)              0         \n",
            "_________________________________________________________________\n",
            "dense (Dense)                (None, 256)               524544    \n",
            "_________________________________________________________________\n",
            "dropout (Dropout)            (None, 256)               0         \n",
            "_________________________________________________________________\n",
            "dense_1 (Dense)              (None, 128)               32896     \n",
            "_________________________________________________________________\n",
            "dense_2 (Dense)              (None, 2)                 258       \n",
            "=================================================================\n",
            "Total params: 22,360,482\n",
            "Trainable params: 22,326,050\n",
            "Non-trainable params: 34,432\n",
            "_________________________________________________________________\n",
            "Epoch 1/50\n",
            "218/218 [==============================] - 183s 805ms/step - loss: 0.2860 - accuracy: 0.8966 - val_loss: 0.0987 - val_accuracy: 0.9753\n",
            "Epoch 2/50\n",
            "218/218 [==============================] - 172s 788ms/step - loss: 0.1810 - accuracy: 0.9448 - val_loss: 0.1106 - val_accuracy: 0.9747\n",
            "Epoch 3/50\n",
            "218/218 [==============================] - 170s 779ms/step - loss: 0.1503 - accuracy: 0.9515 - val_loss: 0.1031 - val_accuracy: 0.9759\n",
            "Epoch 4/50\n",
            "218/218 [==============================] - 170s 781ms/step - loss: 0.1209 - accuracy: 0.9632 - val_loss: 0.1057 - val_accuracy: 0.9702\n",
            "Epoch 5/50\n",
            "218/218 [==============================] - 171s 781ms/step - loss: 0.1158 - accuracy: 0.9636 - val_loss: 0.0946 - val_accuracy: 0.9747\n",
            "Epoch 6/50\n",
            "218/218 [==============================] - 171s 783ms/step - loss: 0.1046 - accuracy: 0.9683 - val_loss: 0.0839 - val_accuracy: 0.9766\n",
            "Epoch 7/50\n",
            "218/218 [==============================] - 171s 784ms/step - loss: 0.0941 - accuracy: 0.9722 - val_loss: 0.0790 - val_accuracy: 0.9766\n",
            "Epoch 8/50\n",
            "218/218 [==============================] - 172s 786ms/step - loss: 0.0842 - accuracy: 0.9764 - val_loss: 0.0804 - val_accuracy: 0.9772\n",
            "Epoch 9/50\n",
            "218/218 [==============================] - 170s 781ms/step - loss: 0.0740 - accuracy: 0.9793 - val_loss: 0.0745 - val_accuracy: 0.9829\n",
            "Epoch 10/50\n",
            "218/218 [==============================] - 170s 777ms/step - loss: 0.0697 - accuracy: 0.9798 - val_loss: 0.0791 - val_accuracy: 0.9772\n",
            "Epoch 11/50\n",
            "218/218 [==============================] - 170s 779ms/step - loss: 0.0662 - accuracy: 0.9832 - val_loss: 0.0740 - val_accuracy: 0.9816\n",
            "Epoch 12/50\n",
            "218/218 [==============================] - 171s 783ms/step - loss: 0.0630 - accuracy: 0.9804 - val_loss: 0.0773 - val_accuracy: 0.9810\n",
            "Epoch 13/50\n",
            "218/218 [==============================] - 170s 780ms/step - loss: 0.0624 - accuracy: 0.9853 - val_loss: 0.0899 - val_accuracy: 0.9778\n",
            "Epoch 14/50\n",
            "218/218 [==============================] - 170s 779ms/step - loss: 0.0645 - accuracy: 0.9838 - val_loss: 0.0946 - val_accuracy: 0.9759\n",
            "Epoch 15/50\n",
            "218/218 [==============================] - 169s 776ms/step - loss: 0.0516 - accuracy: 0.9875 - val_loss: 0.0985 - val_accuracy: 0.9759\n",
            "Epoch 16/50\n",
            "218/218 [==============================] - 168s 772ms/step - loss: 0.0513 - accuracy: 0.9874 - val_loss: 0.0996 - val_accuracy: 0.9766\n",
            "Epoch 17/50\n",
            "218/218 [==============================] - 169s 773ms/step - loss: 0.0460 - accuracy: 0.9925 - val_loss: 0.0905 - val_accuracy: 0.9785\n",
            "Epoch 18/50\n",
            "218/218 [==============================] - 169s 773ms/step - loss: 0.0478 - accuracy: 0.9910 - val_loss: 0.0882 - val_accuracy: 0.9759\n",
            "Epoch 19/50\n",
            "218/218 [==============================] - 169s 774ms/step - loss: 0.0471 - accuracy: 0.9904 - val_loss: 0.0879 - val_accuracy: 0.9804\n",
            "Epoch 20/50\n",
            "218/218 [==============================] - 169s 774ms/step - loss: 0.0460 - accuracy: 0.9907 - val_loss: 0.0927 - val_accuracy: 0.9791\n",
            "Epoch 21/50\n",
            "218/218 [==============================] - 173s 793ms/step - loss: 0.0409 - accuracy: 0.9925 - val_loss: 0.0994 - val_accuracy: 0.9759\n",
            "Epoch 22/50\n",
            "218/218 [==============================] - 181s 828ms/step - loss: 0.0426 - accuracy: 0.9894 - val_loss: 0.1057 - val_accuracy: 0.9766\n",
            "Epoch 23/50\n",
            "218/218 [==============================] - 182s 832ms/step - loss: 0.0415 - accuracy: 0.9915 - val_loss: 0.1072 - val_accuracy: 0.9728\n",
            "Epoch 24/50\n",
            "218/218 [==============================] - 174s 795ms/step - loss: 0.0394 - accuracy: 0.9941 - val_loss: 0.0930 - val_accuracy: 0.9823\n",
            "Epoch 25/50\n",
            "218/218 [==============================] - 170s 779ms/step - loss: 0.0379 - accuracy: 0.9937 - val_loss: 0.1002 - val_accuracy: 0.9785\n",
            "Epoch 26/50\n",
            "218/218 [==============================] - 170s 778ms/step - loss: 0.0346 - accuracy: 0.9929 - val_loss: 0.0974 - val_accuracy: 0.9810\n",
            "Epoch 27/50\n",
            "218/218 [==============================] - 169s 776ms/step - loss: 0.0365 - accuracy: 0.9935 - val_loss: 0.1185 - val_accuracy: 0.9785\n",
            "Epoch 28/50\n",
            "218/218 [==============================] - 170s 779ms/step - loss: 0.0375 - accuracy: 0.9963 - val_loss: 0.1069 - val_accuracy: 0.9804\n",
            "Epoch 29/50\n",
            "218/218 [==============================] - 170s 777ms/step - loss: 0.0316 - accuracy: 0.9956 - val_loss: 0.1169 - val_accuracy: 0.9778\n",
            "Epoch 30/50\n",
            "218/218 [==============================] - 170s 777ms/step - loss: 0.0322 - accuracy: 0.9960 - val_loss: 0.1208 - val_accuracy: 0.9772\n",
            "Epoch 31/50\n",
            "218/218 [==============================] - 170s 777ms/step - loss: 0.0310 - accuracy: 0.9955 - val_loss: 0.1148 - val_accuracy: 0.9778\n",
            "Epoch 32/50\n",
            "218/218 [==============================] - 169s 775ms/step - loss: 0.0332 - accuracy: 0.9957 - val_loss: 0.1340 - val_accuracy: 0.9766\n",
            "Epoch 33/50\n",
            "218/218 [==============================] - 171s 783ms/step - loss: 0.0284 - accuracy: 0.9964 - val_loss: 0.1417 - val_accuracy: 0.9772\n",
            "Epoch 34/50\n",
            "218/218 [==============================] - 171s 783ms/step - loss: 0.0310 - accuracy: 0.9967 - val_loss: 0.1258 - val_accuracy: 0.9778\n",
            "Epoch 35/50\n",
            "218/218 [==============================] - 171s 783ms/step - loss: 0.0269 - accuracy: 0.9978 - val_loss: 0.1390 - val_accuracy: 0.9778\n",
            "Epoch 36/50\n",
            "218/218 [==============================] - 171s 781ms/step - loss: 0.0316 - accuracy: 0.9957 - val_loss: 0.1591 - val_accuracy: 0.9753\n",
            "Epoch 37/50\n",
            "218/218 [==============================] - 171s 783ms/step - loss: 0.0321 - accuracy: 0.9945 - val_loss: 0.1566 - val_accuracy: 0.9753\n",
            "Epoch 38/50\n",
            "218/218 [==============================] - 170s 781ms/step - loss: 0.0262 - accuracy: 0.9972 - val_loss: 0.1255 - val_accuracy: 0.9778\n",
            "Epoch 39/50\n",
            "218/218 [==============================] - 170s 780ms/step - loss: 0.0275 - accuracy: 0.9964 - val_loss: 0.1540 - val_accuracy: 0.9753\n",
            "Epoch 40/50\n",
            "218/218 [==============================] - 171s 785ms/step - loss: 0.0272 - accuracy: 0.9970 - val_loss: 0.1454 - val_accuracy: 0.9772\n",
            "Epoch 41/50\n",
            "218/218 [==============================] - 170s 780ms/step - loss: 0.0244 - accuracy: 0.9973 - val_loss: 0.1338 - val_accuracy: 0.9791\n",
            "Epoch 42/50\n",
            "218/218 [==============================] - 171s 781ms/step - loss: 0.0254 - accuracy: 0.9983 - val_loss: 0.1401 - val_accuracy: 0.9766\n",
            "Epoch 43/50\n",
            "218/218 [==============================] - 170s 780ms/step - loss: 0.0303 - accuracy: 0.9964 - val_loss: 0.1083 - val_accuracy: 0.9816\n",
            "Epoch 44/50\n",
            "218/218 [==============================] - 170s 779ms/step - loss: 0.0268 - accuracy: 0.9969 - val_loss: 0.1302 - val_accuracy: 0.9785\n",
            "Epoch 45/50\n",
            "218/218 [==============================] - 170s 779ms/step - loss: 0.0277 - accuracy: 0.9955 - val_loss: 0.1308 - val_accuracy: 0.9785\n",
            "Epoch 46/50\n",
            "218/218 [==============================] - 171s 782ms/step - loss: 0.0292 - accuracy: 0.9963 - val_loss: 0.1403 - val_accuracy: 0.9778\n",
            "Epoch 47/50\n",
            "218/218 [==============================] - 171s 782ms/step - loss: 0.0275 - accuracy: 0.9973 - val_loss: 0.1298 - val_accuracy: 0.9785\n",
            "Epoch 48/50\n",
            "218/218 [==============================] - 173s 793ms/step - loss: 0.0233 - accuracy: 0.9988 - val_loss: 0.1020 - val_accuracy: 0.9810\n",
            "Epoch 49/50\n",
            "218/218 [==============================] - 171s 785ms/step - loss: 0.0236 - accuracy: 0.9977 - val_loss: 0.1236 - val_accuracy: 0.9778\n",
            "Epoch 50/50\n",
            "218/218 [==============================] - 170s 781ms/step - loss: 0.0229 - accuracy: 0.9990 - val_loss: 0.1190 - val_accuracy: 0.9747\n"
          ],
          "name": "stdout"
        }
      ]
    },
    {
      "cell_type": "code",
      "metadata": {
        "colab": {
          "base_uri": "https://localhost:8080/",
          "height": 588
        },
        "id": "e-neRHNGcRmE",
        "outputId": "66494387-578f-4c82-931b-ffbbeecabb24"
      },
      "source": [
        "acc = inception_history_ft.history['accuracy']\n",
        "val_acc = inception_history_ft.history['val_accuracy']\n",
        "loss = inception_history_ft.history['loss']\n",
        "val_loss = inception_history_ft.history['val_loss']\n",
        "\n",
        "\n",
        "plt.title('Training and validation accuracy')\n",
        "plt.plot(range(epochs), acc, color='blue', label='Train')\n",
        "plt.plot(range(epochs), val_acc, color='orange', label='Val')\n",
        "plt.xlabel('Epoch')\n",
        "plt.ylabel('Accuracy')\n",
        "plt.legend()\n",
        "\n",
        "_ = plt.figure()\n",
        "plt.title('Training and validation loss')\n",
        "plt.plot(range(epochs), loss, color='blue', label='Train')\n",
        "plt.plot(range(epochs), val_loss, color='orange', label='Val')\n",
        "plt.xlabel('Epoch')\n",
        "plt.ylabel('Loss')\n",
        "plt.legend()"
      ],
      "execution_count": 26,
      "outputs": [
        {
          "output_type": "execute_result",
          "data": {
            "text/plain": [
              "<matplotlib.legend.Legend at 0x7ef9e2062160>"
            ]
          },
          "metadata": {
            "tags": []
          },
          "execution_count": 26
        },
        {
          "output_type": "display_data",
          "data": {
            "image/png": "[encoded data removed]",
            "text/plain": [
              "<Figure size 432x288 with 1 Axes>"
            ]
          },
          "metadata": {
            "tags": [],
            "needs_background": "light"
          }
        },
        {
          "output_type": "display_data",
          "data": {
            "image/png": "[encoded data removed]",
            "text/plain": [
              "<Figure size 432x288 with 1 Axes>"
            ]
          },
          "metadata": {
            "tags": [],
            "needs_background": "light"
          }
        }
      ]
    },
    {
      "cell_type": "code",
      "metadata": {
        "id": "RxZNeqPokKet"
      },
      "source": [
        "best_checkpoint = '/content/checkpoint/Inception/weights-improvement-11-0.98-0.07.hdf5'\n",
        "inception_model.load_weights(best_checkpoint)"
      ],
      "execution_count": 39,
      "outputs": []
    },
    {
      "cell_type": "code",
      "metadata": {
        "colab": {
          "base_uri": "https://localhost:8080/"
        },
        "id": "nElX7JQucfFx",
        "outputId": "68864151-d675-4164-cbd9-c27e7e44969d"
      },
      "source": [
        "print(\"Evaluate on test data\")\n",
        "results = inception_model.evaluate(test_generator)\n",
        "print(\"test loss, test acc:\", results)"
      ],
      "execution_count": 40,
      "outputs": [
        {
          "output_type": "stream",
          "text": [
            "Evaluate on test data\n",
            "42/42 [==============================] - 6s 135ms/step - loss: 0.2304 - accuracy: 0.9202\n",
            "test loss, test acc: [0.23037154972553253, 0.9202088117599487]\n"
          ],
          "name": "stdout"
        }
      ]
    },
    {
      "cell_type": "code",
      "metadata": {
        "colab": {
          "base_uri": "https://localhost:8080/"
        },
        "id": "uc7tA4CPcgRU",
        "outputId": "8fe6b8b0-ef65-4f93-fb4d-1f10e3fcc2cf"
      },
      "source": [
        "predictions = inception_model.predict(test_generator)\n",
        "tumor_prob = predictions[:,1]\n",
        "# y_pred = [1 if prob > 0.8 else 0 for prob in tumor_prob ]\n",
        "y_pred = np.round(tumor_prob)\n",
        "# y_pred = np.argmax(predictions, axis=-1)\n",
        "y_true = test_generator.labels\n",
        "\n",
        "print(classification_report(y_true, y_pred))"
      ],
      "execution_count": 41,
      "outputs": [
        {
          "output_type": "stream",
          "text": [
            "              precision    recall  f1-score   support\n",
            "\n",
            "           0       0.62      0.69      0.66       840\n",
            "           1       0.37      0.30      0.33       501\n",
            "\n",
            "    accuracy                           0.55      1341\n",
            "   macro avg       0.50      0.50      0.49      1341\n",
            "weighted avg       0.53      0.55      0.53      1341\n",
            "\n"
          ],
          "name": "stdout"
        }
      ]
    },
    {
      "cell_type": "code",
      "metadata": {
        "id": "Ofnn7UQTuxgV"
      },
      "source": [
        "# inception_model.save('/content/inception_model.h5')"
      ],
      "execution_count": 45,
      "outputs": []
    },
    {
      "cell_type": "markdown",
      "metadata": {
        "id": "wQbk0PysJT15"
      },
      "source": [
        "# Multi-level Model"
      ]
    },
    {
      "cell_type": "code",
      "metadata": {
        "id": "bksotVCrJgS1"
      },
      "source": [
        ""
      ],
      "execution_count": null,
      "outputs": []
    },
    {
      "cell_type": "code",
      "metadata": {
        "colab": {
          "base_uri": "https://localhost:8080/"
        },
        "id": "qVfA78at39Lp",
        "outputId": "9141c4cb-ca4b-4f08-8e2b-33bf5b196280"
      },
      "source": [
        "print('level 4')\n",
        "level4_train_generator, level4_validation_generator, level4_test_generator = data_generator_aug(train_image_dir4, \n",
        "                                                                                                val_image_dir4, \n",
        "                                                                                                test_image_dir4)\n",
        "print()\n",
        "print('level 3')\n",
        "level3_train_generator, level3_validation_generator, level3_test_generator = data_generator_aug(train_image_dir3, \n",
        "                                                                                                val_image_dir3, \n",
        "                                                                                                test_image_dir3)"
      ],
      "execution_count": 65,
      "outputs": [
        {
          "output_type": "stream",
          "text": [
            "level 4\n",
            "Found 6954 images belonging to 2 classes.\n",
            "Found 1578 images belonging to 2 classes.\n",
            "Train data: \n",
            "data batch shape: (32, 299, 299, 3)\n",
            "labels batch shape: (32,)\n",
            "\n",
            "\n",
            "Validation data: \n",
            "data batch shape: (32, 299, 299, 3)\n",
            "labels batch shape: (32,)\n",
            "Found 1341 images belonging to 2 classes.\n",
            "\n",
            "level 3\n",
            "Found 25760 images belonging to 2 classes.\n",
            "Found 5855 images belonging to 2 classes.\n",
            "Train data: \n",
            "data batch shape: (32, 299, 299, 3)\n",
            "labels batch shape: (32,)\n",
            "\n",
            "\n",
            "Validation data: \n",
            "data batch shape: (32, 299, 299, 3)\n",
            "labels batch shape: (32,)\n",
            "Found 5070 images belonging to 2 classes.\n"
          ],
          "name": "stdout"
        }
      ]
    },
    {
      "cell_type": "code",
      "metadata": {
        "id": "-6gth5zi5Xyc"
      },
      "source": [
        "def combine_generator(gen1, gen2):\n",
        "    while True:\n",
        "        yield(next(gen1), next(gen2))"
      ],
      "execution_count": 66,
      "outputs": []
    },
    {
      "cell_type": "code",
      "metadata": {
        "id": "Hyd63xzW5Zcz"
      },
      "source": [
        "multi_train_generator = combine_generator(level3_train_generator, level4_train_generator)\n",
        "multi_val_generator = combine_generator(level3_validation_generator, level4_validation_generator)\n",
        "multi_test_generator = combine_generator(level3_test_generator, level4_test_generator)"
      ],
      "execution_count": 67,
      "outputs": []
    },
    {
      "cell_type": "code",
      "metadata": {
        "colab": {
          "base_uri": "https://localhost:8080/"
        },
        "id": "lq0zsIG-JTYE",
        "outputId": "71b8925f-7453-4af7-b8f2-bfc9817dc5ea"
      },
      "source": [
        "IMG_SIZE = 299\n",
        "vgg_base_1 = tf.keras.applications.VGG16(\n",
        "            include_top = False,\n",
        "            weights = 'imagenet',\n",
        "            input_shape = (IMG_SIZE, IMG_SIZE, 3),\n",
        "            pooling = None,\n",
        "            classes = 2,\n",
        "            classifier_activation = 'softmax',\n",
        "        )\n",
        "vgg_base_2 = tf.keras.applications.VGG16(\n",
        "            include_top = False,\n",
        "            weights = 'imagenet',\n",
        "            input_shape = (IMG_SIZE, IMG_SIZE, 3),\n",
        "            pooling = None,\n",
        "            classes = 2,\n",
        "            classifier_activation = 'softmax',\n",
        "        )\n",
        "vgg_base_1.trainable = False\n",
        "vgg_base_2.trainable = False\n",
        "\n",
        "\n",
        "high_res_level_input = tf.keras.layers.Input(shape=(IMG_SIZE, IMG_SIZE, 3))\n",
        "low_res_level_input = tf.keras.layers.Input(shape=(IMG_SIZE, IMG_SIZE, 3))\n",
        "\n",
        "# high resolution level\n",
        "high_res_vgg = tf.keras.Sequential([\n",
        "    vgg_base_1,\n",
        "    tf.keras.layers.GlobalAveragePooling2D(),\n",
        "    tf.keras.layers.Dense(128, activation='relu')\n",
        "])\n",
        "high_res_vgg_output = high_res_vgg(high_res_level_input)\n",
        "\n",
        "# low resolution level\n",
        "low_res_vgg = tf.keras.Sequential([\n",
        "    vgg_base_2,\n",
        "    tf.keras.layers.GlobalAveragePooling2D(),\n",
        "    tf.keras.layers.Dense(128, activation='relu')\n",
        "])\n",
        "low_res_vgg_output = low_res_vgg(low_res_level_input)\n",
        "\n",
        "# concatenate two output layers as input\n",
        "concatenated_input = tf.keras.layers.concatenate([high_res_vgg_output, low_res_vgg_output])\n",
        "flattened = tf.keras.layers.Flatten()(concatenated_input)\n",
        "\n",
        "output = tf.keras.layers.Dense(128, activation=\"relu\")(flattened)\n",
        "output = tf.keras.layers.Dropout(0.4)(output)\n",
        "output = tf.keras.layers.Dense(2, activation=\"softmax\")(output)\n",
        "\n",
        "vgg_multi_resolution_model = tf.keras.Model(inputs=[high_res_level_input, low_res_level_input], outputs=output)\n",
        "vgg_multi_resolution_model.summary()\n",
        "\n",
        "vgg_multi_resolution_model.compile(optimizer = tf.keras.optimizers.Adam(learning_rate=0.001),\n",
        "                                   loss = 'sparse_categorical_crossentropy',\n",
        "                                   metrics = ['accuracy'])"
      ],
      "execution_count": 96,
      "outputs": [
        {
          "output_type": "stream",
          "text": [
            "Model: \"model_16\"\n",
            "__________________________________________________________________________________________________\n",
            "Layer (type)                    Output Shape         Param #     Connected to                     \n",
            "==================================================================================================\n",
            "input_70 (InputLayer)           [(None, 299, 299, 3) 0                                            \n",
            "__________________________________________________________________________________________________\n",
            "input_71 (InputLayer)           [(None, 299, 299, 3) 0                                            \n",
            "__________________________________________________________________________________________________\n",
            "sequential_9 (Sequential)       (None, 128)          14780352    input_70[0][0]                   \n",
            "__________________________________________________________________________________________________\n",
            "sequential_10 (Sequential)      (None, 128)          14780352    input_71[0][0]                   \n",
            "__________________________________________________________________________________________________\n",
            "concatenate_14 (Concatenate)    (None, 256)          0           sequential_9[0][0]               \n",
            "                                                                 sequential_10[0][0]              \n",
            "__________________________________________________________________________________________________\n",
            "flatten_11 (Flatten)            (None, 256)          0           concatenate_14[0][0]             \n",
            "__________________________________________________________________________________________________\n",
            "dense_58 (Dense)                (None, 128)          32896       flatten_11[0][0]                 \n",
            "__________________________________________________________________________________________________\n",
            "dropout_18 (Dropout)            (None, 128)          0           dense_58[0][0]                   \n",
            "__________________________________________________________________________________________________\n",
            "dense_59 (Dense)                (None, 2)            258         dropout_18[0][0]                 \n",
            "==================================================================================================\n",
            "Total params: 29,593,858\n",
            "Trainable params: 164,482\n",
            "Non-trainable params: 29,429,376\n",
            "__________________________________________________________________________________________________\n"
          ],
          "name": "stdout"
        }
      ]
    },
    {
      "cell_type": "code",
      "metadata": {
        "colab": {
          "base_uri": "https://localhost:8080/",
          "height": 661
        },
        "id": "M79F_sjN3yLs",
        "outputId": "04b7bb15-df49-4c56-ca9f-cf3350eb8c96"
      },
      "source": [
        "tf.keras.utils.plot_model(vgg_multi_resolution_model)"
      ],
      "execution_count": 97,
      "outputs": [
        {
          "output_type": "execute_result",
          "data": {
            "image/png": "[encoded data removed]",
            "text/plain": [
              "<IPython.core.display.Image object>"
            ]
          },
          "metadata": {
            "tags": []
          },
          "execution_count": 97
        }
      ]
    },
    {
      "cell_type": "code",
      "metadata": {
        "id": "fTqS1QJY2rjg"
      },
      "source": [
        "if not os.path.exists('/content/checkpoint/VGG'):\n",
        "  os.mkdir('/content/checkpoint/VGG')\n",
        "multi_vgg_checkpoint_path = '/content/checkpoint/VGG/multi_level_weights-improvement-{epoch:02d}-{val_accuracy:.2f}-{val_loss:.2f}.hdf5'\n",
        "vgg_checkpoint_callback = tf.keras.callbacks.ModelCheckpoint(multi_vgg_checkpoint_path, \n",
        "                                                                    monitor='val_loss', \n",
        "                                                                    save_best_only=True, \n",
        "                                                                    mode='auto')\n",
        "\n",
        "vgg_early_stop_callback = tf.keras.callbacks.EarlyStopping(\n",
        "                              monitor='val_loss', min_delta=0, patience=10)"
      ],
      "execution_count": 84,
      "outputs": []
    },
    {
      "cell_type": "code",
      "metadata": {
        "colab": {
          "base_uri": "https://localhost:8080/",
          "height": 702
        },
        "id": "DDvtfz633YMd",
        "outputId": "624b4de9-5e9d-48f9-e659-9396ff586ed1"
      },
      "source": [
        "epochs = 10\n",
        "multi_level_vgg_history = vgg_multi_resolution_model.fit(multi_train_generator, \n",
        "                                                          epochs=epochs, \n",
        "                                                          validation_data=multi_val_generator,\n",
        "                                                          callbacks=[vgg_checkpoint_callback, \n",
        "                                                                    vgg_early_stop_callback])"
      ],
      "execution_count": 93,
      "outputs": [
        {
          "output_type": "stream",
          "text": [
            "Epoch 1/10\n"
          ],
          "name": "stdout"
        },
        {
          "output_type": "error",
          "ename": "ValueError",
          "evalue": "ignored",
          "traceback": [
            "\u001b[0;31m---------------------------------------------------------------------------\u001b[0m",
            "\u001b[0;31mValueError\u001b[0m                                Traceback (most recent call last)",
            "\u001b[0;32m<ipython-input-93-53fb1b96f1b0>\u001b[0m in \u001b[0;36m<module>\u001b[0;34m()\u001b[0m\n\u001b[1;32m      4\u001b[0m                                                           \u001b[0mvalidation_data\u001b[0m\u001b[0;34m=\u001b[0m\u001b[0mmulti_val_generator\u001b[0m\u001b[0;34m,\u001b[0m\u001b[0;34m\u001b[0m\u001b[0;34m\u001b[0m\u001b[0m\n\u001b[1;32m      5\u001b[0m                                                           callbacks=[vgg_checkpoint_callback, \n\u001b[0;32m----> 6\u001b[0;31m                                                                     vgg_early_stop_callback])\n\u001b[0m",
            "\u001b[0;32m/usr/local/lib/python3.6/dist-packages/tensorflow/python/keras/engine/training.py\u001b[0m in \u001b[0;36mfit\u001b[0;34m(self, x, y, batch_size, epochs, verbose, callbacks, validation_split, validation_data, shuffle, class_weight, sample_weight, initial_epoch, steps_per_epoch, validation_steps, validation_batch_size, validation_freq, max_queue_size, workers, use_multiprocessing)\u001b[0m\n\u001b[1;32m   1098\u001b[0m                 _r=1):\n\u001b[1;32m   1099\u001b[0m               \u001b[0mcallbacks\u001b[0m\u001b[0;34m.\u001b[0m\u001b[0mon_train_batch_begin\u001b[0m\u001b[0;34m(\u001b[0m\u001b[0mstep\u001b[0m\u001b[0;34m)\u001b[0m\u001b[0;34m\u001b[0m\u001b[0;34m\u001b[0m\u001b[0m\n\u001b[0;32m-> 1100\u001b[0;31m               \u001b[0mtmp_logs\u001b[0m \u001b[0;34m=\u001b[0m \u001b[0mself\u001b[0m\u001b[0;34m.\u001b[0m\u001b[0mtrain_function\u001b[0m\u001b[0;34m(\u001b[0m\u001b[0miterator\u001b[0m\u001b[0;34m)\u001b[0m\u001b[0;34m\u001b[0m\u001b[0;34m\u001b[0m\u001b[0m\n\u001b[0m\u001b[1;32m   1101\u001b[0m               \u001b[0;32mif\u001b[0m \u001b[0mdata_handler\u001b[0m\u001b[0;34m.\u001b[0m\u001b[0mshould_sync\u001b[0m\u001b[0;34m:\u001b[0m\u001b[0;34m\u001b[0m\u001b[0;34m\u001b[0m\u001b[0m\n\u001b[1;32m   1102\u001b[0m                 \u001b[0mcontext\u001b[0m\u001b[0;34m.\u001b[0m\u001b[0masync_wait\u001b[0m\u001b[0;34m(\u001b[0m\u001b[0;34m)\u001b[0m\u001b[0;34m\u001b[0m\u001b[0;34m\u001b[0m\u001b[0m\n",
            "\u001b[0;32m/usr/local/lib/python3.6/dist-packages/tensorflow/python/eager/def_function.py\u001b[0m in \u001b[0;36m__call__\u001b[0;34m(self, *args, **kwds)\u001b[0m\n\u001b[1;32m    826\u001b[0m     \u001b[0mtracing_count\u001b[0m \u001b[0;34m=\u001b[0m \u001b[0mself\u001b[0m\u001b[0;34m.\u001b[0m\u001b[0mexperimental_get_tracing_count\u001b[0m\u001b[0;34m(\u001b[0m\u001b[0;34m)\u001b[0m\u001b[0;34m\u001b[0m\u001b[0;34m\u001b[0m\u001b[0m\n\u001b[1;32m    827\u001b[0m     \u001b[0;32mwith\u001b[0m \u001b[0mtrace\u001b[0m\u001b[0;34m.\u001b[0m\u001b[0mTrace\u001b[0m\u001b[0;34m(\u001b[0m\u001b[0mself\u001b[0m\u001b[0;34m.\u001b[0m\u001b[0m_name\u001b[0m\u001b[0;34m)\u001b[0m \u001b[0;32mas\u001b[0m \u001b[0mtm\u001b[0m\u001b[0;34m:\u001b[0m\u001b[0;34m\u001b[0m\u001b[0;34m\u001b[0m\u001b[0m\n\u001b[0;32m--> 828\u001b[0;31m       \u001b[0mresult\u001b[0m \u001b[0;34m=\u001b[0m \u001b[0mself\u001b[0m\u001b[0;34m.\u001b[0m\u001b[0m_call\u001b[0m\u001b[0;34m(\u001b[0m\u001b[0;34m*\u001b[0m\u001b[0margs\u001b[0m\u001b[0;34m,\u001b[0m \u001b[0;34m**\u001b[0m\u001b[0mkwds\u001b[0m\u001b[0;34m)\u001b[0m\u001b[0;34m\u001b[0m\u001b[0;34m\u001b[0m\u001b[0m\n\u001b[0m\u001b[1;32m    829\u001b[0m       \u001b[0mcompiler\u001b[0m \u001b[0;34m=\u001b[0m \u001b[0;34m\"xla\"\u001b[0m \u001b[0;32mif\u001b[0m \u001b[0mself\u001b[0m\u001b[0;34m.\u001b[0m\u001b[0m_experimental_compile\u001b[0m \u001b[0;32melse\u001b[0m \u001b[0;34m\"nonXla\"\u001b[0m\u001b[0;34m\u001b[0m\u001b[0;34m\u001b[0m\u001b[0m\n\u001b[1;32m    830\u001b[0m       \u001b[0mnew_tracing_count\u001b[0m \u001b[0;34m=\u001b[0m \u001b[0mself\u001b[0m\u001b[0;34m.\u001b[0m\u001b[0mexperimental_get_tracing_count\u001b[0m\u001b[0;34m(\u001b[0m\u001b[0;34m)\u001b[0m\u001b[0;34m\u001b[0m\u001b[0;34m\u001b[0m\u001b[0m\n",
            "\u001b[0;32m/usr/local/lib/python3.6/dist-packages/tensorflow/python/eager/def_function.py\u001b[0m in \u001b[0;36m_call\u001b[0;34m(self, *args, **kwds)\u001b[0m\n\u001b[1;32m    860\u001b[0m       \u001b[0;31m# In this case we have not created variables on the first call. So we can\u001b[0m\u001b[0;34m\u001b[0m\u001b[0;34m\u001b[0m\u001b[0;34m\u001b[0m\u001b[0m\n\u001b[1;32m    861\u001b[0m       \u001b[0;31m# run the first trace but we should fail if variables are created.\u001b[0m\u001b[0;34m\u001b[0m\u001b[0;34m\u001b[0m\u001b[0;34m\u001b[0m\u001b[0m\n\u001b[0;32m--> 862\u001b[0;31m       \u001b[0mresults\u001b[0m \u001b[0;34m=\u001b[0m \u001b[0mself\u001b[0m\u001b[0;34m.\u001b[0m\u001b[0m_stateful_fn\u001b[0m\u001b[0;34m(\u001b[0m\u001b[0;34m*\u001b[0m\u001b[0margs\u001b[0m\u001b[0;34m,\u001b[0m \u001b[0;34m**\u001b[0m\u001b[0mkwds\u001b[0m\u001b[0;34m)\u001b[0m\u001b[0;34m\u001b[0m\u001b[0;34m\u001b[0m\u001b[0m\n\u001b[0m\u001b[1;32m    863\u001b[0m       \u001b[0;32mif\u001b[0m \u001b[0mself\u001b[0m\u001b[0;34m.\u001b[0m\u001b[0m_created_variables\u001b[0m\u001b[0;34m:\u001b[0m\u001b[0;34m\u001b[0m\u001b[0;34m\u001b[0m\u001b[0m\n\u001b[1;32m    864\u001b[0m         raise ValueError(\"Creating variables on a non-first call to a function\"\n",
            "\u001b[0;32m/usr/local/lib/python3.6/dist-packages/tensorflow/python/eager/function.py\u001b[0m in \u001b[0;36m__call__\u001b[0;34m(self, *args, **kwargs)\u001b[0m\n\u001b[1;32m   2939\u001b[0m     \u001b[0;32mwith\u001b[0m \u001b[0mself\u001b[0m\u001b[0;34m.\u001b[0m\u001b[0m_lock\u001b[0m\u001b[0;34m:\u001b[0m\u001b[0;34m\u001b[0m\u001b[0;34m\u001b[0m\u001b[0m\n\u001b[1;32m   2940\u001b[0m       (graph_function,\n\u001b[0;32m-> 2941\u001b[0;31m        filtered_flat_args) = self._maybe_define_function(args, kwargs)\n\u001b[0m\u001b[1;32m   2942\u001b[0m     return graph_function._call_flat(\n\u001b[1;32m   2943\u001b[0m         filtered_flat_args, captured_inputs=graph_function.captured_inputs)  # pylint: disable=protected-access\n",
            "\u001b[0;32m/usr/local/lib/python3.6/dist-packages/tensorflow/python/eager/function.py\u001b[0m in \u001b[0;36m_maybe_define_function\u001b[0;34m(self, args, kwargs)\u001b[0m\n\u001b[1;32m   3356\u001b[0m               call_context_key in self._function_cache.missed):\n\u001b[1;32m   3357\u001b[0m             return self._define_function_with_shape_relaxation(\n\u001b[0;32m-> 3358\u001b[0;31m                 args, kwargs, flat_args, filtered_flat_args, cache_key_context)\n\u001b[0m\u001b[1;32m   3359\u001b[0m \u001b[0;34m\u001b[0m\u001b[0m\n\u001b[1;32m   3360\u001b[0m           \u001b[0mself\u001b[0m\u001b[0;34m.\u001b[0m\u001b[0m_function_cache\u001b[0m\u001b[0;34m.\u001b[0m\u001b[0mmissed\u001b[0m\u001b[0;34m.\u001b[0m\u001b[0madd\u001b[0m\u001b[0;34m(\u001b[0m\u001b[0mcall_context_key\u001b[0m\u001b[0;34m)\u001b[0m\u001b[0;34m\u001b[0m\u001b[0;34m\u001b[0m\u001b[0m\n",
            "\u001b[0;32m/usr/local/lib/python3.6/dist-packages/tensorflow/python/eager/function.py\u001b[0m in \u001b[0;36m_define_function_with_shape_relaxation\u001b[0;34m(self, args, kwargs, flat_args, filtered_flat_args, cache_key_context)\u001b[0m\n\u001b[1;32m   3278\u001b[0m \u001b[0;34m\u001b[0m\u001b[0m\n\u001b[1;32m   3279\u001b[0m     graph_function = self._create_graph_function(\n\u001b[0;32m-> 3280\u001b[0;31m         args, kwargs, override_flat_arg_shapes=relaxed_arg_shapes)\n\u001b[0m\u001b[1;32m   3281\u001b[0m     \u001b[0mself\u001b[0m\u001b[0;34m.\u001b[0m\u001b[0m_function_cache\u001b[0m\u001b[0;34m.\u001b[0m\u001b[0marg_relaxed\u001b[0m\u001b[0;34m[\u001b[0m\u001b[0mrank_only_cache_key\u001b[0m\u001b[0;34m]\u001b[0m \u001b[0;34m=\u001b[0m \u001b[0mgraph_function\u001b[0m\u001b[0;34m\u001b[0m\u001b[0;34m\u001b[0m\u001b[0m\n\u001b[1;32m   3282\u001b[0m \u001b[0;34m\u001b[0m\u001b[0m\n",
            "\u001b[0;32m/usr/local/lib/python3.6/dist-packages/tensorflow/python/eager/function.py\u001b[0m in \u001b[0;36m_create_graph_function\u001b[0;34m(self, args, kwargs, override_flat_arg_shapes)\u001b[0m\n\u001b[1;32m   3204\u001b[0m             \u001b[0marg_names\u001b[0m\u001b[0;34m=\u001b[0m\u001b[0marg_names\u001b[0m\u001b[0;34m,\u001b[0m\u001b[0;34m\u001b[0m\u001b[0;34m\u001b[0m\u001b[0m\n\u001b[1;32m   3205\u001b[0m             \u001b[0moverride_flat_arg_shapes\u001b[0m\u001b[0;34m=\u001b[0m\u001b[0moverride_flat_arg_shapes\u001b[0m\u001b[0;34m,\u001b[0m\u001b[0;34m\u001b[0m\u001b[0;34m\u001b[0m\u001b[0m\n\u001b[0;32m-> 3206\u001b[0;31m             capture_by_value=self._capture_by_value),\n\u001b[0m\u001b[1;32m   3207\u001b[0m         \u001b[0mself\u001b[0m\u001b[0;34m.\u001b[0m\u001b[0m_function_attributes\u001b[0m\u001b[0;34m,\u001b[0m\u001b[0;34m\u001b[0m\u001b[0;34m\u001b[0m\u001b[0m\n\u001b[1;32m   3208\u001b[0m         \u001b[0mfunction_spec\u001b[0m\u001b[0;34m=\u001b[0m\u001b[0mself\u001b[0m\u001b[0;34m.\u001b[0m\u001b[0mfunction_spec\u001b[0m\u001b[0;34m,\u001b[0m\u001b[0;34m\u001b[0m\u001b[0;34m\u001b[0m\u001b[0m\n",
            "\u001b[0;32m/usr/local/lib/python3.6/dist-packages/tensorflow/python/framework/func_graph.py\u001b[0m in \u001b[0;36mfunc_graph_from_py_func\u001b[0;34m(name, python_func, args, kwargs, signature, func_graph, autograph, autograph_options, add_control_dependencies, arg_names, op_return_value, collections, capture_by_value, override_flat_arg_shapes)\u001b[0m\n\u001b[1;32m    988\u001b[0m         \u001b[0m_\u001b[0m\u001b[0;34m,\u001b[0m \u001b[0moriginal_func\u001b[0m \u001b[0;34m=\u001b[0m \u001b[0mtf_decorator\u001b[0m\u001b[0;34m.\u001b[0m\u001b[0munwrap\u001b[0m\u001b[0;34m(\u001b[0m\u001b[0mpython_func\u001b[0m\u001b[0;34m)\u001b[0m\u001b[0;34m\u001b[0m\u001b[0;34m\u001b[0m\u001b[0m\n\u001b[1;32m    989\u001b[0m \u001b[0;34m\u001b[0m\u001b[0m\n\u001b[0;32m--> 990\u001b[0;31m       \u001b[0mfunc_outputs\u001b[0m \u001b[0;34m=\u001b[0m \u001b[0mpython_func\u001b[0m\u001b[0;34m(\u001b[0m\u001b[0;34m*\u001b[0m\u001b[0mfunc_args\u001b[0m\u001b[0;34m,\u001b[0m \u001b[0;34m**\u001b[0m\u001b[0mfunc_kwargs\u001b[0m\u001b[0;34m)\u001b[0m\u001b[0;34m\u001b[0m\u001b[0;34m\u001b[0m\u001b[0m\n\u001b[0m\u001b[1;32m    991\u001b[0m \u001b[0;34m\u001b[0m\u001b[0m\n\u001b[1;32m    992\u001b[0m       \u001b[0;31m# invariant: `func_outputs` contains only Tensors, CompositeTensors,\u001b[0m\u001b[0;34m\u001b[0m\u001b[0;34m\u001b[0m\u001b[0;34m\u001b[0m\u001b[0m\n",
            "\u001b[0;32m/usr/local/lib/python3.6/dist-packages/tensorflow/python/eager/def_function.py\u001b[0m in \u001b[0;36mwrapped_fn\u001b[0;34m(*args, **kwds)\u001b[0m\n\u001b[1;32m    632\u001b[0m             \u001b[0mxla_context\u001b[0m\u001b[0;34m.\u001b[0m\u001b[0mExit\u001b[0m\u001b[0;34m(\u001b[0m\u001b[0;34m)\u001b[0m\u001b[0;34m\u001b[0m\u001b[0;34m\u001b[0m\u001b[0m\n\u001b[1;32m    633\u001b[0m         \u001b[0;32melse\u001b[0m\u001b[0;34m:\u001b[0m\u001b[0;34m\u001b[0m\u001b[0;34m\u001b[0m\u001b[0m\n\u001b[0;32m--> 634\u001b[0;31m           \u001b[0mout\u001b[0m \u001b[0;34m=\u001b[0m \u001b[0mweak_wrapped_fn\u001b[0m\u001b[0;34m(\u001b[0m\u001b[0;34m)\u001b[0m\u001b[0;34m.\u001b[0m\u001b[0m__wrapped__\u001b[0m\u001b[0;34m(\u001b[0m\u001b[0;34m*\u001b[0m\u001b[0margs\u001b[0m\u001b[0;34m,\u001b[0m \u001b[0;34m**\u001b[0m\u001b[0mkwds\u001b[0m\u001b[0;34m)\u001b[0m\u001b[0;34m\u001b[0m\u001b[0;34m\u001b[0m\u001b[0m\n\u001b[0m\u001b[1;32m    635\u001b[0m         \u001b[0;32mreturn\u001b[0m \u001b[0mout\u001b[0m\u001b[0;34m\u001b[0m\u001b[0;34m\u001b[0m\u001b[0m\n\u001b[1;32m    636\u001b[0m \u001b[0;34m\u001b[0m\u001b[0m\n",
            "\u001b[0;32m/usr/local/lib/python3.6/dist-packages/tensorflow/python/framework/func_graph.py\u001b[0m in \u001b[0;36mwrapper\u001b[0;34m(*args, **kwargs)\u001b[0m\n\u001b[1;32m    975\u001b[0m           \u001b[0;32mexcept\u001b[0m \u001b[0mException\u001b[0m \u001b[0;32mas\u001b[0m \u001b[0me\u001b[0m\u001b[0;34m:\u001b[0m  \u001b[0;31m# pylint:disable=broad-except\u001b[0m\u001b[0;34m\u001b[0m\u001b[0;34m\u001b[0m\u001b[0m\n\u001b[1;32m    976\u001b[0m             \u001b[0;32mif\u001b[0m \u001b[0mhasattr\u001b[0m\u001b[0;34m(\u001b[0m\u001b[0me\u001b[0m\u001b[0;34m,\u001b[0m \u001b[0;34m\"ag_error_metadata\"\u001b[0m\u001b[0;34m)\u001b[0m\u001b[0;34m:\u001b[0m\u001b[0;34m\u001b[0m\u001b[0;34m\u001b[0m\u001b[0m\n\u001b[0;32m--> 977\u001b[0;31m               \u001b[0;32mraise\u001b[0m \u001b[0me\u001b[0m\u001b[0;34m.\u001b[0m\u001b[0mag_error_metadata\u001b[0m\u001b[0;34m.\u001b[0m\u001b[0mto_exception\u001b[0m\u001b[0;34m(\u001b[0m\u001b[0me\u001b[0m\u001b[0;34m)\u001b[0m\u001b[0;34m\u001b[0m\u001b[0;34m\u001b[0m\u001b[0m\n\u001b[0m\u001b[1;32m    978\u001b[0m             \u001b[0;32melse\u001b[0m\u001b[0;34m:\u001b[0m\u001b[0;34m\u001b[0m\u001b[0;34m\u001b[0m\u001b[0m\n\u001b[1;32m    979\u001b[0m               \u001b[0;32mraise\u001b[0m\u001b[0;34m\u001b[0m\u001b[0;34m\u001b[0m\u001b[0m\n",
            "\u001b[0;31mValueError\u001b[0m: in user code:\n\n    /usr/local/lib/python3.6/dist-packages/tensorflow/python/keras/engine/training.py:805 train_function  *\n        return step_function(self, iterator)\n    /usr/local/lib/python3.6/dist-packages/tensorflow/python/keras/engine/training.py:795 step_function  **\n        outputs = model.distribute_strategy.run(run_step, args=(data,))\n    /usr/local/lib/python3.6/dist-packages/tensorflow/python/distribute/distribute_lib.py:1259 run\n        return self._extended.call_for_each_replica(fn, args=args, kwargs=kwargs)\n    /usr/local/lib/python3.6/dist-packages/tensorflow/python/distribute/distribute_lib.py:2730 call_for_each_replica\n        return self._call_for_each_replica(fn, args, kwargs)\n    /usr/local/lib/python3.6/dist-packages/tensorflow/python/distribute/distribute_lib.py:3417 _call_for_each_replica\n        return fn(*args, **kwargs)\n    /usr/local/lib/python3.6/dist-packages/tensorflow/python/keras/engine/training.py:788 run_step  **\n        outputs = model.train_step(data)\n    /usr/local/lib/python3.6/dist-packages/tensorflow/python/keras/engine/training.py:754 train_step\n        y_pred = self(x, training=True)\n    /usr/local/lib/python3.6/dist-packages/tensorflow/python/keras/engine/base_layer.py:998 __call__\n        input_spec.assert_input_compatibility(self.input_spec, inputs, self.name)\n    /usr/local/lib/python3.6/dist-packages/tensorflow/python/keras/engine/input_spec.py:207 assert_input_compatibility\n        ' input tensors. Inputs received: ' + str(inputs))\n\n    ValueError: Layer model_14 expects 1 input(s), but it received 2 input tensors. Inputs received: [<tf.Tensor 'IteratorGetNext:0' shape=(None, None, None, None) dtype=float32>, <tf.Tensor 'ExpandDims:0' shape=(None, 1) dtype=float32>]\n"
          ]
        }
      ]
    },
    {
      "cell_type": "markdown",
      "metadata": {
        "id": "1fFUYpcfco_x"
      },
      "source": [
        "# Reconstruct from Predicted Tumor Patches"
      ]
    },
    {
      "cell_type": "code",
      "metadata": {
        "id": "aya3LpJxdCLn"
      },
      "source": [
        "def read_slide(slide, x, y, level, width, height, as_float=False):\n",
        "    im = slide.read_region((x,y), level, (width, height))\n",
        "    im = im.convert('RGB') # drop the alpha channel\n",
        "    if as_float:\n",
        "        im = np.asarray(im, dtype=np.float32)\n",
        "    else:\n",
        "        im = np.asarray(im)\n",
        "    assert im.shape == (height, width, 3)\n",
        "    return im"
      ],
      "execution_count": null,
      "outputs": []
    },
    {
      "cell_type": "code",
      "metadata": {
        "id": "9nDT9-KEc3v1"
      },
      "source": [
        "data_path = '/content/drive/MyDrive/Applied Deep Learning/project/data/'"
      ],
      "execution_count": null,
      "outputs": []
    },
    {
      "cell_type": "code",
      "metadata": {
        "id": "qpDQP3DPcxUn"
      },
      "source": [
        "train_df = pd.read_csv('/content/level4_train_data.txt', header=None)\n",
        "train_df.columns = ['Image Paths', 'Mask Paths', 'Xoffset', 'Yoffset', 'Labels', 'Level','Slide Code']\n",
        "\n",
        "test_df = pd.read_csv('/content/level4_test_data.txt', header=None)\n",
        "test_df.columns = ['Image Paths', 'Mask Paths', 'Xoffset', 'Yoffset', 'Labels', 'Level','Slide Code']"
      ],
      "execution_count": null,
      "outputs": []
    },
    {
      "cell_type": "code",
      "metadata": {
        "id": "R-cQjA4Dcz_w"
      },
      "source": [
        "slide_code = '016'\n",
        "slide_name = f'slide{slide_code}'\n",
        "slide_df = test_df.iloc[list(map(lambda x: slide_name in x, test_df['Image Paths'])),:]\n",
        "slide_df['test_image'] = slide_df['Image Paths'].map(lambda x:'/'.join(x.split('/')[-2:]))\n",
        "\n",
        "slide_test_info = [(i, path) for i, path in enumerate(test_path_list) if slide_name in path]\n",
        "slide_test_path = [path for i, path in slide_test_info]\n",
        "slide_test_idx = [i for i, path in slide_test_info]\n",
        "slide_test_tumor_prob = [tumor_prob[i] for i in slide_test_idx]\n",
        "slide_test_result_df = pd.DataFrame({'path': slide_test_path, 'prob': slide_test_tumor_prob})\n",
        "merge_df = pd.merge(slide_df, slide_test_result_df, how='left', left_on='test_image', right_on = 'path')"
      ],
      "execution_count": null,
      "outputs": []
    },
    {
      "cell_type": "code",
      "metadata": {
        "id": "H3k3RpIzc8bC"
      },
      "source": [
        "slide_path = data_path + 'tumor_%s.tif' %slide_code\n",
        "tumor_mask_path = data_path + 'tumor_%s_mask.tif' %slide_code\n",
        "slide = open_slide(slide_path)\n",
        "tumor_mask = open_slide(tumor_mask_path)"
      ],
      "execution_count": null,
      "outputs": []
    },
    {
      "cell_type": "code",
      "metadata": {
        "id": "MaINF5KxdFUX"
      },
      "source": [
        "img_pred = Image.new('RGB', slide.level_dimensions[5])\n",
        "img_true = Image.new('RGB', slide.level_dimensions[5])\n",
        "\n",
        "patches_paths = [test_image_dir +'/' + path for path in merge_df['path'].to_list()]\n",
        "mask_paths = [path.replace('level4/','') for path in merge_df['Mask Paths'].to_list()]\n",
        "offsets = zip(merge_df.Xoffset.to_list(), merge_df.Yoffset.to_list())\n",
        "labels = merge_df.Labels.to_list()\n",
        "probs = merge_df.prob.to_list()\n",
        "\n",
        "for patch_path, mask_path, offset, label, prob in zip(patches_paths, mask_paths, offsets, labels, probs):\n",
        "    if prob > 0.5:\n",
        "      patch = Image.open(patch_path)\n",
        "      patch = Image.blend(patch.convert(\"RGBA\"), Image.new(\"RGBA\", (299, 299)), 0.5)\n",
        "      mask = Image.open(mask_path)\n",
        "      mask = Image.blend(patch.convert(\"RGBA\"),Image.new(\"RGBA\", (299, 299), (0, 0, 0, 0)), 0.5)\n",
        "      img_pred.paste(patch, box=offset)\n",
        "      img_pred.paste(mask, box=offset)\n",
        "    # if label > 0:\n",
        "    #   patch = Image.open(patch_path)\n",
        "    #   patch = Image.blend(patch.convert(\"RGBA\"), Image.new(\"RGBA\", (299, 299)), 0.5)\n",
        "    #   mask = Image.open(mask_path)\n",
        "    #   mask = Image.blend(patch.convert(\"RGBA\"),Image.new(\"RGBA\", (299, 299), (192, 192, 192, 3)), 0.5)\n",
        "    #   img_true.paste(patch, box=offset)\n",
        "    #   img_true.paste(mask, box=offset)\n",
        "    else:\n",
        "      patch = Image.open(patch_path)\n",
        "      patch = Image.blend(patch.convert(\"RGBA\"), Image.new(\"RGBA\", (299, 299)), 0.5)\n",
        "      img_true.paste(patch, box=offset)"
      ],
      "execution_count": null,
      "outputs": []
    },
    {
      "cell_type": "code",
      "metadata": {
        "id": "a4LY3hc-dH6f"
      },
      "source": [
        "img_true.resize(map(lambda x: int(x / 8), img.size))"
      ],
      "execution_count": null,
      "outputs": []
    },
    {
      "cell_type": "code",
      "metadata": {
        "id": "Q5traLcUdHaz"
      },
      "source": [
        "img_pred.resize(map(lambda x: int(x / 8), img.size))"
      ],
      "execution_count": null,
      "outputs": []
    }
  ]
}