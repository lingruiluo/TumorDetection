{
  "nbformat": 4,
  "nbformat_minor": 0,
  "metadata": {
    "accelerator": "GPU",
    "colab": {
      "name": "Multi_level_modeling.ipynb",
      "provenance": [],
      "collapsed_sections": [],
      "toc_visible": true
    },
    "kernelspec": {
      "display_name": "Python 3",
      "name": "python3"
    }
  },
  "cells": [
    {
      "cell_type": "code",
      "metadata": {
        "colab": {
          "base_uri": "https://localhost:8080/"
        },
        "id": "aSVyBuq7LPct",
        "outputId": "3b82ccb1-fac2-4405-deb8-dc2933eed98b"
      },
      "source": [
        "# Install the OpenSlide C library and Python bindings\n",
        "# After installing these libraries, use `Runtime -> restart and run all` on the menu\n",
        "!apt-get install openslide-tools\n",
        "!pip install openslide-python"
      ],
      "execution_count": 22,
      "outputs": [
        {
          "output_type": "stream",
          "text": [
            "Reading package lists... Done\n",
            "Building dependency tree       \n",
            "Reading state information... Done\n",
            "openslide-tools is already the newest version (3.4.1+dfsg-2).\n",
            "0 upgraded, 0 newly installed, 0 to remove and 15 not upgraded.\n",
            "Requirement already satisfied: openslide-python in /usr/local/lib/python3.6/dist-packages (1.1.2)\n",
            "Requirement already satisfied: Pillow in /usr/local/lib/python3.6/dist-packages (from openslide-python) (7.0.0)\n"
          ],
          "name": "stdout"
        }
      ]
    },
    {
      "cell_type": "code",
      "metadata": {
        "id": "bv1xdoXELUGQ"
      },
      "source": [
        "%matplotlib inline\n",
        "import matplotlib.pyplot as plt\n",
        "import numpy as np\n",
        "from openslide import open_slide, __library_version__ as openslide_version\n",
        "import os\n",
        "from PIL import Image\n",
        "from skimage.color import rgb2gray\n",
        "import random\n",
        "import pandas as pd\n",
        "import tensorflow as tf\n",
        "from sklearn.metrics import classification_report"
      ],
      "execution_count": 23,
      "outputs": []
    },
    {
      "cell_type": "code",
      "metadata": {
        "colab": {
          "base_uri": "https://localhost:8080/"
        },
        "id": "i7zudBw3LWzp",
        "outputId": "5daefdec-6190-4213-bcb0-2e263aba4e14"
      },
      "source": [
        "from google.colab import drive\n",
        "drive.mount('/content/drive')"
      ],
      "execution_count": 24,
      "outputs": [
        {
          "output_type": "stream",
          "text": [
            "Drive already mounted at /content/drive; to attempt to forcibly remount, call drive.mount(\"/content/drive\", force_remount=True).\n"
          ],
          "name": "stdout"
        }
      ]
    },
    {
      "cell_type": "code",
      "metadata": {
        "id": "CzNeu2tRLY2U"
      },
      "source": [
        "def make_dir(base_path, level):\n",
        "    level_dir = f'{base_path}{level}level'\n",
        "    if not os.path.exists(level_dir):\n",
        "        os.mkdir(level_dir)\n",
        "    train_image_dir = os.path.join(level_dir,'train_image/')\n",
        "    train_mask_dir = os.path.join(level_dir,'train_mask/')\n",
        "\n",
        "    val_image_dir = os.path.join(level_dir,'val_image/')\n",
        "    val_mask_dir = os.path.join(level_dir,'val_mask/')\n",
        "\n",
        "    test_image_dir = os.path.join(level_dir,'test_image/')\n",
        "    test_mask_dir = os.path.join(level_dir,'test_mask/')\n",
        "\n",
        "    if not os.path.exists(train_image_dir):\n",
        "        os.mkdir(train_image_dir)\n",
        "    if not os.path.exists(train_mask_dir):\n",
        "        os.mkdir(train_mask_dir)\n",
        "    if not os.path.exists(val_image_dir):\n",
        "        os.mkdir(val_image_dir)\n",
        "    if not os.path.exists(val_mask_dir):\n",
        "        os.mkdir(val_mask_dir)    \n",
        "    if not os.path.exists(test_image_dir):\n",
        "        os.mkdir(test_image_dir)\n",
        "    if not os.path.exists(test_mask_dir):\n",
        "        os.mkdir(test_mask_dir)\n",
        "    return(train_image_dir, train_mask_dir, val_image_dir, val_mask_dir, test_image_dir, test_mask_dir)"
      ],
      "execution_count": 25,
      "outputs": []
    },
    {
      "cell_type": "code",
      "metadata": {
        "id": "OiQh4L7ALZlI"
      },
      "source": [
        "base_path = '/content/'\n",
        "train_image_dir, train_mask_dir, val_image_dir, val_mask_dir, test_image_dir, test_mask_dir = make_dir(base_path, level = 'multi_')"
      ],
      "execution_count": 26,
      "outputs": []
    },
    {
      "cell_type": "code",
      "metadata": {
        "colab": {
          "base_uri": "https://localhost:8080/",
          "height": 35
        },
        "id": "M5MMROjVae1i",
        "outputId": "c9dd39ac-bdc0-4038-a2be-69e81198fa17"
      },
      "source": [
        "train_image_dir"
      ],
      "execution_count": 27,
      "outputs": [
        {
          "output_type": "execute_result",
          "data": {
            "application/vnd.google.colaboratory.intrinsic+json": {
              "type": "string"
            },
            "text/plain": [
              "'/content/multi_level/train_image/'"
            ]
          },
          "metadata": {
            "tags": []
          },
          "execution_count": 27
        }
      ]
    },
    {
      "cell_type": "code",
      "metadata": {
        "id": "UeSbiAVnaWub",
        "colab": {
          "base_uri": "https://localhost:8080/"
        },
        "outputId": "ac9416dd-dc0c-48e7-e1c2-6a700230a669"
      },
      "source": [
        "!unzip -q '/content/drive/MyDrive/Applied Deep Learning/project/multi_level/train_image.zip' -d /content/multi_level/train_image/\r\n",
        "!unzip -q '/content/drive/MyDrive/Applied Deep Learning/project/multi_level/val_image.zip' -d /content/multi_level/val_image/\r\n",
        "!unzip -q '/content/drive/MyDrive/Applied Deep Learning/project/multi_level/test_image.zip' -d /content/multi_level/test_image/"
      ],
      "execution_count": 28,
      "outputs": [
        {
          "output_type": "stream",
          "text": [
            "replace /content/multi_level/train_image/normal/slide084_train_high_res_image_normal_5523.jpeg? [y]es, [n]o, [A]ll, [N]one, [r]ename: replace /content/multi_level/val_image/normal/slide023_val_low_res_image_normal_305.jpeg? [y]es, [n]o, [A]ll, [N]one, [r]ename: replace /content/multi_level/test_image/normal/slide016_test_high_res_image_normal_39.jpeg? [y]es, [n]o, [A]ll, [N]one, [r]ename: A\n"
          ],
          "name": "stdout"
        }
      ]
    },
    {
      "cell_type": "code",
      "metadata": {
        "id": "QdESyvjOa5GU"
      },
      "source": [
        "!cp '/content/drive/MyDrive/Applied Deep Learning/project/multi_level/multi_level_train_data.txt' /content/\r\n",
        "!cp '/content/drive/MyDrive/Applied Deep Learning/project/multi_level/multi_level_val_data.txt' /content/\r\n",
        "!cp '/content/drive/MyDrive/Applied Deep Learning/project/multi_level/multi_level_test_data.txt' /content/"
      ],
      "execution_count": null,
      "outputs": []
    },
    {
      "cell_type": "code",
      "metadata": {
        "id": "y1iWS-bBbGsp"
      },
      "source": [
        "train_df = pd.read_csv('/content/multi_level_train_data.txt', header = None)\r\n",
        "val_df = pd.read_csv('/content/multi_level_val_data.txt', header = None)\r\n",
        "test_df = pd.read_csv('/content/multi_level_test_data.txt', header = None)\r\n",
        "cols = ['Low Res Image Paths', 'High Res Image Paths', 'Low Res Xoffset', 'Low Res Yoffset', 'High Res Xoffset', \r\n",
        "                                                     'High Res Yoffset', 'Labels', 'slide code', 'Low Res Level', 'High Res Level']\r\n",
        "train_df.columns, val_df.columns, test_df.columns = cols, cols, cols\r\n",
        "\r\n",
        "train_df = train_df.sample(frac=1).reset_index(drop=True)\r\n",
        "val_df = val_df.sample(frac=1).reset_index(drop=True)\r\n",
        "test_df = test_df.sample(frac=1).reset_index(drop=True)\r\n",
        "\r\n",
        "train_df['Labels'] = train_df['Labels'].astype(str)\r\n",
        "val_df['Labels'] = val_df['Labels'].astype(str)\r\n",
        "test_df['Labels'] = test_df['Labels'].astype(str)"
      ],
      "execution_count": 29,
      "outputs": []
    },
    {
      "cell_type": "code",
      "metadata": {
        "colab": {
          "base_uri": "https://localhost:8080/",
          "height": 223
        },
        "id": "hHrlvoBNf29k",
        "outputId": "0be0b2bd-8da3-4143-f281-94aad8aecd79"
      },
      "source": [
        "train_df.head()"
      ],
      "execution_count": 30,
      "outputs": [
        {
          "output_type": "execute_result",
          "data": {
            "text/html": [
              "<div>\n",
              "<style scoped>\n",
              "    .dataframe tbody tr th:only-of-type {\n",
              "        vertical-align: middle;\n",
              "    }\n",
              "\n",
              "    .dataframe tbody tr th {\n",
              "        vertical-align: top;\n",
              "    }\n",
              "\n",
              "    .dataframe thead th {\n",
              "        text-align: right;\n",
              "    }\n",
              "</style>\n",
              "<table border=\"1\" class=\"dataframe\">\n",
              "  <thead>\n",
              "    <tr style=\"text-align: right;\">\n",
              "      <th></th>\n",
              "      <th>Low Res Image Paths</th>\n",
              "      <th>High Res Image Paths</th>\n",
              "      <th>Low Res Xoffset</th>\n",
              "      <th>Low Res Yoffset</th>\n",
              "      <th>High Res Xoffset</th>\n",
              "      <th>High Res Yoffset</th>\n",
              "      <th>Labels</th>\n",
              "      <th>slide code</th>\n",
              "      <th>Low Res Level</th>\n",
              "      <th>High Res Level</th>\n",
              "    </tr>\n",
              "  </thead>\n",
              "  <tbody>\n",
              "    <tr>\n",
              "      <th>0</th>\n",
              "      <td>/content/multi_level/train_image/normal/slide0...</td>\n",
              "      <td>/content/multi_level/train_image/normal/slide0...</td>\n",
              "      <td>3328</td>\n",
              "      <td>8064</td>\n",
              "      <td>6804</td>\n",
              "      <td>16276</td>\n",
              "      <td>0</td>\n",
              "      <td>1</td>\n",
              "      <td>4</td>\n",
              "      <td>3</td>\n",
              "    </tr>\n",
              "    <tr>\n",
              "      <th>1</th>\n",
              "      <td>/content/multi_level/train_image/normal/slide0...</td>\n",
              "      <td>/content/multi_level/train_image/normal/slide0...</td>\n",
              "      <td>3456</td>\n",
              "      <td>7808</td>\n",
              "      <td>7060</td>\n",
              "      <td>15764</td>\n",
              "      <td>0</td>\n",
              "      <td>1</td>\n",
              "      <td>4</td>\n",
              "      <td>3</td>\n",
              "    </tr>\n",
              "    <tr>\n",
              "      <th>2</th>\n",
              "      <td>/content/multi_level/train_image/normal/slide0...</td>\n",
              "      <td>/content/multi_level/train_image/normal/slide0...</td>\n",
              "      <td>6144</td>\n",
              "      <td>2304</td>\n",
              "      <td>12436</td>\n",
              "      <td>4756</td>\n",
              "      <td>0</td>\n",
              "      <td>96</td>\n",
              "      <td>4</td>\n",
              "      <td>3</td>\n",
              "    </tr>\n",
              "    <tr>\n",
              "      <th>3</th>\n",
              "      <td>/content/multi_level/train_image/tumor/slide07...</td>\n",
              "      <td>/content/multi_level/train_image/tumor/slide07...</td>\n",
              "      <td>2304</td>\n",
              "      <td>4096</td>\n",
              "      <td>4756</td>\n",
              "      <td>8340</td>\n",
              "      <td>1</td>\n",
              "      <td>78</td>\n",
              "      <td>4</td>\n",
              "      <td>3</td>\n",
              "    </tr>\n",
              "    <tr>\n",
              "      <th>4</th>\n",
              "      <td>/content/multi_level/train_image/normal/slide0...</td>\n",
              "      <td>/content/multi_level/train_image/normal/slide0...</td>\n",
              "      <td>3456</td>\n",
              "      <td>3840</td>\n",
              "      <td>7060</td>\n",
              "      <td>7828</td>\n",
              "      <td>0</td>\n",
              "      <td>12</td>\n",
              "      <td>4</td>\n",
              "      <td>3</td>\n",
              "    </tr>\n",
              "  </tbody>\n",
              "</table>\n",
              "</div>"
            ],
            "text/plain": [
              "                                 Low Res Image Paths  ... High Res Level\n",
              "0  /content/multi_level/train_image/normal/slide0...  ...              3\n",
              "1  /content/multi_level/train_image/normal/slide0...  ...              3\n",
              "2  /content/multi_level/train_image/normal/slide0...  ...              3\n",
              "3  /content/multi_level/train_image/tumor/slide07...  ...              3\n",
              "4  /content/multi_level/train_image/normal/slide0...  ...              3\n",
              "\n",
              "[5 rows x 10 columns]"
            ]
          },
          "metadata": {
            "tags": []
          },
          "execution_count": 30
        }
      ]
    },
    {
      "cell_type": "code",
      "metadata": {
        "colab": {
          "base_uri": "https://localhost:8080/"
        },
        "id": "YFan6bIzlOni",
        "outputId": "c45fa7ee-62a1-47a5-9565-e4ff026b0b48"
      },
      "source": [
        "train_df.shape"
      ],
      "execution_count": 31,
      "outputs": [
        {
          "output_type": "execute_result",
          "data": {
            "text/plain": [
              "(6440, 10)"
            ]
          },
          "metadata": {
            "tags": []
          },
          "execution_count": 31
        }
      ]
    },
    {
      "cell_type": "code",
      "metadata": {
        "id": "2enN9JW6BUHq"
      },
      "source": [
        "from tensorflow.keras.preprocessing.image import ImageDataGenerator\n",
        "train_datagen = ImageDataGenerator(\n",
        "    rescale=1./255,\n",
        "    rotation_range=90,\n",
        "    horizontal_flip=True)\n",
        "test_datagen = ImageDataGenerator(rescale = 1./255)\n",
        "def data_generator_aug(train_datagen, df, train_image_dir):\n",
        "    train_generator1 = train_datagen.flow_from_dataframe(\n",
        "        dataframe = df,\n",
        "        directory = train_image_dir,\n",
        "        x_col = 'Low Res Image Paths',\n",
        "        y_col = 'Labels',\n",
        "        target_size = (IMG_SIZE, IMG_SIZE),\n",
        "        batch_size = batch_size,\n",
        "        class_mode = 'binary',\n",
        "        shuffle=False\n",
        "    )\n",
        "    train_generator2 = train_datagen.flow_from_dataframe(\n",
        "        dataframe = df,\n",
        "        directory = train_image_dir,\n",
        "        x_col = 'High Res Image Paths',\n",
        "        y_col = 'Labels',\n",
        "        target_size = (IMG_SIZE, IMG_SIZE),\n",
        "        batch_size = batch_size,\n",
        "        class_mode = 'binary',\n",
        "        shuffle=False\n",
        "    )\n",
        "    while True:\n",
        "        level1, label = next(train_generator1)\n",
        "        level2 = next(train_generator2)[0]\n",
        "        yield([level1, level2], label)"
      ],
      "execution_count": 107,
      "outputs": []
    },
    {
      "cell_type": "code",
      "metadata": {
        "id": "V2fP92COftSx"
      },
      "source": [
        "# from tensorflow.keras.preprocessing.image import ImageDataGenerator\r\n",
        "# def data_generator_aug(train_df, val_df, test_df, resolution = 'Low Res Image Paths'):\r\n",
        "#     # train set\r\n",
        "#     train_datagen = ImageDataGenerator(\r\n",
        "#         rescale=1./255,\r\n",
        "#         rotation_range=90,\r\n",
        "#         # width_shift_range=0.2,\r\n",
        "#         # height_shift_range=0.2,\r\n",
        "#         # shear_range=0.2,\r\n",
        "#         # zoom_range=0.2,\r\n",
        "#         horizontal_flip=True)\r\n",
        "#     test_datagen = ImageDataGenerator(rescale = 1./255)\r\n",
        "#     # train set\r\n",
        "#     train_generator = train_datagen.flow_from_dataframe(\r\n",
        "#         dataframe = train_df,\r\n",
        "#         directory = train_image_dir,\r\n",
        "#         x_col = resolution,\r\n",
        "#         y_col = 'Labels',\r\n",
        "#         target_size = (IMG_SIZE, IMG_SIZE),\r\n",
        "#         batch_size = batch_size,\r\n",
        "#         class_mode = 'binary',\r\n",
        "#         shuffle=False\r\n",
        "#     )\r\n",
        "#     validation_generator = test_datagen.flow_from_dataframe(\r\n",
        "#         dataframe = val_df,\r\n",
        "#         directory = val_image_dir,\r\n",
        "#         x_col = resolution,\r\n",
        "#         y_col = 'Labels',\r\n",
        "#         target_size = (IMG_SIZE, IMG_SIZE),\r\n",
        "#         batch_size = batch_size,\r\n",
        "#         class_mode = 'binary',\r\n",
        "#         shuffle=False\r\n",
        "#     )\r\n",
        "\r\n",
        "#     for data_batch, labels_batch in train_generator:\r\n",
        "#         print('Train data: ')\r\n",
        "#         print('data batch shape:', data_batch.shape)\r\n",
        "#         print('labels batch shape:', labels_batch.shape)\r\n",
        "#         break\r\n",
        "\r\n",
        "#     for data_batch, labels_batch in validation_generator:\r\n",
        "#         print('\\n')\r\n",
        "#         print('Validation data: ')\r\n",
        "#         print('data batch shape:', data_batch.shape)\r\n",
        "#         print('labels batch shape:', labels_batch.shape)\r\n",
        "#         break\r\n",
        "#     # test set\r\n",
        "#     test_generator = test_datagen.flow_from_dataframe(\r\n",
        "#         dataframe = test_df,\r\n",
        "#         directory = test_image_dir,\r\n",
        "#         x_col = resolution,\r\n",
        "#         y_col = 'Labels',\r\n",
        "#         target_size = (IMG_SIZE, IMG_SIZE),\r\n",
        "#         batch_size = batch_size,\r\n",
        "#         class_mode = 'binary',\r\n",
        "#         shuffle = False\r\n",
        "#     )\r\n",
        "#     return(train_generator, validation_generator, test_generator)"
      ],
      "execution_count": null,
      "outputs": []
    },
    {
      "cell_type": "markdown",
      "metadata": {
        "id": "mbSwgLu9LoWb"
      },
      "source": [
        "# Multi-level Model"
      ]
    },
    {
      "cell_type": "code",
      "metadata": {
        "id": "ZCwZBku-xQ-d"
      },
      "source": [
        "IMG_SIZE = 299\r\n",
        "batch_size = 8\r\n",
        "multi_train_generator = data_generator_aug(train_datagen, train_df, train_image_dir)\r\n",
        "multi_val_generator = data_generator_aug(test_datagen, val_df, val_image_dir)\r\n",
        "multi_test_generator = data_generator_aug(test_datagen, test_df, test_image_dir)"
      ],
      "execution_count": 108,
      "outputs": []
    },
    {
      "cell_type": "code",
      "metadata": {
        "id": "j1b8BGB_h_RS"
      },
      "source": [
        "\r\n",
        "# print('Low Res Images')\r\n",
        "# level4_train_generator, level4_validation_generator, level4_test_generator = data_generator_aug(train_df, val_df, test_df)\r\n",
        "# print()\r\n",
        "# print('High Res Images')\r\n",
        "# level3_train_generator, level3_validation_generator, level3_test_generator = data_generator_aug(train_df, val_df, test_df, 'High Res Image Paths')"
      ],
      "execution_count": 34,
      "outputs": []
    },
    {
      "cell_type": "code",
      "metadata": {
        "id": "YCtasDMDLZSN"
      },
      "source": [
        "# def combine_generator(gen1, gen2):\n",
        "#     while True:\n",
        "#         yield([next(gen1)[0], next(gen2)[0]], next(gen1)[1])"
      ],
      "execution_count": null,
      "outputs": []
    },
    {
      "cell_type": "code",
      "metadata": {
        "id": "IuRUKNvMLwMz"
      },
      "source": [
        "# multi_train_generator = combine_generator(level3_train_generator, level4_train_generator)\n",
        "# multi_val_generator = combine_generator(level3_validation_generator, level4_validation_generator)\n",
        "# multi_test_generator = combine_generator(level3_test_generator, level4_test_generator)"
      ],
      "execution_count": null,
      "outputs": []
    },
    {
      "cell_type": "code",
      "metadata": {
        "colab": {
          "base_uri": "https://localhost:8080/"
        },
        "id": "M6ME8s2FLye8",
        "outputId": "91dfcf5d-6778-474c-f5a8-476fd286c627"
      },
      "source": [
        "IMG_SIZE = 299\n",
        "vgg_base_1 = tf.keras.applications.VGG16(\n",
        "            include_top = False,\n",
        "            weights = 'imagenet',\n",
        "            input_shape = (IMG_SIZE, IMG_SIZE, 3),\n",
        "            pooling = None,\n",
        "            classes = 2,\n",
        "            classifier_activation = 'softmax',\n",
        "        )\n",
        "vgg_base_2 = tf.keras.applications.VGG16(\n",
        "            include_top = False,\n",
        "            weights = 'imagenet',\n",
        "            input_shape = (IMG_SIZE, IMG_SIZE, 3),\n",
        "            pooling = None,\n",
        "            classes = 2,\n",
        "            classifier_activation = 'softmax',\n",
        "        )\n",
        "vgg_base_1.trainable = False\n",
        "vgg_base_2.trainable = False\n",
        "\n",
        "\n",
        "high_res_level_input = tf.keras.layers.Input(shape=(IMG_SIZE, IMG_SIZE, 3))\n",
        "low_res_level_input = tf.keras.layers.Input(shape=(IMG_SIZE, IMG_SIZE, 3))\n",
        "\n",
        "# high resolution level\n",
        "high_res_vgg = tf.keras.Sequential([\n",
        "    vgg_base_1,\n",
        "    tf.keras.layers.GlobalAveragePooling2D(),\n",
        "    # tf.keras.layers.Flatten(),\n",
        "    # tf.keras.layers.Dense(128, activation='relu')\n",
        "])\n",
        "high_res_vgg_output = high_res_vgg(high_res_level_input)\n",
        "\n",
        "# low resolution level\n",
        "low_res_vgg = tf.keras.Sequential([\n",
        "    vgg_base_2,\n",
        "    tf.keras.layers.GlobalAveragePooling2D(),\n",
        "    # tf.keras.layers.Flatten(),\n",
        "    # tf.keras.layers.Dense(128, activation='relu'),\n",
        "])\n",
        "low_res_vgg_output = low_res_vgg(low_res_level_input)\n",
        "\n",
        "# concatenate two output layers as input\n",
        "concatenated_input = tf.keras.layers.concatenate([high_res_vgg_output, low_res_vgg_output], axis = -1)\n",
        "flattened = tf.keras.layers.Flatten()(concatenated_input)\n",
        "\n",
        "output = tf.keras.layers.Dense(128, activation=\"relu\")(flattened)\n",
        "output = tf.keras.layers.Dropout(0.4)(output)\n",
        "output = tf.keras.layers.Dense(2, activation=\"softmax\")(output)\n",
        "\n",
        "vgg_multi_resolution_model = tf.keras.Model(inputs=[high_res_level_input, low_res_level_input], outputs=output)\n",
        "vgg_multi_resolution_model.summary()\n",
        "\n",
        "vgg_multi_resolution_model.compile(optimizer = tf.keras.optimizers.Adam(learning_rate=0.001),\n",
        "                                   loss = 'sparse_categorical_crossentropy',\n",
        "                                   metrics = ['accuracy'])"
      ],
      "execution_count": 99,
      "outputs": [
        {
          "output_type": "stream",
          "text": [
            "Model: \"model_7\"\n",
            "__________________________________________________________________________________________________\n",
            "Layer (type)                    Output Shape         Param #     Connected to                     \n",
            "==================================================================================================\n",
            "input_31 (InputLayer)           [(None, 299, 299, 3) 0                                            \n",
            "__________________________________________________________________________________________________\n",
            "input_32 (InputLayer)           [(None, 299, 299, 3) 0                                            \n",
            "__________________________________________________________________________________________________\n",
            "sequential_14 (Sequential)      (None, 512)          14714688    input_31[0][0]                   \n",
            "__________________________________________________________________________________________________\n",
            "sequential_15 (Sequential)      (None, 512)          14714688    input_32[0][0]                   \n",
            "__________________________________________________________________________________________________\n",
            "concatenate_7 (Concatenate)     (None, 1024)         0           sequential_14[0][0]              \n",
            "                                                                 sequential_15[0][0]              \n",
            "__________________________________________________________________________________________________\n",
            "flatten_7 (Flatten)             (None, 1024)         0           concatenate_7[0][0]              \n",
            "__________________________________________________________________________________________________\n",
            "dense_14 (Dense)                (None, 128)          131200      flatten_7[0][0]                  \n",
            "__________________________________________________________________________________________________\n",
            "dropout_7 (Dropout)             (None, 128)          0           dense_14[0][0]                   \n",
            "__________________________________________________________________________________________________\n",
            "dense_15 (Dense)                (None, 2)            258         dropout_7[0][0]                  \n",
            "==================================================================================================\n",
            "Total params: 29,560,834\n",
            "Trainable params: 131,458\n",
            "Non-trainable params: 29,429,376\n",
            "__________________________________________________________________________________________________\n"
          ],
          "name": "stdout"
        }
      ]
    },
    {
      "cell_type": "code",
      "metadata": {
        "colab": {
          "base_uri": "https://localhost:8080/",
          "height": 661
        },
        "id": "NsWEdfMYL0H2",
        "outputId": "1f893c71-34c5-408f-963d-933984f81eca"
      },
      "source": [
        "tf.keras.utils.plot_model(vgg_multi_resolution_model)"
      ],
      "execution_count": 71,
      "outputs": [
        {
          "output_type": "execute_result",
          "data": {
            "image/png": "[encoded data removed]",
            "text/plain": [
              "<IPython.core.display.Image object>"
            ]
          },
          "metadata": {
            "tags": []
          },
          "execution_count": 71
        }
      ]
    },
    {
      "cell_type": "code",
      "metadata": {
        "id": "ZunFcLh_L1gI"
      },
      "source": [
        "if not os.path.exists('/content/checkpoint'):\n",
        "  os.mkdir('/content/checkpoint')\n",
        "if not os.path.exists('/content/checkpoint/VGG'):\n",
        "  os.mkdir('/content/checkpoint/VGG')\n",
        "multi_vgg_checkpoint_path = '/content/checkpoint/VGG/multi_level_weights-improvement-{epoch:02d}-{val_accuracy:.2f}-{val_loss:.2f}.hdf5'\n",
        "vgg_checkpoint_callback = tf.keras.callbacks.ModelCheckpoint(multi_vgg_checkpoint_path, \n",
        "                                                                    monitor='val_loss', \n",
        "                                                                    save_best_only=True, \n",
        "                                                                    mode='auto')\n",
        "\n",
        "vgg_early_stop_callback = tf.keras.callbacks.EarlyStopping(\n",
        "                              monitor='val_loss', min_delta=0, patience=10)"
      ],
      "execution_count": 100,
      "outputs": []
    },
    {
      "cell_type": "code",
      "metadata": {
        "id": "ZKu2X__9axvA",
        "colab": {
          "base_uri": "https://localhost:8080/"
        },
        "outputId": "2030014c-92c2-491e-fa21-0b0952e8ad2f"
      },
      "source": [
        "for data_batch, labels_batch in multi_train_generator:\r\n",
        "    print('Train data: ')\r\n",
        "    print('data batch shape:', len(data_batch))\r\n",
        "    print('data batch', data_batch[0].shape)\r\n",
        "    print('data batch2', data_batch[1].shape)\r\n",
        "    print('labels batch shape:', labels_batch.shape)\r\n",
        "    break"
      ],
      "execution_count": 109,
      "outputs": [
        {
          "output_type": "stream",
          "text": [
            "Found 6440 validated image filenames belonging to 2 classes.\n",
            "Found 6440 validated image filenames belonging to 2 classes.\n",
            "Train data: \n",
            "data batch shape: 2\n",
            "data batch (8, 299, 299, 3)\n",
            "data batch2 (8, 299, 299, 3)\n",
            "labels batch shape: (8,)\n"
          ],
          "name": "stdout"
        }
      ]
    },
    {
      "cell_type": "code",
      "metadata": {
        "colab": {
          "base_uri": "https://localhost:8080/"
        },
        "id": "xNAHH6o_Y1eI",
        "outputId": "5e33cf8e-4a82-4785-d507-340bd9b3a858"
      },
      "source": [
        "for data_batch, labels_batch in multi_val_generator:\r\n",
        "    print('Train data: ')\r\n",
        "    print('data batch shape:', len(data_batch))\r\n",
        "    print('data batch', data_batch[0].shape)\r\n",
        "    print('data batch2', data_batch[1].shape)\r\n",
        "    print('labels batch shape:', labels_batch.shape)\r\n",
        "    break"
      ],
      "execution_count": 110,
      "outputs": [
        {
          "output_type": "stream",
          "text": [
            "Found 1458 validated image filenames belonging to 2 classes.\n",
            "Found 1458 validated image filenames belonging to 2 classes.\n",
            "Train data: \n",
            "data batch shape: 2\n",
            "data batch (8, 299, 299, 3)\n",
            "data batch2 (8, 299, 299, 3)\n",
            "labels batch shape: (8,)\n"
          ],
          "name": "stdout"
        }
      ]
    },
    {
      "cell_type": "code",
      "metadata": {
        "id": "mbPfgvffbRNP"
      },
      "source": [
        "steps_per_epoch = train_df.shape[0] // batch_size\r\n",
        "validation_steps = val_df.shape[0] // batch_size\r\n",
        "# steps_per_epoch = 6400 // batch_size\r\n",
        "# validation_steps = 1400 // batch_size"
      ],
      "execution_count": 111,
      "outputs": []
    },
    {
      "cell_type": "code",
      "metadata": {
        "colab": {
          "base_uri": "https://localhost:8080/"
        },
        "id": "JiG8fXMWdGhL",
        "outputId": "d95a2002-1091-4862-84ed-dc7255fec974"
      },
      "source": [
        "epochs = 10\r\n",
        "multi_level_vgg_history = vgg_multi_resolution_model.fit(multi_train_generator, \r\n",
        "                                                          epochs = epochs,\r\n",
        "                                                          steps_per_epoch = steps_per_epoch,\r\n",
        "                                                          validation_steps = validation_steps,\r\n",
        "                                                          validation_data=multi_val_generator,\r\n",
        "                                                          callbacks=[vgg_checkpoint_callback, \r\n",
        "                                                                    vgg_early_stop_callback])"
      ],
      "execution_count": 112,
      "outputs": [
        {
          "output_type": "stream",
          "text": [
            "Epoch 1/10\n",
            "805/805 [==============================] - 299s 372ms/step - loss: 0.2345 - accuracy: 0.9179 - val_loss: 0.0781 - val_accuracy: 0.9828\n",
            "Epoch 2/10\n",
            "805/805 [==============================] - 291s 362ms/step - loss: 0.1910 - accuracy: 0.9339 - val_loss: 0.0676 - val_accuracy: 0.9828\n",
            "Epoch 3/10\n",
            "805/805 [==============================] - 276s 344ms/step - loss: 0.1756 - accuracy: 0.9424 - val_loss: 0.0706 - val_accuracy: 0.9793\n",
            "Epoch 4/10\n",
            "805/805 [==============================] - 301s 375ms/step - loss: 0.1707 - accuracy: 0.9429 - val_loss: 0.0666 - val_accuracy: 0.9793\n",
            "Epoch 5/10\n",
            "805/805 [==============================] - 291s 361ms/step - loss: 0.1578 - accuracy: 0.9469 - val_loss: 0.0663 - val_accuracy: 0.9786\n",
            "Epoch 6/10\n",
            "805/805 [==============================] - 296s 369ms/step - loss: 0.1591 - accuracy: 0.9464 - val_loss: 0.0678 - val_accuracy: 0.9786\n",
            "Epoch 7/10\n",
            "805/805 [==============================] - 288s 358ms/step - loss: 0.1546 - accuracy: 0.9495 - val_loss: 0.0741 - val_accuracy: 0.9745\n",
            "Epoch 8/10\n",
            "805/805 [==============================] - 281s 350ms/step - loss: 0.1480 - accuracy: 0.9508 - val_loss: 0.0669 - val_accuracy: 0.9793\n",
            "Epoch 9/10\n",
            "805/805 [==============================] - 310s 385ms/step - loss: 0.1480 - accuracy: 0.9520 - val_loss: 0.0717 - val_accuracy: 0.9766\n",
            "Epoch 10/10\n",
            "805/805 [==============================] - 304s 378ms/step - loss: 0.1455 - accuracy: 0.9522 - val_loss: 0.0792 - val_accuracy: 0.9717\n"
          ],
          "name": "stdout"
        }
      ]
    },
    {
      "cell_type": "code",
      "metadata": {
        "colab": {
          "base_uri": "https://localhost:8080/",
          "height": 588
        },
        "id": "cU5GNyL3o3YQ",
        "outputId": "d3fd4692-2b70-4f04-d226-ba157a663cf4"
      },
      "source": [
        "acc = multi_level_vgg_history.history['accuracy']\n",
        "val_acc = multi_level_vgg_history.history['val_accuracy']\n",
        "loss = multi_level_vgg_history.history['loss']\n",
        "val_loss = multi_level_vgg_history.history['val_loss']\n",
        "\n",
        "\n",
        "plt.title('Training and validation accuracy')\n",
        "plt.plot(range(epochs), acc, color='blue', label='Train')\n",
        "plt.plot(range(epochs), val_acc, color='orange', label='Val')\n",
        "plt.xlabel('Epoch')\n",
        "plt.ylabel('Accuracy')\n",
        "plt.legend()\n",
        "\n",
        "_ = plt.figure()\n",
        "plt.title('Training and validation loss')\n",
        "plt.plot(range(epochs), loss, color='blue', label='Train')\n",
        "plt.plot(range(epochs), val_loss, color='orange', label='Val')\n",
        "plt.xlabel('Epoch')\n",
        "plt.ylabel('Loss')\n",
        "plt.legend()"
      ],
      "execution_count": 113,
      "outputs": [
        {
          "output_type": "execute_result",
          "data": {
            "text/plain": [
              "<matplotlib.legend.Legend at 0x7f0ff7ea60f0>"
            ]
          },
          "metadata": {
            "tags": []
          },
          "execution_count": 113
        },
        {
          "output_type": "display_data",
          "data": {
            "image/png": "[encoded data removed]",
            "text/plain": [
              "<Figure size 432x288 with 1 Axes>"
            ]
          },
          "metadata": {
            "tags": [],
            "needs_background": "light"
          }
        },
        {
          "output_type": "display_data",
          "data": {
            "image/png": "[encoded data removed]",
            "text/plain": [
              "<Figure size 432x288 with 1 Axes>"
            ]
          },
          "metadata": {
            "tags": [],
            "needs_background": "light"
          }
        }
      ]
    },
    {
      "cell_type": "code",
      "metadata": {
        "colab": {
          "base_uri": "https://localhost:8080/"
        },
        "id": "f0TGf-69-fK3",
        "outputId": "022b560a-9054-4369-c7e3-62c932fd59fb"
      },
      "source": [
        "print(\"Evaluate on test data\")\n",
        "results = vgg_multi_resolution_model.evaluate(multi_test_generator, steps = test_df.shape[0]//batch_size)\n",
        "print(\"test loss, test acc:\", results)"
      ],
      "execution_count": 114,
      "outputs": [
        {
          "output_type": "stream",
          "text": [
            "Evaluate on test data\n",
            "Found 1274 validated image filenames belonging to 2 classes.\n",
            "Found 1274 validated image filenames belonging to 2 classes.\n",
            "159/159 [==============================] - 11s 67ms/step - loss: 0.3836 - accuracy: 0.8648\n",
            "test loss, test acc: [0.3836168646812439, 0.8647798895835876]\n"
          ],
          "name": "stdout"
        }
      ]
    },
    {
      "cell_type": "code",
      "metadata": {
        "colab": {
          "base_uri": "https://localhost:8080/"
        },
        "id": "6vATsgGi-qcC",
        "outputId": "2947a9ee-c8c6-4ee6-fe92-7075bbfadcad"
      },
      "source": [
        "predictions = vgg_multi_resolution_model.predict(multi_test_generator, steps = test_df.shape[0]//batch_size)\n",
        "tumor_prob = predictions[:,1]\n",
        "y_pred = np.round(tumor_prob)\n",
        "# y_pred = np.argmax(predictions, axis=-1)\n",
        "y_true = test_df.Labels[:len(y_pred)].values.astype('int')\n",
        "\n",
        "from sklearn.metrics import classification_report\n",
        "print(classification_report(y_true, y_pred))"
      ],
      "execution_count": 116,
      "outputs": [
        {
          "output_type": "stream",
          "text": [
            "              precision    recall  f1-score   support\n",
            "\n",
            "           0       0.85      0.97      0.90       840\n",
            "           1       0.91      0.66      0.77       432\n",
            "\n",
            "    accuracy                           0.86      1272\n",
            "   macro avg       0.88      0.82      0.84      1272\n",
            "weighted avg       0.87      0.86      0.86      1272\n",
            "\n"
          ],
          "name": "stdout"
        }
      ]
    },
    {
      "cell_type": "code",
      "metadata": {
        "id": "8gF5m7qqkBX5"
      },
      "source": [
        "# vgg_multi_resolution_model.save('/content/multi_level_vgg_model.h5')"
      ],
      "execution_count": 117,
      "outputs": []
    },
    {
      "cell_type": "code",
      "metadata": {
        "colab": {
          "base_uri": "https://localhost:8080/"
        },
        "id": "F4pFPa7dpMKA",
        "outputId": "40b3e036-ebb5-40cd-f332-511db36b0c25"
      },
      "source": [
        "vgg_base_1.trainable = True\n",
        "vgg_base_2.trainable = True\n",
        "\n",
        "vgg_multi_resolution_model.compile(optimizer = tf.keras.optimizers.Adam(learning_rate=0.0001),\n",
        "                                   loss = 'sparse_categorical_crossentropy',\n",
        "                                   metrics = ['accuracy'])\n",
        "vgg_multi_resolution_model.summary()"
      ],
      "execution_count": 137,
      "outputs": [
        {
          "output_type": "stream",
          "text": [
            "Model: \"model_7\"\n",
            "__________________________________________________________________________________________________\n",
            "Layer (type)                    Output Shape         Param #     Connected to                     \n",
            "==================================================================================================\n",
            "input_31 (InputLayer)           [(None, 299, 299, 3) 0                                            \n",
            "__________________________________________________________________________________________________\n",
            "input_32 (InputLayer)           [(None, 299, 299, 3) 0                                            \n",
            "__________________________________________________________________________________________________\n",
            "sequential_14 (Sequential)      (None, 512)          14714688    input_31[0][0]                   \n",
            "__________________________________________________________________________________________________\n",
            "sequential_15 (Sequential)      (None, 512)          14714688    input_32[0][0]                   \n",
            "__________________________________________________________________________________________________\n",
            "concatenate_7 (Concatenate)     (None, 1024)         0           sequential_14[0][0]              \n",
            "                                                                 sequential_15[0][0]              \n",
            "__________________________________________________________________________________________________\n",
            "flatten_7 (Flatten)             (None, 1024)         0           concatenate_7[0][0]              \n",
            "__________________________________________________________________________________________________\n",
            "dense_14 (Dense)                (None, 128)          131200      flatten_7[0][0]                  \n",
            "__________________________________________________________________________________________________\n",
            "dropout_7 (Dropout)             (None, 128)          0           dense_14[0][0]                   \n",
            "__________________________________________________________________________________________________\n",
            "dense_15 (Dense)                (None, 2)            258         dropout_7[0][0]                  \n",
            "==================================================================================================\n",
            "Total params: 29,560,834\n",
            "Trainable params: 29,560,834\n",
            "Non-trainable params: 0\n",
            "__________________________________________________________________________________________________\n"
          ],
          "name": "stdout"
        }
      ]
    },
    {
      "cell_type": "code",
      "metadata": {
        "colab": {
          "base_uri": "https://localhost:8080/"
        },
        "id": "6yannuMwpVBx",
        "outputId": "514b28a9-0ad1-4839-c4ef-fc6b87ad2847"
      },
      "source": [
        "epochs = 10\n",
        "multi_level_vgg_history_tf = vgg_multi_resolution_model.fit(multi_train_generator, \n",
        "                                                          epochs = epochs,\n",
        "                                                          steps_per_epoch = steps_per_epoch,\n",
        "                                                          validation_steps = validation_steps,\n",
        "                                                          validation_data=multi_val_generator,\n",
        "                                                          callbacks=[vgg_checkpoint_callback, \n",
        "                                                                    vgg_early_stop_callback])"
      ],
      "execution_count": 138,
      "outputs": [
        {
          "output_type": "stream",
          "text": [
            "Epoch 1/10\n",
            "805/805 [==============================] - 336s 416ms/step - loss: 0.3765 - accuracy: 0.8948 - val_loss: 0.0952 - val_accuracy: 0.9821\n",
            "Epoch 2/10\n",
            "805/805 [==============================] - 333s 413ms/step - loss: 0.3692 - accuracy: 0.8941 - val_loss: 0.0752 - val_accuracy: 0.9821\n",
            "Epoch 3/10\n",
            "805/805 [==============================] - 337s 420ms/step - loss: 0.2827 - accuracy: 0.8992 - val_loss: 0.0907 - val_accuracy: 0.9821\n",
            "Epoch 4/10\n",
            "805/805 [==============================] - 350s 436ms/step - loss: 0.2632 - accuracy: 0.9003 - val_loss: 0.0874 - val_accuracy: 0.9821\n",
            "Epoch 5/10\n",
            "805/805 [==============================] - 354s 439ms/step - loss: 0.2550 - accuracy: 0.9118 - val_loss: 0.0876 - val_accuracy: 0.9821\n",
            "Epoch 6/10\n",
            "805/805 [==============================] - 350s 435ms/step - loss: 0.2581 - accuracy: 0.9154 - val_loss: 0.0713 - val_accuracy: 0.9821\n",
            "Epoch 7/10\n",
            "805/805 [==============================] - 349s 434ms/step - loss: 0.1950 - accuracy: 0.9392 - val_loss: 0.0788 - val_accuracy: 0.9869\n",
            "Epoch 8/10\n",
            "805/805 [==============================] - 332s 413ms/step - loss: 0.1569 - accuracy: 0.9521 - val_loss: 0.1124 - val_accuracy: 0.9697\n",
            "Epoch 9/10\n",
            "805/805 [==============================] - 343s 426ms/step - loss: 0.1474 - accuracy: 0.9537 - val_loss: 0.0815 - val_accuracy: 0.9869\n",
            "Epoch 10/10\n",
            "805/805 [==============================] - 355s 442ms/step - loss: 0.1373 - accuracy: 0.9597 - val_loss: 0.0827 - val_accuracy: 0.9786\n"
          ],
          "name": "stdout"
        }
      ]
    },
    {
      "cell_type": "code",
      "metadata": {
        "colab": {
          "base_uri": "https://localhost:8080/",
          "height": 588
        },
        "id": "FiG0v6TBpfrQ",
        "outputId": "5e3a3454-0960-4d91-fd7f-032bd64d05bc"
      },
      "source": [
        "acc = multi_level_vgg_history_tf.history['accuracy']\n",
        "val_acc = multi_level_vgg_history_tf.history['val_accuracy']\n",
        "loss = multi_level_vgg_history_tf.history['loss']\n",
        "val_loss = multi_level_vgg_history_tf.history['val_loss']\n",
        "\n",
        "\n",
        "plt.title('Training and validation accuracy')\n",
        "plt.plot(range(epochs), acc, color='blue', label='Train')\n",
        "plt.plot(range(epochs), val_acc, color='orange', label='Val')\n",
        "plt.xlabel('Epoch')\n",
        "plt.ylabel('Accuracy')\n",
        "plt.legend()\n",
        "\n",
        "_ = plt.figure()\n",
        "plt.title('Training and validation loss')\n",
        "plt.plot(range(epochs), loss, color='blue', label='Train')\n",
        "plt.plot(range(epochs), val_loss, color='orange', label='Val')\n",
        "plt.xlabel('Epoch')\n",
        "plt.ylabel('Loss')\n",
        "plt.legend()"
      ],
      "execution_count": 140,
      "outputs": [
        {
          "output_type": "execute_result",
          "data": {
            "text/plain": [
              "<matplotlib.legend.Legend at 0x7f13ce3e94a8>"
            ]
          },
          "metadata": {
            "tags": []
          },
          "execution_count": 140
        },
        {
          "output_type": "display_data",
          "data": {
            "image/png": "[encoded data removed]",
            "text/plain": [
              "<Figure size 432x288 with 1 Axes>"
            ]
          },
          "metadata": {
            "tags": [],
            "needs_background": "light"
          }
        },
        {
          "output_type": "display_data",
          "data": {
            "image/png": "[encoded data removed]",
            "text/plain": [
              "<Figure size 432x288 with 1 Axes>"
            ]
          },
          "metadata": {
            "tags": [],
            "needs_background": "light"
          }
        }
      ]
    },
    {
      "cell_type": "code",
      "metadata": {
        "colab": {
          "base_uri": "https://localhost:8080/"
        },
        "id": "-ir-tg7wpeW7",
        "outputId": "c63390ea-b406-42fc-c4aa-bf5a5940439a"
      },
      "source": [
        "print(\"Evaluate on test data\")\n",
        "results = vgg_multi_resolution_model.evaluate(multi_test_generator, steps = test_df.shape[0]//batch_size)\n",
        "print(\"test loss, test acc:\", results)"
      ],
      "execution_count": 141,
      "outputs": [
        {
          "output_type": "stream",
          "text": [
            "Evaluate on test data\n",
            "159/159 [==============================] - 11s 69ms/step - loss: 0.2231 - accuracy: 0.8868\n",
            "test loss, test acc: [0.22306832671165466, 0.8867924809455872]\n"
          ],
          "name": "stdout"
        }
      ]
    },
    {
      "cell_type": "code",
      "metadata": {
        "colab": {
          "base_uri": "https://localhost:8080/"
        },
        "id": "jVeTNxza-5QE",
        "outputId": "77db3163-1371-41ec-dc48-b20913c4acbc"
      },
      "source": [
        "predictions = vgg_multi_resolution_model.predict(multi_test_generator, steps = test_df.shape[0]//batch_size)\n",
        "tumor_prob = predictions[:,1]\n",
        "y_pred = np.round(tumor_prob)\n",
        "# y_pred = np.argmax(predictions, axis=-1)\n",
        "y_true = test_df.Labels[:len(y_pred)].values.astype('int')\n",
        "\n",
        "from sklearn.metrics import classification_report\n",
        "print(classification_report(y_true, y_pred))"
      ],
      "execution_count": 142,
      "outputs": [
        {
          "output_type": "stream",
          "text": [
            "              precision    recall  f1-score   support\n",
            "\n",
            "           0       0.86      1.00      0.92       840\n",
            "           1       0.99      0.67      0.80       432\n",
            "\n",
            "    accuracy                           0.89      1272\n",
            "   macro avg       0.92      0.83      0.86      1272\n",
            "weighted avg       0.90      0.89      0.88      1272\n",
            "\n"
          ],
          "name": "stdout"
        }
      ]
    },
    {
      "cell_type": "code",
      "metadata": {
        "id": "TTbD-ZaW_G4Q"
      },
      "source": [
        ""
      ],
      "execution_count": null,
      "outputs": []
    }
  ]
}